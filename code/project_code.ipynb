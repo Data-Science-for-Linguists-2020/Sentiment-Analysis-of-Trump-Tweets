{
 "cells": [
  {
   "cell_type": "markdown",
   "metadata": {},
   "source": [
    "# Project Code\n",
    "#### Joey Livorno | gil15@pitt.edu | 3.16.2020 | EXISTING"
   ]
  },
  {
   "cell_type": "markdown",
   "metadata": {},
   "source": [
    "## Table of Contents\n",
    "- **[Introduction](#Introduction)**\n",
    "- **[Basic Data Processing](#Basic-Data-Processing)**\n",
    "    - [Trump Tweets](#Trump-Tweets)\n",
    "    - [All Tweets](#All-Tweets)\n",
    "- **[Exploratory Data Analysis](#Exploratory-Data-Analysis)**\n",
    "- **[Linguistic Analysis](#Linguistic-Analysis)**\n",
    "- **[Machine Learning](#Machine-Learning)**\n",
    "    - [Trump or Not Trump](#Trump-or-Not-Trump)\n",
    "    - [Predicting Sentiment](#Predicting-Sentiment)\n",
    "- **[Conclusion](#Conclusion)**"
   ]
  },
  {
   "cell_type": "markdown",
   "metadata": {},
   "source": [
    "## Introduction\n",
    "\n",
    "The purpose of this project is to process the contents of Donald Trump's Twitter feed and make linguistic and statistical discoveries based on the data, specifically using sentiment analysis. In the second part of the project, we will build a machine learning model that will predict whether or not a tweet was composed by Donald Trump."
   ]
  },
  {
   "cell_type": "markdown",
   "metadata": {},
   "source": [
    "These are the required libraries for this assignment:"
   ]
  },
  {
   "cell_type": "code",
   "execution_count": 1,
   "metadata": {},
   "outputs": [],
   "source": [
    "#import libraries\n",
    "import numpy as np\n",
    "import pandas as pd\n",
    "import re\n",
    "from nltk.tokenize import word_tokenize\n",
    "from textblob import TextBlob as tb ##TextBlob object will allow for quick sentiment analysis\n",
    "\n",
    "from IPython.core.interactiveshell import InteractiveShell\n",
    "InteractiveShell.ast_node_interactivity = \"all\""
   ]
  },
  {
   "cell_type": "code",
   "execution_count": 2,
   "metadata": {},
   "outputs": [],
   "source": [
    "import matplotlib\n",
    "import matplotlib.pyplot as plt\n",
    "imgdir = \"../images/\""
   ]
  },
  {
   "cell_type": "markdown",
   "metadata": {},
   "source": [
    "## Basic Data Processing\n",
    "\n",
    "This section of the code will focus on reading in the twitter data and manipulating it into a much more workable object than simply the raw .csv file. In the first section, this will be done for the Trump tweets that I am looking to analyze, and in the second it will be done with that data as well as the .csv file of random US tweets.\n",
    "\n",
    "### Trump Tweets\n",
    "The first effort of data processing will go towards creating the dataframe that will contain exclusively Trump tweets.\n",
    "\n",
    "The first step is to read the .csv file into a pandas dataframe:"
   ]
  },
  {
   "cell_type": "code",
   "execution_count": 3,
   "metadata": {
    "scrolled": false
   },
   "outputs": [
    {
     "data": {
      "text/html": [
       "<div>\n",
       "<style scoped>\n",
       "    .dataframe tbody tr th:only-of-type {\n",
       "        vertical-align: middle;\n",
       "    }\n",
       "\n",
       "    .dataframe tbody tr th {\n",
       "        vertical-align: top;\n",
       "    }\n",
       "\n",
       "    .dataframe thead th {\n",
       "        text-align: right;\n",
       "    }\n",
       "</style>\n",
       "<table border=\"1\" class=\"dataframe\">\n",
       "  <thead>\n",
       "    <tr style=\"text-align: right;\">\n",
       "      <th></th>\n",
       "      <th>source</th>\n",
       "      <th>text</th>\n",
       "      <th>created_at</th>\n",
       "      <th>retweet_count</th>\n",
       "      <th>favorite_count</th>\n",
       "      <th>is_retweet</th>\n",
       "      <th>id_str</th>\n",
       "    </tr>\n",
       "  </thead>\n",
       "  <tbody>\n",
       "    <tr>\n",
       "      <td>0</td>\n",
       "      <td>Twitter for iPhone</td>\n",
       "      <td>Crazy “Nancy Pelosi you are a weak person. You...</td>\n",
       "      <td>04-16-2020 13:33:08</td>\n",
       "      <td>9593.0</td>\n",
       "      <td>34528.0</td>\n",
       "      <td>FALSE</td>\n",
       "      <td>1250779261595783168</td>\n",
       "    </tr>\n",
       "    <tr>\n",
       "      <td>1</td>\n",
       "      <td>Twitter for iPhone</td>\n",
       "      <td>.@OANN Poll “Gives President Trump a 52% Appro...</td>\n",
       "      <td>04-16-2020 13:12:40</td>\n",
       "      <td>5915.0</td>\n",
       "      <td>25884.0</td>\n",
       "      <td>FALSE</td>\n",
       "      <td>1250774109144875008</td>\n",
       "    </tr>\n",
       "    <tr>\n",
       "      <td>2</td>\n",
       "      <td>Twitter for iPhone</td>\n",
       "      <td>RT @WhiteHouse: The Federal government has ord...</td>\n",
       "      <td>04-15-2020 22:51:36</td>\n",
       "      <td>8035.0</td>\n",
       "      <td>0.0</td>\n",
       "      <td>TRUE</td>\n",
       "      <td>1250557416078532617</td>\n",
       "    </tr>\n",
       "    <tr>\n",
       "      <td>3</td>\n",
       "      <td>Twitter for iPhone</td>\n",
       "      <td>RT @WhiteHouse: In 11 days @GM sourced materia...</td>\n",
       "      <td>04-15-2020 22:51:22</td>\n",
       "      <td>7494.0</td>\n",
       "      <td>0.0</td>\n",
       "      <td>TRUE</td>\n",
       "      <td>1250557356238389248</td>\n",
       "    </tr>\n",
       "    <tr>\n",
       "      <td>4</td>\n",
       "      <td>Twitter for iPhone</td>\n",
       "      <td>RT @WhiteHouse: We are using every available a...</td>\n",
       "      <td>04-15-2020 22:51:20</td>\n",
       "      <td>7360.0</td>\n",
       "      <td>0.0</td>\n",
       "      <td>TRUE</td>\n",
       "      <td>1250557346193031168</td>\n",
       "    </tr>\n",
       "  </tbody>\n",
       "</table>\n",
       "</div>"
      ],
      "text/plain": [
       "               source                                               text  \\\n",
       "0  Twitter for iPhone  Crazy “Nancy Pelosi you are a weak person. You...   \n",
       "1  Twitter for iPhone  .@OANN Poll “Gives President Trump a 52% Appro...   \n",
       "2  Twitter for iPhone  RT @WhiteHouse: The Federal government has ord...   \n",
       "3  Twitter for iPhone  RT @WhiteHouse: In 11 days @GM sourced materia...   \n",
       "4  Twitter for iPhone  RT @WhiteHouse: We are using every available a...   \n",
       "\n",
       "            created_at  retweet_count  favorite_count is_retweet  \\\n",
       "0  04-16-2020 13:33:08         9593.0         34528.0      FALSE   \n",
       "1  04-16-2020 13:12:40         5915.0         25884.0      FALSE   \n",
       "2  04-15-2020 22:51:36         8035.0             0.0       TRUE   \n",
       "3  04-15-2020 22:51:22         7494.0             0.0       TRUE   \n",
       "4  04-15-2020 22:51:20         7360.0             0.0       TRUE   \n",
       "\n",
       "                id_str  \n",
       "0  1250779261595783168  \n",
       "1  1250774109144875008  \n",
       "2  1250557416078532617  \n",
       "3  1250557356238389248  \n",
       "4  1250557346193031168  "
      ]
     },
     "execution_count": 3,
     "metadata": {},
     "output_type": "execute_result"
    }
   ],
   "source": [
    "#read tweet information into dataframe\n",
    "#headers = ['source', 'text', 'created_at', 'retweet_count', 'favorite_count', 'is_retweet', 'id_str']\n",
    "dtypes = {'source': 'str', 'text': 'str', 'created_at': 'str', 'retweet_count': 'float', 'id_str': 'str'}\n",
    "tweets = pd.read_csv('../data/tweets3.csv', dtype=dtypes)\n",
    "\n",
    "#file contains null values\n",
    "tweets['favorite_count'] = pd.to_numeric(tweets['favorite_count'], errors='coerce')\n",
    "tweets = tweets.dropna()\n",
    "tweets.head() #preview the df"
   ]
  },
  {
   "cell_type": "markdown",
   "metadata": {},
   "source": [
    "Next we will use the TextBlob library to assign each of the tweets a polarity and subjectivity value. Polarity is on a scale from -1 to 1 and describes how positive or negative the tweet is, -1 being negative and 1 being positive. Subjectivity is on a scale from 0 to 1 and describes whether or not the text is presented as a fact or an opinion. For this measure, 0 would be objective information and 1 would be subjective information."
   ]
  },
  {
   "cell_type": "code",
   "execution_count": 4,
   "metadata": {},
   "outputs": [],
   "source": [
    "#create series objects of the polarity and subjectivity of the tweets\n",
    "polarity = tweets.text.map(lambda x: tb(x).sentiment.polarity)\n",
    "subjectivity = tweets.text.map(lambda x: tb(x).sentiment.subjectivity)"
   ]
  },
  {
   "cell_type": "markdown",
   "metadata": {},
   "source": [
    "Then we will create new columns for each of the new series:"
   ]
  },
  {
   "cell_type": "code",
   "execution_count": 5,
   "metadata": {},
   "outputs": [
    {
     "data": {
      "text/html": [
       "<div>\n",
       "<style scoped>\n",
       "    .dataframe tbody tr th:only-of-type {\n",
       "        vertical-align: middle;\n",
       "    }\n",
       "\n",
       "    .dataframe tbody tr th {\n",
       "        vertical-align: top;\n",
       "    }\n",
       "\n",
       "    .dataframe thead th {\n",
       "        text-align: right;\n",
       "    }\n",
       "</style>\n",
       "<table border=\"1\" class=\"dataframe\">\n",
       "  <thead>\n",
       "    <tr style=\"text-align: right;\">\n",
       "      <th></th>\n",
       "      <th>source</th>\n",
       "      <th>text</th>\n",
       "      <th>created_at</th>\n",
       "      <th>retweet_count</th>\n",
       "      <th>favorite_count</th>\n",
       "      <th>is_retweet</th>\n",
       "      <th>id_str</th>\n",
       "      <th>polarity</th>\n",
       "      <th>subjectivity</th>\n",
       "    </tr>\n",
       "  </thead>\n",
       "  <tbody>\n",
       "    <tr>\n",
       "      <td>0</td>\n",
       "      <td>Twitter for iPhone</td>\n",
       "      <td>Crazy “Nancy Pelosi you are a weak person. You...</td>\n",
       "      <td>04-16-2020 13:33:08</td>\n",
       "      <td>9593.0</td>\n",
       "      <td>34528.0</td>\n",
       "      <td>FALSE</td>\n",
       "      <td>1250779261595783168</td>\n",
       "      <td>-0.3875</td>\n",
       "      <td>0.514583</td>\n",
       "    </tr>\n",
       "    <tr>\n",
       "      <td>1</td>\n",
       "      <td>Twitter for iPhone</td>\n",
       "      <td>.@OANN Poll “Gives President Trump a 52% Appro...</td>\n",
       "      <td>04-16-2020 13:12:40</td>\n",
       "      <td>5915.0</td>\n",
       "      <td>25884.0</td>\n",
       "      <td>FALSE</td>\n",
       "      <td>1250774109144875008</td>\n",
       "      <td>-0.1250</td>\n",
       "      <td>0.375000</td>\n",
       "    </tr>\n",
       "    <tr>\n",
       "      <td>2</td>\n",
       "      <td>Twitter for iPhone</td>\n",
       "      <td>RT @WhiteHouse: The Federal government has ord...</td>\n",
       "      <td>04-15-2020 22:51:36</td>\n",
       "      <td>8035.0</td>\n",
       "      <td>0.0</td>\n",
       "      <td>TRUE</td>\n",
       "      <td>1250557416078532617</td>\n",
       "      <td>0.0000</td>\n",
       "      <td>0.000000</td>\n",
       "    </tr>\n",
       "    <tr>\n",
       "      <td>3</td>\n",
       "      <td>Twitter for iPhone</td>\n",
       "      <td>RT @WhiteHouse: In 11 days @GM sourced materia...</td>\n",
       "      <td>04-15-2020 22:51:22</td>\n",
       "      <td>7494.0</td>\n",
       "      <td>0.0</td>\n",
       "      <td>TRUE</td>\n",
       "      <td>1250557356238389248</td>\n",
       "      <td>0.0000</td>\n",
       "      <td>0.000000</td>\n",
       "    </tr>\n",
       "    <tr>\n",
       "      <td>4</td>\n",
       "      <td>Twitter for iPhone</td>\n",
       "      <td>RT @WhiteHouse: We are using every available a...</td>\n",
       "      <td>04-15-2020 22:51:20</td>\n",
       "      <td>7360.0</td>\n",
       "      <td>0.0</td>\n",
       "      <td>TRUE</td>\n",
       "      <td>1250557346193031168</td>\n",
       "      <td>0.4000</td>\n",
       "      <td>0.400000</td>\n",
       "    </tr>\n",
       "  </tbody>\n",
       "</table>\n",
       "</div>"
      ],
      "text/plain": [
       "               source                                               text  \\\n",
       "0  Twitter for iPhone  Crazy “Nancy Pelosi you are a weak person. You...   \n",
       "1  Twitter for iPhone  .@OANN Poll “Gives President Trump a 52% Appro...   \n",
       "2  Twitter for iPhone  RT @WhiteHouse: The Federal government has ord...   \n",
       "3  Twitter for iPhone  RT @WhiteHouse: In 11 days @GM sourced materia...   \n",
       "4  Twitter for iPhone  RT @WhiteHouse: We are using every available a...   \n",
       "\n",
       "            created_at  retweet_count  favorite_count is_retweet  \\\n",
       "0  04-16-2020 13:33:08         9593.0         34528.0      FALSE   \n",
       "1  04-16-2020 13:12:40         5915.0         25884.0      FALSE   \n",
       "2  04-15-2020 22:51:36         8035.0             0.0       TRUE   \n",
       "3  04-15-2020 22:51:22         7494.0             0.0       TRUE   \n",
       "4  04-15-2020 22:51:20         7360.0             0.0       TRUE   \n",
       "\n",
       "                id_str  polarity  subjectivity  \n",
       "0  1250779261595783168   -0.3875      0.514583  \n",
       "1  1250774109144875008   -0.1250      0.375000  \n",
       "2  1250557416078532617    0.0000      0.000000  \n",
       "3  1250557356238389248    0.0000      0.000000  \n",
       "4  1250557346193031168    0.4000      0.400000  "
      ]
     },
     "execution_count": 5,
     "metadata": {},
     "output_type": "execute_result"
    }
   ],
   "source": [
    "#add new columns to tweets df corresponding to the new info\n",
    "tweets['polarity'] = polarity\n",
    "tweets['subjectivity'] = subjectivity\n",
    "tweets.head() #preview the df"
   ]
  },
  {
   "cell_type": "markdown",
   "metadata": {},
   "source": [
    "Since we are going to be looking at change over time, we will need a way to group the tweets chronologically. Luckily, the timestamp is included in the original csv. The most logical grouping seems to be by year though, so let's make a new column that isolates that value:"
   ]
  },
  {
   "cell_type": "code",
   "execution_count": 6,
   "metadata": {
    "scrolled": false
   },
   "outputs": [
    {
     "data": {
      "text/html": [
       "<div>\n",
       "<style scoped>\n",
       "    .dataframe tbody tr th:only-of-type {\n",
       "        vertical-align: middle;\n",
       "    }\n",
       "\n",
       "    .dataframe tbody tr th {\n",
       "        vertical-align: top;\n",
       "    }\n",
       "\n",
       "    .dataframe thead th {\n",
       "        text-align: right;\n",
       "    }\n",
       "</style>\n",
       "<table border=\"1\" class=\"dataframe\">\n",
       "  <thead>\n",
       "    <tr style=\"text-align: right;\">\n",
       "      <th></th>\n",
       "      <th>source</th>\n",
       "      <th>text</th>\n",
       "      <th>created_at</th>\n",
       "      <th>retweet_count</th>\n",
       "      <th>favorite_count</th>\n",
       "      <th>is_retweet</th>\n",
       "      <th>id_str</th>\n",
       "      <th>polarity</th>\n",
       "      <th>subjectivity</th>\n",
       "      <th>year</th>\n",
       "    </tr>\n",
       "  </thead>\n",
       "  <tbody>\n",
       "    <tr>\n",
       "      <td>0</td>\n",
       "      <td>Twitter for iPhone</td>\n",
       "      <td>Crazy “Nancy Pelosi you are a weak person. You...</td>\n",
       "      <td>2020-04-16 13:33:08</td>\n",
       "      <td>9593.0</td>\n",
       "      <td>34528.0</td>\n",
       "      <td>FALSE</td>\n",
       "      <td>1250779261595783168</td>\n",
       "      <td>-0.3875</td>\n",
       "      <td>0.514583</td>\n",
       "      <td>2020</td>\n",
       "    </tr>\n",
       "    <tr>\n",
       "      <td>1</td>\n",
       "      <td>Twitter for iPhone</td>\n",
       "      <td>.@OANN Poll “Gives President Trump a 52% Appro...</td>\n",
       "      <td>2020-04-16 13:12:40</td>\n",
       "      <td>5915.0</td>\n",
       "      <td>25884.0</td>\n",
       "      <td>FALSE</td>\n",
       "      <td>1250774109144875008</td>\n",
       "      <td>-0.1250</td>\n",
       "      <td>0.375000</td>\n",
       "      <td>2020</td>\n",
       "    </tr>\n",
       "    <tr>\n",
       "      <td>2</td>\n",
       "      <td>Twitter for iPhone</td>\n",
       "      <td>RT @WhiteHouse: The Federal government has ord...</td>\n",
       "      <td>2020-04-15 22:51:36</td>\n",
       "      <td>8035.0</td>\n",
       "      <td>0.0</td>\n",
       "      <td>TRUE</td>\n",
       "      <td>1250557416078532617</td>\n",
       "      <td>0.0000</td>\n",
       "      <td>0.000000</td>\n",
       "      <td>2020</td>\n",
       "    </tr>\n",
       "    <tr>\n",
       "      <td>3</td>\n",
       "      <td>Twitter for iPhone</td>\n",
       "      <td>RT @WhiteHouse: In 11 days @GM sourced materia...</td>\n",
       "      <td>2020-04-15 22:51:22</td>\n",
       "      <td>7494.0</td>\n",
       "      <td>0.0</td>\n",
       "      <td>TRUE</td>\n",
       "      <td>1250557356238389248</td>\n",
       "      <td>0.0000</td>\n",
       "      <td>0.000000</td>\n",
       "      <td>2020</td>\n",
       "    </tr>\n",
       "    <tr>\n",
       "      <td>4</td>\n",
       "      <td>Twitter for iPhone</td>\n",
       "      <td>RT @WhiteHouse: We are using every available a...</td>\n",
       "      <td>2020-04-15 22:51:20</td>\n",
       "      <td>7360.0</td>\n",
       "      <td>0.0</td>\n",
       "      <td>TRUE</td>\n",
       "      <td>1250557346193031168</td>\n",
       "      <td>0.4000</td>\n",
       "      <td>0.400000</td>\n",
       "      <td>2020</td>\n",
       "    </tr>\n",
       "  </tbody>\n",
       "</table>\n",
       "</div>"
      ],
      "text/plain": [
       "               source                                               text  \\\n",
       "0  Twitter for iPhone  Crazy “Nancy Pelosi you are a weak person. You...   \n",
       "1  Twitter for iPhone  .@OANN Poll “Gives President Trump a 52% Appro...   \n",
       "2  Twitter for iPhone  RT @WhiteHouse: The Federal government has ord...   \n",
       "3  Twitter for iPhone  RT @WhiteHouse: In 11 days @GM sourced materia...   \n",
       "4  Twitter for iPhone  RT @WhiteHouse: We are using every available a...   \n",
       "\n",
       "           created_at  retweet_count  favorite_count is_retweet  \\\n",
       "0 2020-04-16 13:33:08         9593.0         34528.0      FALSE   \n",
       "1 2020-04-16 13:12:40         5915.0         25884.0      FALSE   \n",
       "2 2020-04-15 22:51:36         8035.0             0.0       TRUE   \n",
       "3 2020-04-15 22:51:22         7494.0             0.0       TRUE   \n",
       "4 2020-04-15 22:51:20         7360.0             0.0       TRUE   \n",
       "\n",
       "                id_str  polarity  subjectivity  year  \n",
       "0  1250779261595783168   -0.3875      0.514583  2020  \n",
       "1  1250774109144875008   -0.1250      0.375000  2020  \n",
       "2  1250557416078532617    0.0000      0.000000  2020  \n",
       "3  1250557356238389248    0.0000      0.000000  2020  \n",
       "4  1250557346193031168    0.4000      0.400000  2020  "
      ]
     },
     "execution_count": 6,
     "metadata": {},
     "output_type": "execute_result"
    }
   ],
   "source": [
    "#make new column that shows year\n",
    "tweets['created_at'] = pd.to_datetime(tweets['created_at']) #convert created_at column to timestamp data type\n",
    "tweets['year'] = tweets['created_at'].dt.year.astype('Int64') #store the dates in a new column, isolating the year\n",
    "tweets.head() #preview df"
   ]
  },
  {
   "cell_type": "markdown",
   "metadata": {},
   "source": [
    "Now we'll add another label that places the tweets into groups based on their polarity. First, we will need a method that does this for a single polarity value. For values in the range [-1, -.5], the method will return 'N', for (-.5, 0) it will return 'LN', [0, .5) will return 'HN', and [.5, 1] will return 'H'. This labels correlate to low, low-neutral, high-neutral, and high, respectively."
   ]
  },
  {
   "cell_type": "code",
   "execution_count": 7,
   "metadata": {},
   "outputs": [
    {
     "data": {
      "text/plain": [
       "'L'"
      ]
     },
     "execution_count": 7,
     "metadata": {},
     "output_type": "execute_result"
    },
    {
     "data": {
      "text/plain": [
       "'LN'"
      ]
     },
     "execution_count": 7,
     "metadata": {},
     "output_type": "execute_result"
    },
    {
     "data": {
      "text/plain": [
       "'HN'"
      ]
     },
     "execution_count": 7,
     "metadata": {},
     "output_type": "execute_result"
    },
    {
     "data": {
      "text/plain": [
       "'H'"
      ]
     },
     "execution_count": 7,
     "metadata": {},
     "output_type": "execute_result"
    }
   ],
   "source": [
    "#Define polarity label function\n",
    "def polarity_label(p):\n",
    "    if p <= -.5: return 'L' #low returns L\n",
    "    elif p > -.5 and p < 0: return 'LN' #low-neutral returns LN\n",
    "    elif p >= 0 and p < .5: return 'HN' #high-neutral returns HN\n",
    "    else: return 'H' #high returns H\n",
    "\n",
    "#test method\n",
    "polarity_label(-.5)\n",
    "polarity_label(-.01)\n",
    "polarity_label(.0)\n",
    "polarity_label(.5)"
   ]
  },
  {
   "cell_type": "markdown",
   "metadata": {},
   "source": [
    "Looks good. Now that we have this, we can apply it to each of the rows in our dataframe:"
   ]
  },
  {
   "cell_type": "code",
   "execution_count": 8,
   "metadata": {
    "scrolled": true
   },
   "outputs": [
    {
     "data": {
      "text/html": [
       "<div>\n",
       "<style scoped>\n",
       "    .dataframe tbody tr th:only-of-type {\n",
       "        vertical-align: middle;\n",
       "    }\n",
       "\n",
       "    .dataframe tbody tr th {\n",
       "        vertical-align: top;\n",
       "    }\n",
       "\n",
       "    .dataframe thead th {\n",
       "        text-align: right;\n",
       "    }\n",
       "</style>\n",
       "<table border=\"1\" class=\"dataframe\">\n",
       "  <thead>\n",
       "    <tr style=\"text-align: right;\">\n",
       "      <th></th>\n",
       "      <th>source</th>\n",
       "      <th>text</th>\n",
       "      <th>created_at</th>\n",
       "      <th>retweet_count</th>\n",
       "      <th>favorite_count</th>\n",
       "      <th>is_retweet</th>\n",
       "      <th>id_str</th>\n",
       "      <th>polarity</th>\n",
       "      <th>subjectivity</th>\n",
       "      <th>year</th>\n",
       "      <th>polarity_label</th>\n",
       "    </tr>\n",
       "  </thead>\n",
       "  <tbody>\n",
       "    <tr>\n",
       "      <td>0</td>\n",
       "      <td>Twitter for iPhone</td>\n",
       "      <td>Crazy “Nancy Pelosi you are a weak person. You...</td>\n",
       "      <td>2020-04-16 13:33:08</td>\n",
       "      <td>9593.0</td>\n",
       "      <td>34528.0</td>\n",
       "      <td>FALSE</td>\n",
       "      <td>1250779261595783168</td>\n",
       "      <td>-0.3875</td>\n",
       "      <td>0.514583</td>\n",
       "      <td>2020</td>\n",
       "      <td>LN</td>\n",
       "    </tr>\n",
       "    <tr>\n",
       "      <td>1</td>\n",
       "      <td>Twitter for iPhone</td>\n",
       "      <td>.@OANN Poll “Gives President Trump a 52% Appro...</td>\n",
       "      <td>2020-04-16 13:12:40</td>\n",
       "      <td>5915.0</td>\n",
       "      <td>25884.0</td>\n",
       "      <td>FALSE</td>\n",
       "      <td>1250774109144875008</td>\n",
       "      <td>-0.1250</td>\n",
       "      <td>0.375000</td>\n",
       "      <td>2020</td>\n",
       "      <td>LN</td>\n",
       "    </tr>\n",
       "    <tr>\n",
       "      <td>2</td>\n",
       "      <td>Twitter for iPhone</td>\n",
       "      <td>RT @WhiteHouse: The Federal government has ord...</td>\n",
       "      <td>2020-04-15 22:51:36</td>\n",
       "      <td>8035.0</td>\n",
       "      <td>0.0</td>\n",
       "      <td>TRUE</td>\n",
       "      <td>1250557416078532617</td>\n",
       "      <td>0.0000</td>\n",
       "      <td>0.000000</td>\n",
       "      <td>2020</td>\n",
       "      <td>HN</td>\n",
       "    </tr>\n",
       "    <tr>\n",
       "      <td>3</td>\n",
       "      <td>Twitter for iPhone</td>\n",
       "      <td>RT @WhiteHouse: In 11 days @GM sourced materia...</td>\n",
       "      <td>2020-04-15 22:51:22</td>\n",
       "      <td>7494.0</td>\n",
       "      <td>0.0</td>\n",
       "      <td>TRUE</td>\n",
       "      <td>1250557356238389248</td>\n",
       "      <td>0.0000</td>\n",
       "      <td>0.000000</td>\n",
       "      <td>2020</td>\n",
       "      <td>HN</td>\n",
       "    </tr>\n",
       "    <tr>\n",
       "      <td>4</td>\n",
       "      <td>Twitter for iPhone</td>\n",
       "      <td>RT @WhiteHouse: We are using every available a...</td>\n",
       "      <td>2020-04-15 22:51:20</td>\n",
       "      <td>7360.0</td>\n",
       "      <td>0.0</td>\n",
       "      <td>TRUE</td>\n",
       "      <td>1250557346193031168</td>\n",
       "      <td>0.4000</td>\n",
       "      <td>0.400000</td>\n",
       "      <td>2020</td>\n",
       "      <td>HN</td>\n",
       "    </tr>\n",
       "  </tbody>\n",
       "</table>\n",
       "</div>"
      ],
      "text/plain": [
       "               source                                               text  \\\n",
       "0  Twitter for iPhone  Crazy “Nancy Pelosi you are a weak person. You...   \n",
       "1  Twitter for iPhone  .@OANN Poll “Gives President Trump a 52% Appro...   \n",
       "2  Twitter for iPhone  RT @WhiteHouse: The Federal government has ord...   \n",
       "3  Twitter for iPhone  RT @WhiteHouse: In 11 days @GM sourced materia...   \n",
       "4  Twitter for iPhone  RT @WhiteHouse: We are using every available a...   \n",
       "\n",
       "           created_at  retweet_count  favorite_count is_retweet  \\\n",
       "0 2020-04-16 13:33:08         9593.0         34528.0      FALSE   \n",
       "1 2020-04-16 13:12:40         5915.0         25884.0      FALSE   \n",
       "2 2020-04-15 22:51:36         8035.0             0.0       TRUE   \n",
       "3 2020-04-15 22:51:22         7494.0             0.0       TRUE   \n",
       "4 2020-04-15 22:51:20         7360.0             0.0       TRUE   \n",
       "\n",
       "                id_str  polarity  subjectivity  year polarity_label  \n",
       "0  1250779261595783168   -0.3875      0.514583  2020             LN  \n",
       "1  1250774109144875008   -0.1250      0.375000  2020             LN  \n",
       "2  1250557416078532617    0.0000      0.000000  2020             HN  \n",
       "3  1250557356238389248    0.0000      0.000000  2020             HN  \n",
       "4  1250557346193031168    0.4000      0.400000  2020             HN  "
      ]
     },
     "execution_count": 8,
     "metadata": {},
     "output_type": "execute_result"
    }
   ],
   "source": [
    "#create map of polarity labels\n",
    "polarity_labels = tweets.polarity.map(lambda x: polarity_label(x))\n",
    "\n",
    "#add map to dataframe\n",
    "tweets['polarity_label'] = polarity_labels\n",
    "tweets.head()"
   ]
  },
  {
   "cell_type": "markdown",
   "metadata": {},
   "source": [
    "Finally, we will add another column that contains the contents of the tweets, but one that is lowercased and tokenized. First, we will define a method that does both of those at once:"
   ]
  },
  {
   "cell_type": "code",
   "execution_count": 9,
   "metadata": {},
   "outputs": [
    {
     "name": "stdout",
     "output_type": "stream",
     "text": [
      "hey there , how are you ?\n"
     ]
    }
   ],
   "source": [
    "#define the. function\n",
    "def token_lower(s):\n",
    "    \"\"\"Returns a tokenized and lowercased copy of the string s\"\"\"\n",
    "    tokens = word_tokenize(s.lower())\n",
    "    return ' '.join(tokens)\n",
    "\n",
    "#test the function\n",
    "print(token_lower('Hey there, how are you?'))"
   ]
  },
  {
   "cell_type": "markdown",
   "metadata": {},
   "source": [
    "And then we will add the new column to the dataframe:"
   ]
  },
  {
   "cell_type": "code",
   "execution_count": 10,
   "metadata": {
    "scrolled": true
   },
   "outputs": [
    {
     "data": {
      "text/plain": [
       "0    crazy “ nancy pelosi you are a weak person . y...\n",
       "1    . @ oann poll “ gives president trump a 52 % a...\n",
       "2    rt @ whitehouse : the federal government has o...\n",
       "3    rt @ whitehouse : in 11 days @ gm sourced mate...\n",
       "4    rt @ whitehouse : we are using every available...\n",
       "Name: token_lower, dtype: object"
      ]
     },
     "execution_count": 10,
     "metadata": {},
     "output_type": "execute_result"
    }
   ],
   "source": [
    "tweets['token_lower'] = tweets.text.map(lambda x: token_lower(x))\n",
    "tweets['token_lower'].head()"
   ]
  },
  {
   "cell_type": "markdown",
   "metadata": {},
   "source": [
    "Looks good! Now, the data is much more workable; we have the measurements we are looking to compare neatly organized within their corresponding rows, and we have a way of grouping the data chronologically. The last step is to create subgroups for different political issues that we can compare to:\n",
    "\n",
    "(these are subject to change)"
   ]
  },
  {
   "cell_type": "code",
   "execution_count": 11,
   "metadata": {},
   "outputs": [],
   "source": [
    "russia_keywords = 'russia|russian|moscow|putin'\n",
    "iran_keywords = 'iran|iranian|tehran|nuclear deal|rouhani'\n",
    "china_keywords = 'china|chinese|beijing|xi|jinping'"
   ]
  },
  {
   "cell_type": "code",
   "execution_count": 12,
   "metadata": {
    "scrolled": true
   },
   "outputs": [],
   "source": [
    "#create the subsets for each topic\n",
    "russia = tweets['token_lower'].str.contains(russia_keywords)\n",
    "iran = tweets['token_lower'].str.contains(iran_keywords)\n",
    "china = tweets['token_lower'].str.contains(china_keywords)\n",
    "\n",
    "#and just for fun\n",
    "sad = tweets['token_lower'].str.contains('sad')"
   ]
  },
  {
   "cell_type": "markdown",
   "metadata": {},
   "source": [
    "And we can take a peek as to how much data we've collected in each subset:"
   ]
  },
  {
   "cell_type": "code",
   "execution_count": 13,
   "metadata": {},
   "outputs": [
    {
     "name": "stdout",
     "output_type": "stream",
     "text": [
      "<class 'pandas.core.frame.DataFrame'>\n",
      "Int64Index: 716 entries, 36 to 43737\n",
      "Data columns (total 12 columns):\n",
      "source            716 non-null object\n",
      "text              716 non-null object\n",
      "created_at        716 non-null datetime64[ns]\n",
      "retweet_count     716 non-null float64\n",
      "favorite_count    716 non-null float64\n",
      "is_retweet        716 non-null object\n",
      "id_str            716 non-null object\n",
      "polarity          716 non-null float64\n",
      "subjectivity      716 non-null float64\n",
      "year              716 non-null Int64\n",
      "polarity_label    716 non-null object\n",
      "token_lower       716 non-null object\n",
      "dtypes: Int64(1), datetime64[ns](1), float64(4), object(6)\n",
      "memory usage: 73.4+ KB\n"
     ]
    }
   ],
   "source": [
    "tweets[russia].info()"
   ]
  },
  {
   "cell_type": "code",
   "execution_count": 14,
   "metadata": {},
   "outputs": [
    {
     "name": "stdout",
     "output_type": "stream",
     "text": [
      "<class 'pandas.core.frame.DataFrame'>\n",
      "Int64Index: 437 entries, 386 to 44205\n",
      "Data columns (total 12 columns):\n",
      "source            437 non-null object\n",
      "text              437 non-null object\n",
      "created_at        437 non-null datetime64[ns]\n",
      "retweet_count     437 non-null float64\n",
      "favorite_count    437 non-null float64\n",
      "is_retweet        437 non-null object\n",
      "id_str            437 non-null object\n",
      "polarity          437 non-null float64\n",
      "subjectivity      437 non-null float64\n",
      "year              437 non-null Int64\n",
      "polarity_label    437 non-null object\n",
      "token_lower       437 non-null object\n",
      "dtypes: Int64(1), datetime64[ns](1), float64(4), object(6)\n",
      "memory usage: 44.8+ KB\n"
     ]
    }
   ],
   "source": [
    "tweets[iran].info()"
   ]
  },
  {
   "cell_type": "code",
   "execution_count": 15,
   "metadata": {},
   "outputs": [
    {
     "name": "stdout",
     "output_type": "stream",
     "text": [
      "<class 'pandas.core.frame.DataFrame'>\n",
      "Int64Index: 1710 entries, 38 to 44356\n",
      "Data columns (total 12 columns):\n",
      "source            1710 non-null object\n",
      "text              1710 non-null object\n",
      "created_at        1710 non-null datetime64[ns]\n",
      "retweet_count     1710 non-null float64\n",
      "favorite_count    1710 non-null float64\n",
      "is_retweet        1710 non-null object\n",
      "id_str            1710 non-null object\n",
      "polarity          1710 non-null float64\n",
      "subjectivity      1710 non-null float64\n",
      "year              1710 non-null Int64\n",
      "polarity_label    1710 non-null object\n",
      "token_lower       1710 non-null object\n",
      "dtypes: Int64(1), datetime64[ns](1), float64(4), object(6)\n",
      "memory usage: 175.3+ KB\n"
     ]
    }
   ],
   "source": [
    "tweets[china].info()"
   ]
  },
  {
   "cell_type": "code",
   "execution_count": 16,
   "metadata": {
    "scrolled": false
   },
   "outputs": [
    {
     "name": "stdout",
     "output_type": "stream",
     "text": [
      "<class 'pandas.core.frame.DataFrame'>\n",
      "Int64Index: 552 entries, 95 to 44166\n",
      "Data columns (total 12 columns):\n",
      "source            552 non-null object\n",
      "text              552 non-null object\n",
      "created_at        552 non-null datetime64[ns]\n",
      "retweet_count     552 non-null float64\n",
      "favorite_count    552 non-null float64\n",
      "is_retweet        552 non-null object\n",
      "id_str            552 non-null object\n",
      "polarity          552 non-null float64\n",
      "subjectivity      552 non-null float64\n",
      "year              552 non-null Int64\n",
      "polarity_label    552 non-null object\n",
      "token_lower       552 non-null object\n",
      "dtypes: Int64(1), datetime64[ns](1), float64(4), object(6)\n",
      "memory usage: 56.6+ KB\n"
     ]
    }
   ],
   "source": [
    "tweets[sad].info()"
   ]
  },
  {
   "cell_type": "markdown",
   "metadata": {},
   "source": [
    "And here is the size and shape of the overall dataset:"
   ]
  },
  {
   "cell_type": "code",
   "execution_count": 17,
   "metadata": {},
   "outputs": [
    {
     "data": {
      "text/plain": [
       "(44440, 12)"
      ]
     },
     "execution_count": 17,
     "metadata": {},
     "output_type": "execute_result"
    }
   ],
   "source": [
    "#print shape\n",
    "tweets.shape"
   ]
  },
  {
   "cell_type": "code",
   "execution_count": 18,
   "metadata": {},
   "outputs": [
    {
     "data": {
      "text/plain": [
       "533280"
      ]
     },
     "execution_count": 18,
     "metadata": {},
     "output_type": "execute_result"
    }
   ],
   "source": [
    "#print size\n",
    "tweets.size"
   ]
  },
  {
   "cell_type": "markdown",
   "metadata": {},
   "source": [
    "Finally, I will pickle the dataframe I've made for the ease of reuse:"
   ]
  },
  {
   "cell_type": "code",
   "execution_count": 19,
   "metadata": {},
   "outputs": [],
   "source": [
    "#save the pickle of the data to 'trump_tweets.pkl' located in the directory 'data'\n",
    "pd.to_pickle(tweets, '../data/trump_tweets.pkl')"
   ]
  },
  {
   "cell_type": "markdown",
   "metadata": {},
   "source": [
    "### All Tweets\n",
    "This section will focus on creating the dataframe that will be used in the Machine Learning section of the project. This data will consist of both tweets composed by Trump and a general collection of US tweets that I downloaded for free from [this website](http://followthehashtag.com/datasets/free-twitter-dataset-usa-200000-free-usa-tweets/). The website does not specify any licenses and is made for student research such as this, so I have simply given them credit in my project description.\n",
    "\n",
    "The original file contains 300,000 tweets, which is too many for what I'm doing here. In order to eliminate any bias, I have created a smaller version that contains the same number of tweets that is present in the Trump dataframe.\n",
    "\n",
    "For this, I felt it was most appropriate to exclude retweets from the Trump set, so running the following code showed me the number of lines to be included in the misc. tweet set:"
   ]
  },
  {
   "cell_type": "code",
   "execution_count": 20,
   "metadata": {
    "scrolled": true
   },
   "outputs": [],
   "source": [
    "#shape of tweets minus retweets\n",
    "trump = tweets[tweets['is_retweet'] == 'FALSE'].copy(deep=True) #making a deep copy so we don't alter the original"
   ]
  },
  {
   "cell_type": "markdown",
   "metadata": {},
   "source": [
    "Now we can format this dataframe to best fit our machine learning needs. All we will need is the content of the tweet and an indicator that shows it was made by Trump. I will first add the indicator:"
   ]
  },
  {
   "cell_type": "code",
   "execution_count": 21,
   "metadata": {
    "scrolled": true
   },
   "outputs": [
    {
     "data": {
      "text/html": [
       "<div>\n",
       "<style scoped>\n",
       "    .dataframe tbody tr th:only-of-type {\n",
       "        vertical-align: middle;\n",
       "    }\n",
       "\n",
       "    .dataframe tbody tr th {\n",
       "        vertical-align: top;\n",
       "    }\n",
       "\n",
       "    .dataframe thead th {\n",
       "        text-align: right;\n",
       "    }\n",
       "</style>\n",
       "<table border=\"1\" class=\"dataframe\">\n",
       "  <thead>\n",
       "    <tr style=\"text-align: right;\">\n",
       "      <th></th>\n",
       "      <th>source</th>\n",
       "      <th>text</th>\n",
       "      <th>created_at</th>\n",
       "      <th>retweet_count</th>\n",
       "      <th>favorite_count</th>\n",
       "      <th>is_retweet</th>\n",
       "      <th>id_str</th>\n",
       "      <th>polarity</th>\n",
       "      <th>subjectivity</th>\n",
       "      <th>year</th>\n",
       "      <th>polarity_label</th>\n",
       "      <th>token_lower</th>\n",
       "      <th>code</th>\n",
       "    </tr>\n",
       "  </thead>\n",
       "  <tbody>\n",
       "    <tr>\n",
       "      <td>0</td>\n",
       "      <td>Twitter for iPhone</td>\n",
       "      <td>Crazy “Nancy Pelosi you are a weak person. You...</td>\n",
       "      <td>2020-04-16 13:33:08</td>\n",
       "      <td>9593.0</td>\n",
       "      <td>34528.0</td>\n",
       "      <td>FALSE</td>\n",
       "      <td>1250779261595783168</td>\n",
       "      <td>-0.3875</td>\n",
       "      <td>0.514583</td>\n",
       "      <td>2020</td>\n",
       "      <td>LN</td>\n",
       "      <td>crazy “ nancy pelosi you are a weak person . y...</td>\n",
       "      <td>T</td>\n",
       "    </tr>\n",
       "    <tr>\n",
       "      <td>1</td>\n",
       "      <td>Twitter for iPhone</td>\n",
       "      <td>.@OANN Poll “Gives President Trump a 52% Appro...</td>\n",
       "      <td>2020-04-16 13:12:40</td>\n",
       "      <td>5915.0</td>\n",
       "      <td>25884.0</td>\n",
       "      <td>FALSE</td>\n",
       "      <td>1250774109144875008</td>\n",
       "      <td>-0.1250</td>\n",
       "      <td>0.375000</td>\n",
       "      <td>2020</td>\n",
       "      <td>LN</td>\n",
       "      <td>. @ oann poll “ gives president trump a 52 % a...</td>\n",
       "      <td>T</td>\n",
       "    </tr>\n",
       "    <tr>\n",
       "      <td>6</td>\n",
       "      <td>Twitter for iPhone</td>\n",
       "      <td>White House news conference today at 5:30 P.M....</td>\n",
       "      <td>2020-04-15 20:49:31</td>\n",
       "      <td>15002.0</td>\n",
       "      <td>106414.0</td>\n",
       "      <td>FALSE</td>\n",
       "      <td>1250526689702150153</td>\n",
       "      <td>0.0000</td>\n",
       "      <td>0.000000</td>\n",
       "      <td>2020</td>\n",
       "      <td>HN</td>\n",
       "      <td>white house news conference today at 5:30 p.m....</td>\n",
       "      <td>T</td>\n",
       "    </tr>\n",
       "    <tr>\n",
       "      <td>7</td>\n",
       "      <td>Twitter for iPhone</td>\n",
       "      <td>We are having very productive calls with the l...</td>\n",
       "      <td>2020-04-15 19:02:47</td>\n",
       "      <td>31696.0</td>\n",
       "      <td>176970.0</td>\n",
       "      <td>FALSE</td>\n",
       "      <td>1250499831132573699</td>\n",
       "      <td>0.2750</td>\n",
       "      <td>0.266667</td>\n",
       "      <td>2020</td>\n",
       "      <td>HN</td>\n",
       "      <td>we are having very productive calls with the l...</td>\n",
       "      <td>T</td>\n",
       "    </tr>\n",
       "    <tr>\n",
       "      <td>8</td>\n",
       "      <td>Twitter for iPhone</td>\n",
       "      <td>My condolences to the Steinbrenner family and ...</td>\n",
       "      <td>2020-04-15 15:48:05</td>\n",
       "      <td>10936.0</td>\n",
       "      <td>58096.0</td>\n",
       "      <td>FALSE</td>\n",
       "      <td>1250450832937684992</td>\n",
       "      <td>0.5000</td>\n",
       "      <td>0.687500</td>\n",
       "      <td>2020</td>\n",
       "      <td>H</td>\n",
       "      <td>my condolences to the steinbrenner family and ...</td>\n",
       "      <td>T</td>\n",
       "    </tr>\n",
       "  </tbody>\n",
       "</table>\n",
       "</div>"
      ],
      "text/plain": [
       "               source                                               text  \\\n",
       "0  Twitter for iPhone  Crazy “Nancy Pelosi you are a weak person. You...   \n",
       "1  Twitter for iPhone  .@OANN Poll “Gives President Trump a 52% Appro...   \n",
       "6  Twitter for iPhone  White House news conference today at 5:30 P.M....   \n",
       "7  Twitter for iPhone  We are having very productive calls with the l...   \n",
       "8  Twitter for iPhone  My condolences to the Steinbrenner family and ...   \n",
       "\n",
       "           created_at  retweet_count  favorite_count is_retweet  \\\n",
       "0 2020-04-16 13:33:08         9593.0         34528.0      FALSE   \n",
       "1 2020-04-16 13:12:40         5915.0         25884.0      FALSE   \n",
       "6 2020-04-15 20:49:31        15002.0        106414.0      FALSE   \n",
       "7 2020-04-15 19:02:47        31696.0        176970.0      FALSE   \n",
       "8 2020-04-15 15:48:05        10936.0         58096.0      FALSE   \n",
       "\n",
       "                id_str  polarity  subjectivity  year polarity_label  \\\n",
       "0  1250779261595783168   -0.3875      0.514583  2020             LN   \n",
       "1  1250774109144875008   -0.1250      0.375000  2020             LN   \n",
       "6  1250526689702150153    0.0000      0.000000  2020             HN   \n",
       "7  1250499831132573699    0.2750      0.266667  2020             HN   \n",
       "8  1250450832937684992    0.5000      0.687500  2020              H   \n",
       "\n",
       "                                         token_lower code  \n",
       "0  crazy “ nancy pelosi you are a weak person . y...    T  \n",
       "1  . @ oann poll “ gives president trump a 52 % a...    T  \n",
       "6  white house news conference today at 5:30 p.m....    T  \n",
       "7  we are having very productive calls with the l...    T  \n",
       "8  my condolences to the steinbrenner family and ...    T  "
      ]
     },
     "execution_count": 21,
     "metadata": {},
     "output_type": "execute_result"
    }
   ],
   "source": [
    "#add new column that marks these as Trump Tweets\n",
    "trump['code'] = 'T'\n",
    "trump.head()"
   ]
  },
  {
   "cell_type": "markdown",
   "metadata": {},
   "source": [
    "And now we can drop all the other rows:"
   ]
  },
  {
   "cell_type": "code",
   "execution_count": 22,
   "metadata": {
    "scrolled": false
   },
   "outputs": [
    {
     "data": {
      "text/html": [
       "<div>\n",
       "<style scoped>\n",
       "    .dataframe tbody tr th:only-of-type {\n",
       "        vertical-align: middle;\n",
       "    }\n",
       "\n",
       "    .dataframe tbody tr th {\n",
       "        vertical-align: top;\n",
       "    }\n",
       "\n",
       "    .dataframe thead th {\n",
       "        text-align: right;\n",
       "    }\n",
       "</style>\n",
       "<table border=\"1\" class=\"dataframe\">\n",
       "  <thead>\n",
       "    <tr style=\"text-align: right;\">\n",
       "      <th></th>\n",
       "      <th>text</th>\n",
       "      <th>code</th>\n",
       "    </tr>\n",
       "  </thead>\n",
       "  <tbody>\n",
       "    <tr>\n",
       "      <td>0</td>\n",
       "      <td>Crazy “Nancy Pelosi you are a weak person. You...</td>\n",
       "      <td>T</td>\n",
       "    </tr>\n",
       "    <tr>\n",
       "      <td>1</td>\n",
       "      <td>.@OANN Poll “Gives President Trump a 52% Appro...</td>\n",
       "      <td>T</td>\n",
       "    </tr>\n",
       "    <tr>\n",
       "      <td>6</td>\n",
       "      <td>White House news conference today at 5:30 P.M....</td>\n",
       "      <td>T</td>\n",
       "    </tr>\n",
       "    <tr>\n",
       "      <td>7</td>\n",
       "      <td>We are having very productive calls with the l...</td>\n",
       "      <td>T</td>\n",
       "    </tr>\n",
       "    <tr>\n",
       "      <td>8</td>\n",
       "      <td>My condolences to the Steinbrenner family and ...</td>\n",
       "      <td>T</td>\n",
       "    </tr>\n",
       "  </tbody>\n",
       "</table>\n",
       "</div>"
      ],
      "text/plain": [
       "                                                text code\n",
       "0  Crazy “Nancy Pelosi you are a weak person. You...    T\n",
       "1  .@OANN Poll “Gives President Trump a 52% Appro...    T\n",
       "6  White House news conference today at 5:30 P.M....    T\n",
       "7  We are having very productive calls with the l...    T\n",
       "8  My condolences to the Steinbrenner family and ...    T"
      ]
     },
     "execution_count": 22,
     "metadata": {},
     "output_type": "execute_result"
    }
   ],
   "source": [
    "#reassign trump df to only include 'text' and 'code' columns\n",
    "trump = trump[['text', 'code']]\n",
    "trump.head()"
   ]
  },
  {
   "cell_type": "markdown",
   "metadata": {},
   "source": [
    "Now we can begin with the misc tweets from followthehashtag.com:"
   ]
  },
  {
   "cell_type": "code",
   "execution_count": 23,
   "metadata": {
    "scrolled": false
   },
   "outputs": [
    {
     "data": {
      "text/html": [
       "<div>\n",
       "<style scoped>\n",
       "    .dataframe tbody tr th:only-of-type {\n",
       "        vertical-align: middle;\n",
       "    }\n",
       "\n",
       "    .dataframe tbody tr th {\n",
       "        vertical-align: top;\n",
       "    }\n",
       "\n",
       "    .dataframe thead th {\n",
       "        text-align: right;\n",
       "    }\n",
       "</style>\n",
       "<table border=\"1\" class=\"dataframe\">\n",
       "  <thead>\n",
       "    <tr style=\"text-align: right;\">\n",
       "      <th></th>\n",
       "      <th>Tweet Id</th>\n",
       "      <th>Date</th>\n",
       "      <th>Hour</th>\n",
       "      <th>User Name</th>\n",
       "      <th>Nickname</th>\n",
       "      <th>Bio</th>\n",
       "      <th>Tweet content</th>\n",
       "      <th>Favs</th>\n",
       "      <th>RTs</th>\n",
       "      <th>Latitude</th>\n",
       "      <th>Longitude</th>\n",
       "      <th>Country</th>\n",
       "      <th>Place (as appears on Bio)</th>\n",
       "      <th>Profile picture</th>\n",
       "      <th>Followers</th>\n",
       "      <th>Following</th>\n",
       "      <th>Listed</th>\n",
       "      <th>Tweet language (ISO 639-1)</th>\n",
       "      <th>Tweet Url</th>\n",
       "    </tr>\n",
       "  </thead>\n",
       "  <tbody>\n",
       "    <tr>\n",
       "      <td>0</td>\n",
       "      <td>721318437075685000</td>\n",
       "      <td>42476</td>\n",
       "      <td>0.530556</td>\n",
       "      <td>Bill Schulhoff</td>\n",
       "      <td>BillSchulhoff</td>\n",
       "      <td>Husband,Dad,GrandDad,Ordained Minister, Umpire...</td>\n",
       "      <td>Wind 3.2 mph NNE. Barometer 30.20 in, Rising s...</td>\n",
       "      <td>NaN</td>\n",
       "      <td>NaN</td>\n",
       "      <td>40.760278</td>\n",
       "      <td>-72.954722</td>\n",
       "      <td>US</td>\n",
       "      <td>East Patchogue, NY</td>\n",
       "      <td>http://pbs.twimg.com/profile_images/3788000007...</td>\n",
       "      <td>386.0</td>\n",
       "      <td>705.0</td>\n",
       "      <td>24.0</td>\n",
       "      <td>en</td>\n",
       "      <td>http://www.twitter.com/BillSchulhoff/status/72...</td>\n",
       "    </tr>\n",
       "    <tr>\n",
       "      <td>1</td>\n",
       "      <td>721318436173979000</td>\n",
       "      <td>42476</td>\n",
       "      <td>0.530556</td>\n",
       "      <td>Daniele Polis</td>\n",
       "      <td>danipolis</td>\n",
       "      <td>Viagens, geek, moda, batons laranja, cabelos c...</td>\n",
       "      <td>Pausa pro café antes de embarcar no próximo vô...</td>\n",
       "      <td>NaN</td>\n",
       "      <td>NaN</td>\n",
       "      <td>32.898349</td>\n",
       "      <td>-97.039196</td>\n",
       "      <td>US</td>\n",
       "      <td>Grapevine, TX</td>\n",
       "      <td>http://pbs.twimg.com/profile_images/7041760340...</td>\n",
       "      <td>812.0</td>\n",
       "      <td>647.0</td>\n",
       "      <td>16.0</td>\n",
       "      <td>pt</td>\n",
       "      <td>http://www.twitter.com/danipolis/status/721318...</td>\n",
       "    </tr>\n",
       "    <tr>\n",
       "      <td>2</td>\n",
       "      <td>721318434169102000</td>\n",
       "      <td>42476</td>\n",
       "      <td>0.530556</td>\n",
       "      <td>Kasey Jacobs</td>\n",
       "      <td>KJacobs27</td>\n",
       "      <td>Norwich University Class of 2017</td>\n",
       "      <td>Good. Morning. #morning #Saturday #diner #VT #...</td>\n",
       "      <td>NaN</td>\n",
       "      <td>NaN</td>\n",
       "      <td>44.199476</td>\n",
       "      <td>-72.504173</td>\n",
       "      <td>US</td>\n",
       "      <td>Barre, VT</td>\n",
       "      <td>http://pbs.twimg.com/profile_images/7169585649...</td>\n",
       "      <td>179.0</td>\n",
       "      <td>206.0</td>\n",
       "      <td>2.0</td>\n",
       "      <td>en</td>\n",
       "      <td>http://www.twitter.com/KJacobs27/status/721318...</td>\n",
       "    </tr>\n",
       "    <tr>\n",
       "      <td>3</td>\n",
       "      <td>721318429844582000</td>\n",
       "      <td>42476</td>\n",
       "      <td>0.530556</td>\n",
       "      <td>Stan Curtis</td>\n",
       "      <td>stncurtis</td>\n",
       "      <td>transcendental music, art for art's sake, craf...</td>\n",
       "      <td>@gratefuldead recordstoredayus ______ @ TOMS M...</td>\n",
       "      <td>NaN</td>\n",
       "      <td>NaN</td>\n",
       "      <td>39.901474</td>\n",
       "      <td>-76.606817</td>\n",
       "      <td>US</td>\n",
       "      <td>Red Lion, PA</td>\n",
       "      <td>http://pbs.twimg.com/profile_images/6962528246...</td>\n",
       "      <td>1229.0</td>\n",
       "      <td>2071.0</td>\n",
       "      <td>11.0</td>\n",
       "      <td>en</td>\n",
       "      <td>http://www.twitter.com/stncurtis/status/721318...</td>\n",
       "    </tr>\n",
       "    <tr>\n",
       "      <td>4</td>\n",
       "      <td>721318429081407000</td>\n",
       "      <td>42476</td>\n",
       "      <td>0.530556</td>\n",
       "      <td>Dave Borzymowski</td>\n",
       "      <td>wi_borzo</td>\n",
       "      <td>When in doubt....Panic.</td>\n",
       "      <td>Egg in a muffin!!! (@ Rocket Baby Bakery - @ro...</td>\n",
       "      <td>NaN</td>\n",
       "      <td>NaN</td>\n",
       "      <td>43.060849</td>\n",
       "      <td>-87.998309</td>\n",
       "      <td>US</td>\n",
       "      <td>Wauwatosa, WI</td>\n",
       "      <td>http://pbs.twimg.com/profile_images/6595279129...</td>\n",
       "      <td>129.0</td>\n",
       "      <td>833.0</td>\n",
       "      <td>9.0</td>\n",
       "      <td>en</td>\n",
       "      <td>http://www.twitter.com/wi_borzo/status/7213184...</td>\n",
       "    </tr>\n",
       "  </tbody>\n",
       "</table>\n",
       "</div>"
      ],
      "text/plain": [
       "             Tweet Id   Date      Hour         User Name       Nickname  \\\n",
       "0  721318437075685000  42476  0.530556    Bill Schulhoff  BillSchulhoff   \n",
       "1  721318436173979000  42476  0.530556     Daniele Polis      danipolis   \n",
       "2  721318434169102000  42476  0.530556      Kasey Jacobs      KJacobs27   \n",
       "3  721318429844582000  42476  0.530556       Stan Curtis      stncurtis   \n",
       "4  721318429081407000  42476  0.530556  Dave Borzymowski       wi_borzo   \n",
       "\n",
       "                                                 Bio  \\\n",
       "0  Husband,Dad,GrandDad,Ordained Minister, Umpire...   \n",
       "1  Viagens, geek, moda, batons laranja, cabelos c...   \n",
       "2                   Norwich University Class of 2017   \n",
       "3  transcendental music, art for art's sake, craf...   \n",
       "4                            When in doubt....Panic.   \n",
       "\n",
       "                                       Tweet content  Favs  RTs   Latitude  \\\n",
       "0  Wind 3.2 mph NNE. Barometer 30.20 in, Rising s...   NaN  NaN  40.760278   \n",
       "1  Pausa pro café antes de embarcar no próximo vô...   NaN  NaN  32.898349   \n",
       "2  Good. Morning. #morning #Saturday #diner #VT #...   NaN  NaN  44.199476   \n",
       "3  @gratefuldead recordstoredayus ______ @ TOMS M...   NaN  NaN  39.901474   \n",
       "4  Egg in a muffin!!! (@ Rocket Baby Bakery - @ro...   NaN  NaN  43.060849   \n",
       "\n",
       "   Longitude Country Place (as appears on Bio)  \\\n",
       "0 -72.954722      US        East Patchogue, NY   \n",
       "1 -97.039196      US             Grapevine, TX   \n",
       "2 -72.504173      US                 Barre, VT   \n",
       "3 -76.606817      US              Red Lion, PA   \n",
       "4 -87.998309      US             Wauwatosa, WI   \n",
       "\n",
       "                                     Profile picture  Followers  Following  \\\n",
       "0  http://pbs.twimg.com/profile_images/3788000007...      386.0      705.0   \n",
       "1  http://pbs.twimg.com/profile_images/7041760340...      812.0      647.0   \n",
       "2  http://pbs.twimg.com/profile_images/7169585649...      179.0      206.0   \n",
       "3  http://pbs.twimg.com/profile_images/6962528246...     1229.0     2071.0   \n",
       "4  http://pbs.twimg.com/profile_images/6595279129...      129.0      833.0   \n",
       "\n",
       "   Listed Tweet language (ISO 639-1)  \\\n",
       "0    24.0                         en   \n",
       "1    16.0                         pt   \n",
       "2     2.0                         en   \n",
       "3    11.0                         en   \n",
       "4     9.0                         en   \n",
       "\n",
       "                                           Tweet Url  \n",
       "0  http://www.twitter.com/BillSchulhoff/status/72...  \n",
       "1  http://www.twitter.com/danipolis/status/721318...  \n",
       "2  http://www.twitter.com/KJacobs27/status/721318...  \n",
       "3  http://www.twitter.com/stncurtis/status/721318...  \n",
       "4  http://www.twitter.com/wi_borzo/status/7213184...  "
      ]
     },
     "execution_count": 23,
     "metadata": {},
     "output_type": "execute_result"
    },
    {
     "data": {
      "text/plain": [
       "(204820, 19)"
      ]
     },
     "execution_count": 23,
     "metadata": {},
     "output_type": "execute_result"
    }
   ],
   "source": [
    "#read in file and save first 13409 lines into a dataframe\n",
    "misc = pd.read_csv('../data/stream.csv')\n",
    "#show shape of df\n",
    "misc.head()\n",
    "misc.shape"
   ]
  },
  {
   "cell_type": "markdown",
   "metadata": {},
   "source": [
    "Similar to the Trump set, we'll now add a code to these tweets that indicates they were *not* made by Trump:"
   ]
  },
  {
   "cell_type": "code",
   "execution_count": 24,
   "metadata": {},
   "outputs": [
    {
     "data": {
      "text/html": [
       "<div>\n",
       "<style scoped>\n",
       "    .dataframe tbody tr th:only-of-type {\n",
       "        vertical-align: middle;\n",
       "    }\n",
       "\n",
       "    .dataframe tbody tr th {\n",
       "        vertical-align: top;\n",
       "    }\n",
       "\n",
       "    .dataframe thead th {\n",
       "        text-align: right;\n",
       "    }\n",
       "</style>\n",
       "<table border=\"1\" class=\"dataframe\">\n",
       "  <thead>\n",
       "    <tr style=\"text-align: right;\">\n",
       "      <th></th>\n",
       "      <th>Tweet Id</th>\n",
       "      <th>Date</th>\n",
       "      <th>Hour</th>\n",
       "      <th>User Name</th>\n",
       "      <th>Nickname</th>\n",
       "      <th>Bio</th>\n",
       "      <th>Tweet content</th>\n",
       "      <th>Favs</th>\n",
       "      <th>RTs</th>\n",
       "      <th>Latitude</th>\n",
       "      <th>Longitude</th>\n",
       "      <th>Country</th>\n",
       "      <th>Place (as appears on Bio)</th>\n",
       "      <th>Profile picture</th>\n",
       "      <th>Followers</th>\n",
       "      <th>Following</th>\n",
       "      <th>Listed</th>\n",
       "      <th>Tweet language (ISO 639-1)</th>\n",
       "      <th>Tweet Url</th>\n",
       "      <th>code</th>\n",
       "    </tr>\n",
       "  </thead>\n",
       "  <tbody>\n",
       "    <tr>\n",
       "      <td>0</td>\n",
       "      <td>721318437075685000</td>\n",
       "      <td>42476</td>\n",
       "      <td>0.530556</td>\n",
       "      <td>Bill Schulhoff</td>\n",
       "      <td>BillSchulhoff</td>\n",
       "      <td>Husband,Dad,GrandDad,Ordained Minister, Umpire...</td>\n",
       "      <td>Wind 3.2 mph NNE. Barometer 30.20 in, Rising s...</td>\n",
       "      <td>NaN</td>\n",
       "      <td>NaN</td>\n",
       "      <td>40.760278</td>\n",
       "      <td>-72.954722</td>\n",
       "      <td>US</td>\n",
       "      <td>East Patchogue, NY</td>\n",
       "      <td>http://pbs.twimg.com/profile_images/3788000007...</td>\n",
       "      <td>386.0</td>\n",
       "      <td>705.0</td>\n",
       "      <td>24.0</td>\n",
       "      <td>en</td>\n",
       "      <td>http://www.twitter.com/BillSchulhoff/status/72...</td>\n",
       "      <td>NT</td>\n",
       "    </tr>\n",
       "    <tr>\n",
       "      <td>1</td>\n",
       "      <td>721318436173979000</td>\n",
       "      <td>42476</td>\n",
       "      <td>0.530556</td>\n",
       "      <td>Daniele Polis</td>\n",
       "      <td>danipolis</td>\n",
       "      <td>Viagens, geek, moda, batons laranja, cabelos c...</td>\n",
       "      <td>Pausa pro café antes de embarcar no próximo vô...</td>\n",
       "      <td>NaN</td>\n",
       "      <td>NaN</td>\n",
       "      <td>32.898349</td>\n",
       "      <td>-97.039196</td>\n",
       "      <td>US</td>\n",
       "      <td>Grapevine, TX</td>\n",
       "      <td>http://pbs.twimg.com/profile_images/7041760340...</td>\n",
       "      <td>812.0</td>\n",
       "      <td>647.0</td>\n",
       "      <td>16.0</td>\n",
       "      <td>pt</td>\n",
       "      <td>http://www.twitter.com/danipolis/status/721318...</td>\n",
       "      <td>NT</td>\n",
       "    </tr>\n",
       "    <tr>\n",
       "      <td>2</td>\n",
       "      <td>721318434169102000</td>\n",
       "      <td>42476</td>\n",
       "      <td>0.530556</td>\n",
       "      <td>Kasey Jacobs</td>\n",
       "      <td>KJacobs27</td>\n",
       "      <td>Norwich University Class of 2017</td>\n",
       "      <td>Good. Morning. #morning #Saturday #diner #VT #...</td>\n",
       "      <td>NaN</td>\n",
       "      <td>NaN</td>\n",
       "      <td>44.199476</td>\n",
       "      <td>-72.504173</td>\n",
       "      <td>US</td>\n",
       "      <td>Barre, VT</td>\n",
       "      <td>http://pbs.twimg.com/profile_images/7169585649...</td>\n",
       "      <td>179.0</td>\n",
       "      <td>206.0</td>\n",
       "      <td>2.0</td>\n",
       "      <td>en</td>\n",
       "      <td>http://www.twitter.com/KJacobs27/status/721318...</td>\n",
       "      <td>NT</td>\n",
       "    </tr>\n",
       "    <tr>\n",
       "      <td>3</td>\n",
       "      <td>721318429844582000</td>\n",
       "      <td>42476</td>\n",
       "      <td>0.530556</td>\n",
       "      <td>Stan Curtis</td>\n",
       "      <td>stncurtis</td>\n",
       "      <td>transcendental music, art for art's sake, craf...</td>\n",
       "      <td>@gratefuldead recordstoredayus ______ @ TOMS M...</td>\n",
       "      <td>NaN</td>\n",
       "      <td>NaN</td>\n",
       "      <td>39.901474</td>\n",
       "      <td>-76.606817</td>\n",
       "      <td>US</td>\n",
       "      <td>Red Lion, PA</td>\n",
       "      <td>http://pbs.twimg.com/profile_images/6962528246...</td>\n",
       "      <td>1229.0</td>\n",
       "      <td>2071.0</td>\n",
       "      <td>11.0</td>\n",
       "      <td>en</td>\n",
       "      <td>http://www.twitter.com/stncurtis/status/721318...</td>\n",
       "      <td>NT</td>\n",
       "    </tr>\n",
       "    <tr>\n",
       "      <td>4</td>\n",
       "      <td>721318429081407000</td>\n",
       "      <td>42476</td>\n",
       "      <td>0.530556</td>\n",
       "      <td>Dave Borzymowski</td>\n",
       "      <td>wi_borzo</td>\n",
       "      <td>When in doubt....Panic.</td>\n",
       "      <td>Egg in a muffin!!! (@ Rocket Baby Bakery - @ro...</td>\n",
       "      <td>NaN</td>\n",
       "      <td>NaN</td>\n",
       "      <td>43.060849</td>\n",
       "      <td>-87.998309</td>\n",
       "      <td>US</td>\n",
       "      <td>Wauwatosa, WI</td>\n",
       "      <td>http://pbs.twimg.com/profile_images/6595279129...</td>\n",
       "      <td>129.0</td>\n",
       "      <td>833.0</td>\n",
       "      <td>9.0</td>\n",
       "      <td>en</td>\n",
       "      <td>http://www.twitter.com/wi_borzo/status/7213184...</td>\n",
       "      <td>NT</td>\n",
       "    </tr>\n",
       "  </tbody>\n",
       "</table>\n",
       "</div>"
      ],
      "text/plain": [
       "             Tweet Id   Date      Hour         User Name       Nickname  \\\n",
       "0  721318437075685000  42476  0.530556    Bill Schulhoff  BillSchulhoff   \n",
       "1  721318436173979000  42476  0.530556     Daniele Polis      danipolis   \n",
       "2  721318434169102000  42476  0.530556      Kasey Jacobs      KJacobs27   \n",
       "3  721318429844582000  42476  0.530556       Stan Curtis      stncurtis   \n",
       "4  721318429081407000  42476  0.530556  Dave Borzymowski       wi_borzo   \n",
       "\n",
       "                                                 Bio  \\\n",
       "0  Husband,Dad,GrandDad,Ordained Minister, Umpire...   \n",
       "1  Viagens, geek, moda, batons laranja, cabelos c...   \n",
       "2                   Norwich University Class of 2017   \n",
       "3  transcendental music, art for art's sake, craf...   \n",
       "4                            When in doubt....Panic.   \n",
       "\n",
       "                                       Tweet content  Favs  RTs   Latitude  \\\n",
       "0  Wind 3.2 mph NNE. Barometer 30.20 in, Rising s...   NaN  NaN  40.760278   \n",
       "1  Pausa pro café antes de embarcar no próximo vô...   NaN  NaN  32.898349   \n",
       "2  Good. Morning. #morning #Saturday #diner #VT #...   NaN  NaN  44.199476   \n",
       "3  @gratefuldead recordstoredayus ______ @ TOMS M...   NaN  NaN  39.901474   \n",
       "4  Egg in a muffin!!! (@ Rocket Baby Bakery - @ro...   NaN  NaN  43.060849   \n",
       "\n",
       "   Longitude Country Place (as appears on Bio)  \\\n",
       "0 -72.954722      US        East Patchogue, NY   \n",
       "1 -97.039196      US             Grapevine, TX   \n",
       "2 -72.504173      US                 Barre, VT   \n",
       "3 -76.606817      US              Red Lion, PA   \n",
       "4 -87.998309      US             Wauwatosa, WI   \n",
       "\n",
       "                                     Profile picture  Followers  Following  \\\n",
       "0  http://pbs.twimg.com/profile_images/3788000007...      386.0      705.0   \n",
       "1  http://pbs.twimg.com/profile_images/7041760340...      812.0      647.0   \n",
       "2  http://pbs.twimg.com/profile_images/7169585649...      179.0      206.0   \n",
       "3  http://pbs.twimg.com/profile_images/6962528246...     1229.0     2071.0   \n",
       "4  http://pbs.twimg.com/profile_images/6595279129...      129.0      833.0   \n",
       "\n",
       "   Listed Tweet language (ISO 639-1)  \\\n",
       "0    24.0                         en   \n",
       "1    16.0                         pt   \n",
       "2     2.0                         en   \n",
       "3    11.0                         en   \n",
       "4     9.0                         en   \n",
       "\n",
       "                                           Tweet Url code  \n",
       "0  http://www.twitter.com/BillSchulhoff/status/72...   NT  \n",
       "1  http://www.twitter.com/danipolis/status/721318...   NT  \n",
       "2  http://www.twitter.com/KJacobs27/status/721318...   NT  \n",
       "3  http://www.twitter.com/stncurtis/status/721318...   NT  \n",
       "4  http://www.twitter.com/wi_borzo/status/7213184...   NT  "
      ]
     },
     "execution_count": 24,
     "metadata": {},
     "output_type": "execute_result"
    }
   ],
   "source": [
    "misc['code'] = 'NT'\n",
    "misc.head()"
   ]
  },
  {
   "cell_type": "markdown",
   "metadata": {},
   "source": [
    "Next we will drop all of the rows we will not need like we did before:"
   ]
  },
  {
   "cell_type": "code",
   "execution_count": 25,
   "metadata": {},
   "outputs": [
    {
     "data": {
      "text/html": [
       "<div>\n",
       "<style scoped>\n",
       "    .dataframe tbody tr th:only-of-type {\n",
       "        vertical-align: middle;\n",
       "    }\n",
       "\n",
       "    .dataframe tbody tr th {\n",
       "        vertical-align: top;\n",
       "    }\n",
       "\n",
       "    .dataframe thead th {\n",
       "        text-align: right;\n",
       "    }\n",
       "</style>\n",
       "<table border=\"1\" class=\"dataframe\">\n",
       "  <thead>\n",
       "    <tr style=\"text-align: right;\">\n",
       "      <th></th>\n",
       "      <th>Tweet content</th>\n",
       "      <th>code</th>\n",
       "    </tr>\n",
       "  </thead>\n",
       "  <tbody>\n",
       "    <tr>\n",
       "      <td>0</td>\n",
       "      <td>Wind 3.2 mph NNE. Barometer 30.20 in, Rising s...</td>\n",
       "      <td>NT</td>\n",
       "    </tr>\n",
       "    <tr>\n",
       "      <td>1</td>\n",
       "      <td>Pausa pro café antes de embarcar no próximo vô...</td>\n",
       "      <td>NT</td>\n",
       "    </tr>\n",
       "    <tr>\n",
       "      <td>2</td>\n",
       "      <td>Good. Morning. #morning #Saturday #diner #VT #...</td>\n",
       "      <td>NT</td>\n",
       "    </tr>\n",
       "    <tr>\n",
       "      <td>3</td>\n",
       "      <td>@gratefuldead recordstoredayus ______ @ TOMS M...</td>\n",
       "      <td>NT</td>\n",
       "    </tr>\n",
       "    <tr>\n",
       "      <td>4</td>\n",
       "      <td>Egg in a muffin!!! (@ Rocket Baby Bakery - @ro...</td>\n",
       "      <td>NT</td>\n",
       "    </tr>\n",
       "  </tbody>\n",
       "</table>\n",
       "</div>"
      ],
      "text/plain": [
       "                                       Tweet content code\n",
       "0  Wind 3.2 mph NNE. Barometer 30.20 in, Rising s...   NT\n",
       "1  Pausa pro café antes de embarcar no próximo vô...   NT\n",
       "2  Good. Morning. #morning #Saturday #diner #VT #...   NT\n",
       "3  @gratefuldead recordstoredayus ______ @ TOMS M...   NT\n",
       "4  Egg in a muffin!!! (@ Rocket Baby Bakery - @ro...   NT"
      ]
     },
     "execution_count": 25,
     "metadata": {},
     "output_type": "execute_result"
    }
   ],
   "source": [
    "misc = misc[['Tweet content', 'code']]\n",
    "misc.head()"
   ]
  },
  {
   "cell_type": "markdown",
   "metadata": {},
   "source": [
    "And we will rename the content column so it is uniform with the Trump dataframe:"
   ]
  },
  {
   "cell_type": "code",
   "execution_count": 26,
   "metadata": {
    "scrolled": true
   },
   "outputs": [
    {
     "data": {
      "text/html": [
       "<div>\n",
       "<style scoped>\n",
       "    .dataframe tbody tr th:only-of-type {\n",
       "        vertical-align: middle;\n",
       "    }\n",
       "\n",
       "    .dataframe tbody tr th {\n",
       "        vertical-align: top;\n",
       "    }\n",
       "\n",
       "    .dataframe thead th {\n",
       "        text-align: right;\n",
       "    }\n",
       "</style>\n",
       "<table border=\"1\" class=\"dataframe\">\n",
       "  <thead>\n",
       "    <tr style=\"text-align: right;\">\n",
       "      <th></th>\n",
       "      <th>text</th>\n",
       "      <th>code</th>\n",
       "    </tr>\n",
       "  </thead>\n",
       "  <tbody>\n",
       "    <tr>\n",
       "      <td>0</td>\n",
       "      <td>Wind 3.2 mph NNE. Barometer 30.20 in, Rising s...</td>\n",
       "      <td>NT</td>\n",
       "    </tr>\n",
       "    <tr>\n",
       "      <td>1</td>\n",
       "      <td>Pausa pro café antes de embarcar no próximo vô...</td>\n",
       "      <td>NT</td>\n",
       "    </tr>\n",
       "    <tr>\n",
       "      <td>2</td>\n",
       "      <td>Good. Morning. #morning #Saturday #diner #VT #...</td>\n",
       "      <td>NT</td>\n",
       "    </tr>\n",
       "    <tr>\n",
       "      <td>3</td>\n",
       "      <td>@gratefuldead recordstoredayus ______ @ TOMS M...</td>\n",
       "      <td>NT</td>\n",
       "    </tr>\n",
       "    <tr>\n",
       "      <td>4</td>\n",
       "      <td>Egg in a muffin!!! (@ Rocket Baby Bakery - @ro...</td>\n",
       "      <td>NT</td>\n",
       "    </tr>\n",
       "  </tbody>\n",
       "</table>\n",
       "</div>"
      ],
      "text/plain": [
       "                                                text code\n",
       "0  Wind 3.2 mph NNE. Barometer 30.20 in, Rising s...   NT\n",
       "1  Pausa pro café antes de embarcar no próximo vô...   NT\n",
       "2  Good. Morning. #morning #Saturday #diner #VT #...   NT\n",
       "3  @gratefuldead recordstoredayus ______ @ TOMS M...   NT\n",
       "4  Egg in a muffin!!! (@ Rocket Baby Bakery - @ro...   NT"
      ]
     },
     "execution_count": 26,
     "metadata": {},
     "output_type": "execute_result"
    }
   ],
   "source": [
    "misc.columns = ['text', 'code']\n",
    "misc.head()"
   ]
  },
  {
   "cell_type": "markdown",
   "metadata": {},
   "source": [
    "Beautiful. Now we have two separate dataframes of tweets: one set is comprised of exclusively Trump tweets and the other is comprised of a set of random tweets. Both dataframes contain only the tweet content and an indicator code identifying whether or not the tweet was made by Trump. These are ready to be concatenated, but there is one more thing I am going to do: I'm going to create a copy of this dataframe and add a column that creates the polarity of these tweets. This will allow me to measure the overall polarity of these tweets in comparison to Trump."
   ]
  },
  {
   "cell_type": "code",
   "execution_count": 27,
   "metadata": {},
   "outputs": [
    {
     "data": {
      "text/html": [
       "<div>\n",
       "<style scoped>\n",
       "    .dataframe tbody tr th:only-of-type {\n",
       "        vertical-align: middle;\n",
       "    }\n",
       "\n",
       "    .dataframe tbody tr th {\n",
       "        vertical-align: top;\n",
       "    }\n",
       "\n",
       "    .dataframe thead th {\n",
       "        text-align: right;\n",
       "    }\n",
       "</style>\n",
       "<table border=\"1\" class=\"dataframe\">\n",
       "  <thead>\n",
       "    <tr style=\"text-align: right;\">\n",
       "      <th></th>\n",
       "      <th>text</th>\n",
       "      <th>code</th>\n",
       "    </tr>\n",
       "  </thead>\n",
       "  <tbody>\n",
       "    <tr>\n",
       "      <td>0</td>\n",
       "      <td>Wind 3.2 mph NNE. Barometer 30.20 in, Rising s...</td>\n",
       "      <td>NT</td>\n",
       "    </tr>\n",
       "    <tr>\n",
       "      <td>1</td>\n",
       "      <td>Pausa pro café antes de embarcar no próximo vô...</td>\n",
       "      <td>NT</td>\n",
       "    </tr>\n",
       "    <tr>\n",
       "      <td>2</td>\n",
       "      <td>Good. Morning. #morning #Saturday #diner #VT #...</td>\n",
       "      <td>NT</td>\n",
       "    </tr>\n",
       "    <tr>\n",
       "      <td>3</td>\n",
       "      <td>@gratefuldead recordstoredayus ______ @ TOMS M...</td>\n",
       "      <td>NT</td>\n",
       "    </tr>\n",
       "    <tr>\n",
       "      <td>4</td>\n",
       "      <td>Egg in a muffin!!! (@ Rocket Baby Bakery - @ro...</td>\n",
       "      <td>NT</td>\n",
       "    </tr>\n",
       "  </tbody>\n",
       "</table>\n",
       "</div>"
      ],
      "text/plain": [
       "                                                text code\n",
       "0  Wind 3.2 mph NNE. Barometer 30.20 in, Rising s...   NT\n",
       "1  Pausa pro café antes de embarcar no próximo vô...   NT\n",
       "2  Good. Morning. #morning #Saturday #diner #VT #...   NT\n",
       "3  @gratefuldead recordstoredayus ______ @ TOMS M...   NT\n",
       "4  Egg in a muffin!!! (@ Rocket Baby Bakery - @ro...   NT"
      ]
     },
     "execution_count": 27,
     "metadata": {},
     "output_type": "execute_result"
    }
   ],
   "source": [
    "misc_pol = misc.copy(deep=True)\n",
    "misc_pol.head()"
   ]
  },
  {
   "cell_type": "markdown",
   "metadata": {},
   "source": [
    "Here we will create the polarity map and add it add it to the copied dataframe:"
   ]
  },
  {
   "cell_type": "code",
   "execution_count": 28,
   "metadata": {
    "scrolled": true
   },
   "outputs": [
    {
     "data": {
      "text/html": [
       "<div>\n",
       "<style scoped>\n",
       "    .dataframe tbody tr th:only-of-type {\n",
       "        vertical-align: middle;\n",
       "    }\n",
       "\n",
       "    .dataframe tbody tr th {\n",
       "        vertical-align: top;\n",
       "    }\n",
       "\n",
       "    .dataframe thead th {\n",
       "        text-align: right;\n",
       "    }\n",
       "</style>\n",
       "<table border=\"1\" class=\"dataframe\">\n",
       "  <thead>\n",
       "    <tr style=\"text-align: right;\">\n",
       "      <th></th>\n",
       "      <th>text</th>\n",
       "      <th>code</th>\n",
       "      <th>polarity</th>\n",
       "    </tr>\n",
       "  </thead>\n",
       "  <tbody>\n",
       "    <tr>\n",
       "      <td>0</td>\n",
       "      <td>Wind 3.2 mph NNE. Barometer 30.20 in, Rising s...</td>\n",
       "      <td>NT</td>\n",
       "      <td>-0.3</td>\n",
       "    </tr>\n",
       "    <tr>\n",
       "      <td>1</td>\n",
       "      <td>Pausa pro café antes de embarcar no próximo vô...</td>\n",
       "      <td>NT</td>\n",
       "      <td>0.0</td>\n",
       "    </tr>\n",
       "    <tr>\n",
       "      <td>2</td>\n",
       "      <td>Good. Morning. #morning #Saturday #diner #VT #...</td>\n",
       "      <td>NT</td>\n",
       "      <td>0.7</td>\n",
       "    </tr>\n",
       "    <tr>\n",
       "      <td>3</td>\n",
       "      <td>@gratefuldead recordstoredayus ______ @ TOMS M...</td>\n",
       "      <td>NT</td>\n",
       "      <td>0.0</td>\n",
       "    </tr>\n",
       "    <tr>\n",
       "      <td>4</td>\n",
       "      <td>Egg in a muffin!!! (@ Rocket Baby Bakery - @ro...</td>\n",
       "      <td>NT</td>\n",
       "      <td>0.0</td>\n",
       "    </tr>\n",
       "  </tbody>\n",
       "</table>\n",
       "</div>"
      ],
      "text/plain": [
       "                                                text code  polarity\n",
       "0  Wind 3.2 mph NNE. Barometer 30.20 in, Rising s...   NT      -0.3\n",
       "1  Pausa pro café antes de embarcar no próximo vô...   NT       0.0\n",
       "2  Good. Morning. #morning #Saturday #diner #VT #...   NT       0.7\n",
       "3  @gratefuldead recordstoredayus ______ @ TOMS M...   NT       0.0\n",
       "4  Egg in a muffin!!! (@ Rocket Baby Bakery - @ro...   NT       0.0"
      ]
     },
     "execution_count": 28,
     "metadata": {},
     "output_type": "execute_result"
    }
   ],
   "source": [
    "#create polarity map\n",
    "polarity2 = misc_pol.text.map(lambda x: tb(x).sentiment.polarity)\n",
    "\n",
    "#add the map to misc_pol\n",
    "misc_pol['polarity'] = polarity2\n",
    "misc_pol.head()"
   ]
  },
  {
   "cell_type": "code",
   "execution_count": 29,
   "metadata": {},
   "outputs": [
    {
     "data": {
      "text/html": [
       "<div>\n",
       "<style scoped>\n",
       "    .dataframe tbody tr th:only-of-type {\n",
       "        vertical-align: middle;\n",
       "    }\n",
       "\n",
       "    .dataframe tbody tr th {\n",
       "        vertical-align: top;\n",
       "    }\n",
       "\n",
       "    .dataframe thead th {\n",
       "        text-align: right;\n",
       "    }\n",
       "</style>\n",
       "<table border=\"1\" class=\"dataframe\">\n",
       "  <thead>\n",
       "    <tr style=\"text-align: right;\">\n",
       "      <th></th>\n",
       "      <th>text</th>\n",
       "      <th>code</th>\n",
       "      <th>polarity</th>\n",
       "    </tr>\n",
       "  </thead>\n",
       "  <tbody>\n",
       "    <tr>\n",
       "      <td>0</td>\n",
       "      <td>Wind 3.2 mph NNE. Barometer 30.20 in, Rising s...</td>\n",
       "      <td>NT</td>\n",
       "      <td>-0.30</td>\n",
       "    </tr>\n",
       "    <tr>\n",
       "      <td>1</td>\n",
       "      <td>Pausa pro café antes de embarcar no próximo vô...</td>\n",
       "      <td>NT</td>\n",
       "      <td>0.00</td>\n",
       "    </tr>\n",
       "    <tr>\n",
       "      <td>2</td>\n",
       "      <td>Good. Morning. #morning #Saturday #diner #VT #...</td>\n",
       "      <td>NT</td>\n",
       "      <td>0.70</td>\n",
       "    </tr>\n",
       "    <tr>\n",
       "      <td>3</td>\n",
       "      <td>@gratefuldead recordstoredayus ______ @ TOMS M...</td>\n",
       "      <td>NT</td>\n",
       "      <td>0.00</td>\n",
       "    </tr>\n",
       "    <tr>\n",
       "      <td>4</td>\n",
       "      <td>Egg in a muffin!!! (@ Rocket Baby Bakery - @ro...</td>\n",
       "      <td>NT</td>\n",
       "      <td>0.00</td>\n",
       "    </tr>\n",
       "    <tr>\n",
       "      <td>...</td>\n",
       "      <td>...</td>\n",
       "      <td>...</td>\n",
       "      <td>...</td>\n",
       "    </tr>\n",
       "    <tr>\n",
       "      <td>95</td>\n",
       "      <td>Good morning!!! #artofvisuals #stdothis #sombr...</td>\n",
       "      <td>NT</td>\n",
       "      <td>1.00</td>\n",
       "    </tr>\n",
       "    <tr>\n",
       "      <td>96</td>\n",
       "      <td>#iwantadog when it gets dark my dog will bark ...</td>\n",
       "      <td>NT</td>\n",
       "      <td>-0.15</td>\n",
       "    </tr>\n",
       "    <tr>\n",
       "      <td>97</td>\n",
       "      <td>This #Manufacturing #job might be a great fit ...</td>\n",
       "      <td>NT</td>\n",
       "      <td>0.60</td>\n",
       "    </tr>\n",
       "    <tr>\n",
       "      <td>98</td>\n",
       "      <td>Buen día, ya listo para irme al #gym \\n\\nPrínc...</td>\n",
       "      <td>NT</td>\n",
       "      <td>0.00</td>\n",
       "    </tr>\n",
       "    <tr>\n",
       "      <td>99</td>\n",
       "      <td>#EmergencyMedicine alert: Patient Care Associa...</td>\n",
       "      <td>NT</td>\n",
       "      <td>0.00</td>\n",
       "    </tr>\n",
       "  </tbody>\n",
       "</table>\n",
       "<p>100 rows × 3 columns</p>\n",
       "</div>"
      ],
      "text/plain": [
       "                                                 text code  polarity\n",
       "0   Wind 3.2 mph NNE. Barometer 30.20 in, Rising s...   NT     -0.30\n",
       "1   Pausa pro café antes de embarcar no próximo vô...   NT      0.00\n",
       "2   Good. Morning. #morning #Saturday #diner #VT #...   NT      0.70\n",
       "3   @gratefuldead recordstoredayus ______ @ TOMS M...   NT      0.00\n",
       "4   Egg in a muffin!!! (@ Rocket Baby Bakery - @ro...   NT      0.00\n",
       "..                                                ...  ...       ...\n",
       "95  Good morning!!! #artofvisuals #stdothis #sombr...   NT      1.00\n",
       "96  #iwantadog when it gets dark my dog will bark ...   NT     -0.15\n",
       "97  This #Manufacturing #job might be a great fit ...   NT      0.60\n",
       "98  Buen día, ya listo para irme al #gym \\n\\nPrínc...   NT      0.00\n",
       "99  #EmergencyMedicine alert: Patient Care Associa...   NT      0.00\n",
       "\n",
       "[100 rows x 3 columns]"
      ]
     },
     "execution_count": 29,
     "metadata": {},
     "output_type": "execute_result"
    }
   ],
   "source": [
    "misc_pol.head(100)"
   ]
  },
  {
   "cell_type": "markdown",
   "metadata": {},
   "source": [
    " Now that our data is in this format, we can add them into one large dataframe. First, we'll only include the number of rows that are in the trump dataframe for the sake of consistency, then we can add the two:"
   ]
  },
  {
   "cell_type": "code",
   "execution_count": 30,
   "metadata": {
    "scrolled": true
   },
   "outputs": [
    {
     "data": {
      "text/plain": [
       "(40815, 2)"
      ]
     },
     "execution_count": 30,
     "metadata": {},
     "output_type": "execute_result"
    }
   ],
   "source": [
    "trump.shape"
   ]
  },
  {
   "cell_type": "markdown",
   "metadata": {},
   "source": [
    "There are 40,815 Trump tweets, so we will only include this many from the misc tweets:"
   ]
  },
  {
   "cell_type": "code",
   "execution_count": 31,
   "metadata": {
    "scrolled": false
   },
   "outputs": [
    {
     "data": {
      "text/html": [
       "<div>\n",
       "<style scoped>\n",
       "    .dataframe tbody tr th:only-of-type {\n",
       "        vertical-align: middle;\n",
       "    }\n",
       "\n",
       "    .dataframe tbody tr th {\n",
       "        vertical-align: top;\n",
       "    }\n",
       "\n",
       "    .dataframe thead th {\n",
       "        text-align: right;\n",
       "    }\n",
       "</style>\n",
       "<table border=\"1\" class=\"dataframe\">\n",
       "  <thead>\n",
       "    <tr style=\"text-align: right;\">\n",
       "      <th></th>\n",
       "      <th>text</th>\n",
       "      <th>code</th>\n",
       "    </tr>\n",
       "  </thead>\n",
       "  <tbody>\n",
       "    <tr>\n",
       "      <td>0</td>\n",
       "      <td>This #Sales #job might be a great fit for you:...</td>\n",
       "      <td>NT</td>\n",
       "    </tr>\n",
       "    <tr>\n",
       "      <td>1</td>\n",
       "      <td>Buffat (I said what I said) at the Bellagio. I...</td>\n",
       "      <td>NT</td>\n",
       "    </tr>\n",
       "    <tr>\n",
       "      <td>2</td>\n",
       "      <td>Sadie Schenck  2016 Fusion SE #bobhurleyford #...</td>\n",
       "      <td>NT</td>\n",
       "    </tr>\n",
       "    <tr>\n",
       "      <td>3</td>\n",
       "      <td>=@warcospa Pues vas, yo pongo las de pedrito.</td>\n",
       "      <td>NT</td>\n",
       "    </tr>\n",
       "    <tr>\n",
       "      <td>4</td>\n",
       "      <td>1379 Midway Central Rd, Livingston, TX 77351, ...</td>\n",
       "      <td>NT</td>\n",
       "    </tr>\n",
       "    <tr>\n",
       "      <td>...</td>\n",
       "      <td>...</td>\n",
       "      <td>...</td>\n",
       "    </tr>\n",
       "    <tr>\n",
       "      <td>204815</td>\n",
       "      <td>Home (@ The Crib in Escondido, CA) https://t.c...</td>\n",
       "      <td>NT</td>\n",
       "    </tr>\n",
       "    <tr>\n",
       "      <td>204816</td>\n",
       "      <td>I'm at The Banks - @ibackthebanks in Cincinnat...</td>\n",
       "      <td>NT</td>\n",
       "    </tr>\n",
       "    <tr>\n",
       "      <td>204817</td>\n",
       "      <td>We're #hiring! Click to apply: Assistant Salon...</td>\n",
       "      <td>NT</td>\n",
       "    </tr>\n",
       "    <tr>\n",
       "      <td>204818</td>\n",
       "      <td>#nursinghome #churchservice #biblebaptistchurc...</td>\n",
       "      <td>NT</td>\n",
       "    </tr>\n",
       "    <tr>\n",
       "      <td>204819</td>\n",
       "      <td>65.2F (Feels: 65.2F) - Humidity: 95% - Wind: 5...</td>\n",
       "      <td>NT</td>\n",
       "    </tr>\n",
       "  </tbody>\n",
       "</table>\n",
       "<p>204820 rows × 2 columns</p>\n",
       "</div>"
      ],
      "text/plain": [
       "                                                     text code\n",
       "0       This #Sales #job might be a great fit for you:...   NT\n",
       "1       Buffat (I said what I said) at the Bellagio. I...   NT\n",
       "2       Sadie Schenck  2016 Fusion SE #bobhurleyford #...   NT\n",
       "3           =@warcospa Pues vas, yo pongo las de pedrito.   NT\n",
       "4       1379 Midway Central Rd, Livingston, TX 77351, ...   NT\n",
       "...                                                   ...  ...\n",
       "204815  Home (@ The Crib in Escondido, CA) https://t.c...   NT\n",
       "204816  I'm at The Banks - @ibackthebanks in Cincinnat...   NT\n",
       "204817  We're #hiring! Click to apply: Assistant Salon...   NT\n",
       "204818  #nursinghome #churchservice #biblebaptistchurc...   NT\n",
       "204819  65.2F (Feels: 65.2F) - Humidity: 95% - Wind: 5...   NT\n",
       "\n",
       "[204820 rows x 2 columns]"
      ]
     },
     "execution_count": 31,
     "metadata": {},
     "output_type": "execute_result"
    },
    {
     "data": {
      "text/plain": [
       "(40815, 2)"
      ]
     },
     "execution_count": 31,
     "metadata": {},
     "output_type": "execute_result"
    }
   ],
   "source": [
    "#grab 40,815 tweets\n",
    "misc.sample(frac=1).reset_index(drop=True)\n",
    "misc = misc.head(40815)\n",
    "misc.shape"
   ]
  },
  {
   "cell_type": "markdown",
   "metadata": {},
   "source": [
    "Beautiful. Finally, we can simply concatenate the two dataframes:"
   ]
  },
  {
   "cell_type": "code",
   "execution_count": 32,
   "metadata": {},
   "outputs": [
    {
     "data": {
      "text/plain": [
       "(81630, 2)"
      ]
     },
     "execution_count": 32,
     "metadata": {},
     "output_type": "execute_result"
    }
   ],
   "source": [
    "both = pd.concat([trump, misc])\n",
    "both.shape"
   ]
  },
  {
   "cell_type": "markdown",
   "metadata": {},
   "source": [
    "One final step: we will pickle the data so that it can be reused easily:"
   ]
  },
  {
   "cell_type": "code",
   "execution_count": 33,
   "metadata": {},
   "outputs": [],
   "source": [
    "#pickle final df\n",
    "pd.to_pickle(misc_pol, \"../data/misc_polarity.pkl\")\n",
    "pd.to_pickle(both, \"../data/all_tweets.pkl\")"
   ]
  },
  {
   "cell_type": "markdown",
   "metadata": {},
   "source": [
    "## Exploratory Data Analysis\n",
    "\n",
    "Now that the data is prepared, we can begin making some determining some more specific characteristics of the data. First, we will look at a summary of the data:"
   ]
  },
  {
   "cell_type": "code",
   "execution_count": 34,
   "metadata": {
    "scrolled": true
   },
   "outputs": [
    {
     "data": {
      "text/html": [
       "<div>\n",
       "<style scoped>\n",
       "    .dataframe tbody tr th:only-of-type {\n",
       "        vertical-align: middle;\n",
       "    }\n",
       "\n",
       "    .dataframe tbody tr th {\n",
       "        vertical-align: top;\n",
       "    }\n",
       "\n",
       "    .dataframe thead th {\n",
       "        text-align: right;\n",
       "    }\n",
       "</style>\n",
       "<table border=\"1\" class=\"dataframe\">\n",
       "  <thead>\n",
       "    <tr style=\"text-align: right;\">\n",
       "      <th></th>\n",
       "      <th>retweet_count</th>\n",
       "      <th>favorite_count</th>\n",
       "      <th>polarity</th>\n",
       "      <th>subjectivity</th>\n",
       "      <th>year</th>\n",
       "    </tr>\n",
       "  </thead>\n",
       "  <tbody>\n",
       "    <tr>\n",
       "      <td>count</td>\n",
       "      <td>44440.000000</td>\n",
       "      <td>44440.000000</td>\n",
       "      <td>44440.000000</td>\n",
       "      <td>44440.000000</td>\n",
       "      <td>44440.000000</td>\n",
       "    </tr>\n",
       "    <tr>\n",
       "      <td>mean</td>\n",
       "      <td>7636.777790</td>\n",
       "      <td>24898.180918</td>\n",
       "      <td>0.170295</td>\n",
       "      <td>0.420008</td>\n",
       "      <td>2015.747660</td>\n",
       "    </tr>\n",
       "    <tr>\n",
       "      <td>std</td>\n",
       "      <td>11764.474005</td>\n",
       "      <td>46413.413234</td>\n",
       "      <td>0.349403</td>\n",
       "      <td>0.309043</td>\n",
       "      <td>2.629316</td>\n",
       "    </tr>\n",
       "    <tr>\n",
       "      <td>min</td>\n",
       "      <td>0.000000</td>\n",
       "      <td>0.000000</td>\n",
       "      <td>-1.000000</td>\n",
       "      <td>0.000000</td>\n",
       "      <td>2009.000000</td>\n",
       "    </tr>\n",
       "    <tr>\n",
       "      <td>25%</td>\n",
       "      <td>35.000000</td>\n",
       "      <td>15.000000</td>\n",
       "      <td>0.000000</td>\n",
       "      <td>0.100000</td>\n",
       "      <td>2013.000000</td>\n",
       "    </tr>\n",
       "    <tr>\n",
       "      <td>50%</td>\n",
       "      <td>1212.000000</td>\n",
       "      <td>132.000000</td>\n",
       "      <td>0.080556</td>\n",
       "      <td>0.459524</td>\n",
       "      <td>2015.000000</td>\n",
       "    </tr>\n",
       "    <tr>\n",
       "      <td>75%</td>\n",
       "      <td>12888.000000</td>\n",
       "      <td>39279.500000</td>\n",
       "      <td>0.378788</td>\n",
       "      <td>0.650000</td>\n",
       "      <td>2018.000000</td>\n",
       "    </tr>\n",
       "    <tr>\n",
       "      <td>max</td>\n",
       "      <td>369530.000000</td>\n",
       "      <td>879647.000000</td>\n",
       "      <td>1.000000</td>\n",
       "      <td>1.000000</td>\n",
       "      <td>2020.000000</td>\n",
       "    </tr>\n",
       "  </tbody>\n",
       "</table>\n",
       "</div>"
      ],
      "text/plain": [
       "       retweet_count  favorite_count      polarity  subjectivity          year\n",
       "count   44440.000000    44440.000000  44440.000000  44440.000000  44440.000000\n",
       "mean     7636.777790    24898.180918      0.170295      0.420008   2015.747660\n",
       "std     11764.474005    46413.413234      0.349403      0.309043      2.629316\n",
       "min         0.000000        0.000000     -1.000000      0.000000   2009.000000\n",
       "25%        35.000000       15.000000      0.000000      0.100000   2013.000000\n",
       "50%      1212.000000      132.000000      0.080556      0.459524   2015.000000\n",
       "75%     12888.000000    39279.500000      0.378788      0.650000   2018.000000\n",
       "max    369530.000000   879647.000000      1.000000      1.000000   2020.000000"
      ]
     },
     "execution_count": 34,
     "metadata": {},
     "output_type": "execute_result"
    }
   ],
   "source": [
    "#print description of data\n",
    "tweets.describe()"
   ]
  },
  {
   "cell_type": "markdown",
   "metadata": {},
   "source": [
    "Since the average polarity of his tweets is relatively neutral, I would guess that his individual tweets are distributed bimodaly. We can investigate that here:"
   ]
  },
  {
   "cell_type": "code",
   "execution_count": 35,
   "metadata": {
    "scrolled": true
   },
   "outputs": [
    {
     "data": {
      "text/plain": [
       "[Text(0, 0.5, 'Polarity')]"
      ]
     },
     "execution_count": 35,
     "metadata": {},
     "output_type": "execute_result"
    },
    {
     "data": {
      "image/png": "[encoded data removed]",
      "text/plain": [
       "<Figure size 432x288 with 1 Axes>"
      ]
     },
     "metadata": {
      "needs_background": "light"
     },
     "output_type": "display_data"
    }
   ],
   "source": [
    "#print box graph of polarities\n",
    "fig = plt.figure()\n",
    "tweets['polarity'].plot(kind='box').set(ylabel='Polarity')\n",
    "fig.savefig(imgdir + 'polarity_box.png')"
   ]
  },
  {
   "cell_type": "markdown",
   "metadata": {},
   "source": [
    "Interesting. So the graph tells us that many of the outliers in the data are skewed left. This could also be determined since the median is greater than the mean. Now, I'd like to see how this compares to the polarity of the sample of random tweets. We'll use similar to code to do this:"
   ]
  },
  {
   "cell_type": "code",
   "execution_count": 36,
   "metadata": {},
   "outputs": [
    {
     "data": {
      "text/html": [
       "<div>\n",
       "<style scoped>\n",
       "    .dataframe tbody tr th:only-of-type {\n",
       "        vertical-align: middle;\n",
       "    }\n",
       "\n",
       "    .dataframe tbody tr th {\n",
       "        vertical-align: top;\n",
       "    }\n",
       "\n",
       "    .dataframe thead th {\n",
       "        text-align: right;\n",
       "    }\n",
       "</style>\n",
       "<table border=\"1\" class=\"dataframe\">\n",
       "  <thead>\n",
       "    <tr style=\"text-align: right;\">\n",
       "      <th></th>\n",
       "      <th>polarity</th>\n",
       "    </tr>\n",
       "  </thead>\n",
       "  <tbody>\n",
       "    <tr>\n",
       "      <td>count</td>\n",
       "      <td>204820.000000</td>\n",
       "    </tr>\n",
       "    <tr>\n",
       "      <td>mean</td>\n",
       "      <td>0.118452</td>\n",
       "    </tr>\n",
       "    <tr>\n",
       "      <td>std</td>\n",
       "      <td>0.277684</td>\n",
       "    </tr>\n",
       "    <tr>\n",
       "      <td>min</td>\n",
       "      <td>-1.000000</td>\n",
       "    </tr>\n",
       "    <tr>\n",
       "      <td>25%</td>\n",
       "      <td>0.000000</td>\n",
       "    </tr>\n",
       "    <tr>\n",
       "      <td>50%</td>\n",
       "      <td>0.000000</td>\n",
       "    </tr>\n",
       "    <tr>\n",
       "      <td>75%</td>\n",
       "      <td>0.250000</td>\n",
       "    </tr>\n",
       "    <tr>\n",
       "      <td>max</td>\n",
       "      <td>1.000000</td>\n",
       "    </tr>\n",
       "  </tbody>\n",
       "</table>\n",
       "</div>"
      ],
      "text/plain": [
       "            polarity\n",
       "count  204820.000000\n",
       "mean        0.118452\n",
       "std         0.277684\n",
       "min        -1.000000\n",
       "25%         0.000000\n",
       "50%         0.000000\n",
       "75%         0.250000\n",
       "max         1.000000"
      ]
     },
     "execution_count": 36,
     "metadata": {},
     "output_type": "execute_result"
    },
    {
     "data": {
      "text/plain": [
       "[Text(0, 0.5, 'Polarity')]"
      ]
     },
     "execution_count": 36,
     "metadata": {},
     "output_type": "execute_result"
    },
    {
     "data": {
      "image/png": "[encoded data removed]",
      "text/plain": [
       "<Figure size 432x288 with 1 Axes>"
      ]
     },
     "metadata": {
      "needs_background": "light"
     },
     "output_type": "display_data"
    }
   ],
   "source": [
    "#show statistical information about the polarity\n",
    "misc_pol.describe()\n",
    "\n",
    "#create box graph\n",
    "fig = plt.figure()\n",
    "misc_pol['polarity'].plot(kind='box').set(ylabel='Polarity')\n",
    "fig.savefig(imgdir + 'misc_polarity_box.png')"
   ]
  },
  {
   "cell_type": "markdown",
   "metadata": {},
   "source": [
    "Interesting. According to this, the random sample had a *lower* average sentiment than the President. Because Donald Trump is so well-known for his negative usage of Twitter, this is definitely interesting. I would imagine that a big reason for this perception is simply that his more negative tweets get most of our attention, while the average ones fly under the radar.\n",
    "\n",
    "Another interesting data point could be seen in his average tweet year, which was 2015.7 (which would be about mid-August that year). We can use the value counts of each year to show the spread:"
   ]
  },
  {
   "cell_type": "code",
   "execution_count": 37,
   "metadata": {
    "scrolled": true
   },
   "outputs": [
    {
     "data": {
      "text/plain": [
       "2019    7818\n",
       "2013    7180\n",
       "2015    6710\n",
       "2014    5334\n",
       "2016    3920\n",
       "2018    3433\n",
       "2012    3262\n",
       "2020    3223\n",
       "2017    2599\n",
       "2011     763\n",
       "2010     142\n",
       "2009      56\n",
       "Name: year, dtype: int64"
      ]
     },
     "execution_count": 37,
     "metadata": {},
     "output_type": "execute_result"
    }
   ],
   "source": [
    "#print year counts\n",
    "tweets['year'].value_counts()"
   ]
  },
  {
   "cell_type": "markdown",
   "metadata": {},
   "source": [
    "And here is a graph that represents the data:"
   ]
  },
  {
   "cell_type": "code",
   "execution_count": 38,
   "metadata": {
    "scrolled": true
   },
   "outputs": [
    {
     "data": {
      "text/plain": [
       "[Text(0, 0.5, 'Tweets')]"
      ]
     },
     "execution_count": 38,
     "metadata": {},
     "output_type": "execute_result"
    },
    {
     "data": {
      "image/png": "[encoded data removed]",
      "text/plain": [
       "<Figure size 432x288 with 1 Axes>"
      ]
     },
     "metadata": {
      "needs_background": "light"
     },
     "output_type": "display_data"
    }
   ],
   "source": [
    "#print bar graph of year counts\n",
    "fig = plt.figure()\n",
    "tweets['year'].value_counts().plot(kind='bar').set(ylabel='Tweets')\n",
    "fig.savefig(imgdir + 'tweets_year.png')"
   ]
  },
  {
   "cell_type": "markdown",
   "metadata": {},
   "source": [
    "Here we can see that the majority of Trump's twitter volume comes from 2015 with 2014 and 2016 following at a distant second. This makes sense since Trump would've been the most active in spreading his ideas while he was running his first presidential campaign.\n",
    "\n",
    "Next, we can investigate the averages of his retweets and likes:"
   ]
  },
  {
   "cell_type": "code",
   "execution_count": 39,
   "metadata": {
    "scrolled": true
   },
   "outputs": [
    {
     "data": {
      "text/plain": [
       "year\n",
       "2009       39.071429\n",
       "2010       79.380282\n",
       "2011      189.925295\n",
       "2012      480.915696\n",
       "2013      185.327577\n",
       "2014      155.401950\n",
       "2015      660.015201\n",
       "2016     7736.217092\n",
       "2017    18428.946518\n",
       "2018    20030.042237\n",
       "2019    16958.614351\n",
       "2020    15977.236115\n",
       "Name: retweet_count, dtype: float64"
      ]
     },
     "execution_count": 39,
     "metadata": {},
     "output_type": "execute_result"
    }
   ],
   "source": [
    "#print average retweet count by year\n",
    "tweets['retweet_count'].groupby(tweets['year']).mean()"
   ]
  },
  {
   "cell_type": "code",
   "execution_count": 40,
   "metadata": {},
   "outputs": [
    {
     "data": {
      "text/plain": [
       "[Text(0, 0.5, 'Retweets')]"
      ]
     },
     "execution_count": 40,
     "metadata": {},
     "output_type": "execute_result"
    },
    {
     "data": {
      "image/png": "[encoded data removed]",
      "text/plain": [
       "<Figure size 432x288 with 1 Axes>"
      ]
     },
     "metadata": {
      "needs_background": "light"
     },
     "output_type": "display_data"
    }
   ],
   "source": [
    "#print bar graph of retweet averages\n",
    "fig = plt.figure()\n",
    "tweets['retweet_count'].groupby(tweets['year']).mean().plot(kind='bar').set(ylabel='Retweets')\n",
    "fig.savefig(imgdir + 'retweets_year.png')"
   ]
  },
  {
   "cell_type": "code",
   "execution_count": 41,
   "metadata": {},
   "outputs": [
    {
     "data": {
      "text/plain": [
       "year\n",
       "2009       50.089286\n",
       "2010       64.676056\n",
       "2011       74.560944\n",
       "2012      248.188535\n",
       "2013      128.933844\n",
       "2014      167.889014\n",
       "2015     1381.842474\n",
       "2016    21437.738776\n",
       "2017    73906.098499\n",
       "2018    75990.821439\n",
       "2019    52425.520849\n",
       "2020    45810.165684\n",
       "Name: favorite_count, dtype: float64"
      ]
     },
     "execution_count": 41,
     "metadata": {},
     "output_type": "execute_result"
    }
   ],
   "source": [
    "#print average favorites by year\n",
    "tweets['favorite_count'].groupby(tweets['year']).mean()"
   ]
  },
  {
   "cell_type": "code",
   "execution_count": 42,
   "metadata": {
    "scrolled": false
   },
   "outputs": [
    {
     "data": {
      "text/plain": [
       "[Text(0, 0.5, 'Favorites')]"
      ]
     },
     "execution_count": 42,
     "metadata": {},
     "output_type": "execute_result"
    },
    {
     "data": {
      "image/png": "[encoded data removed]",
      "text/plain": [
       "<Figure size 432x288 with 1 Axes>"
      ]
     },
     "metadata": {
      "needs_background": "light"
     },
     "output_type": "display_data"
    }
   ],
   "source": [
    "#print bar graph of favorite averages\n",
    "fig = plt.figure()\n",
    "tweets['favorite_count'].groupby(tweets['year']).mean().plot(kind='bar').set(ylabel='Favorites')\n",
    "fig.savefig(imgdir + 'favorites_year.png')"
   ]
  },
  {
   "cell_type": "markdown",
   "metadata": {},
   "source": [
    "We can also look at his most favorited/retweeted tweets:"
   ]
  },
  {
   "cell_type": "code",
   "execution_count": 43,
   "metadata": {},
   "outputs": [
    {
     "data": {
      "text/plain": [
       "369530.0"
      ]
     },
     "execution_count": 43,
     "metadata": {},
     "output_type": "execute_result"
    },
    {
     "data": {
      "text/plain": [
       "879647.0"
      ]
     },
     "execution_count": 43,
     "metadata": {},
     "output_type": "execute_result"
    }
   ],
   "source": [
    "tweets['retweet_count'].max()\n",
    "tweets['favorite_count'].max()"
   ]
  },
  {
   "cell_type": "markdown",
   "metadata": {},
   "source": [
    "The patterns we see between retweets and favorites over time are quite similar, which is to be expected of course. The data shows that Donald Trump's twitter became much more popular in 2016 (which is probably because it was the election year), but that 2017 was an exceptionally strong year for the growth of his online brand."
   ]
  },
  {
   "cell_type": "markdown",
   "metadata": {},
   "source": [
    "## Linguistic Analysis\n",
    "In this section, we will primarily focus on the sentiment analysis of Donald Trump's Twitter. For this section, I've decided to look at his tweets from a year-to-year basis. First, we will look at his aggregated polarity by year, and then we can look at how each of the issues compares to his overall polarity:"
   ]
  },
  {
   "cell_type": "code",
   "execution_count": 44,
   "metadata": {},
   "outputs": [
    {
     "data": {
      "text/plain": [
       "year\n",
       "2009    0.166602\n",
       "2010    0.341338\n",
       "2011    0.106972\n",
       "2012    0.152237\n",
       "2013    0.199114\n",
       "2014    0.229389\n",
       "2015    0.212645\n",
       "2016    0.136137\n",
       "2017    0.158721\n",
       "2018    0.167738\n",
       "2019    0.120472\n",
       "2020    0.120380\n",
       "Name: polarity, dtype: float64"
      ]
     },
     "execution_count": 44,
     "metadata": {},
     "output_type": "execute_result"
    }
   ],
   "source": [
    "#print average polarity by year\n",
    "tweets['polarity'].groupby(tweets['year']).mean()"
   ]
  },
  {
   "cell_type": "markdown",
   "metadata": {},
   "source": [
    "And here is another graph that shows this data:"
   ]
  },
  {
   "cell_type": "code",
   "execution_count": 45,
   "metadata": {},
   "outputs": [
    {
     "data": {
      "text/plain": [
       "[Text(0, 0.5, 'Polarity')]"
      ]
     },
     "execution_count": 45,
     "metadata": {},
     "output_type": "execute_result"
    },
    {
     "data": {
      "image/png": "[encoded data removed]",
      "text/plain": [
       "<Figure size 432x288 with 1 Axes>"
      ]
     },
     "metadata": {
      "needs_background": "light"
     },
     "output_type": "display_data"
    }
   ],
   "source": [
    "#show bar graph of average polarity\n",
    "fig = plt.figure()\n",
    "tweets['polarity'].groupby(tweets['year']).mean().plot(kind='bar').set(ylabel='Polarity')\n",
    "fig.savefig(imgdir + 'polarity_year.png')"
   ]
  },
  {
   "cell_type": "markdown",
   "metadata": {},
   "source": [
    "Trump, didn't tweet much in 2009 and 2010, but the graph shows that the tweets he did create had the highest average sentiment values. 2011 and 2012 showed the some rather low sentiment, but after a spike in 2013, his sentiment has been on a rather steady decline.\n",
    "\n",
    "We can also do the same for the subgroups we made:"
   ]
  },
  {
   "cell_type": "code",
   "execution_count": 46,
   "metadata": {
    "scrolled": true
   },
   "outputs": [
    {
     "data": {
      "text/plain": [
       "[Text(0, 0.5, 'Polarity')]"
      ]
     },
     "execution_count": 46,
     "metadata": {},
     "output_type": "execute_result"
    },
    {
     "data": {
      "image/png": "[encoded data removed]",
      "text/plain": [
       "<Figure size 432x288 with 1 Axes>"
      ]
     },
     "metadata": {
      "needs_background": "light"
     },
     "output_type": "display_data"
    }
   ],
   "source": [
    "#show bar graph of average polarity for tweets pertaining to russia\n",
    "fig = plt.figure()\n",
    "tweets[russia]['polarity'].groupby(tweets['year']).mean().plot(kind='bar').set(ylabel='Polarity')\n",
    "fig.savefig(imgdir + 'russia_polarity.png')"
   ]
  },
  {
   "cell_type": "markdown",
   "metadata": {},
   "source": [
    "So it seems that Donald Trump began speaking about Russia much more negatively at the start of his election, though 2019 showed a rather large increase. This was probably because of the Mueller Report."
   ]
  },
  {
   "cell_type": "code",
   "execution_count": 47,
   "metadata": {
    "scrolled": true
   },
   "outputs": [
    {
     "data": {
      "text/plain": [
       "[Text(0, 0.5, 'Polarity')]"
      ]
     },
     "execution_count": 47,
     "metadata": {},
     "output_type": "execute_result"
    },
    {
     "data": {
      "image/png": "[encoded data removed]",
      "text/plain": [
       "<Figure size 432x288 with 1 Axes>"
      ]
     },
     "metadata": {
      "needs_background": "light"
     },
     "output_type": "display_data"
    }
   ],
   "source": [
    "#show bar graph of average polarity for tweets pertaining to iran\n",
    "fig = plt.figure()\n",
    "tweets[iran]['polarity'].groupby(tweets['year']).mean().plot(kind='bar').set(ylabel='Polarity')\n",
    "fig.savefig(imgdir + 'iran_polarity.png')"
   ]
  },
  {
   "cell_type": "markdown",
   "metadata": {},
   "source": [
    "Trump always spoke relatively negatively about Iran, though 2019 was an outlier year. I would guess that 2019 simply did not have enough tweets about Iran to draw a more concrete conclusion, so we can check by seeing how many tweets were made that year:"
   ]
  },
  {
   "cell_type": "code",
   "execution_count": 48,
   "metadata": {
    "scrolled": true
   },
   "outputs": [
    {
     "data": {
      "text/plain": [
       "2015    71\n",
       "2020    67\n",
       "2019    66\n",
       "2013    58\n",
       "2012    44\n",
       "2018    37\n",
       "2011    29\n",
       "2014    22\n",
       "2016    22\n",
       "2017    21\n",
       "Name: year, dtype: int64"
      ]
     },
     "execution_count": 48,
     "metadata": {},
     "output_type": "execute_result"
    }
   ],
   "source": [
    "#print number of tweets by year for iran subset\n",
    "tweets[iran]['year'].value_counts()"
   ]
  },
  {
   "cell_type": "markdown",
   "metadata": {},
   "source": [
    "Hmm... nine tweets is certainly not a lot, but it's definitely more than I was expecting. I would suspect that Trump simply didn't have on Iran on his \"shitlist\" (to put it bluntly) much in 2019, as much of the recent conflict there did not develop until January 2020."
   ]
  },
  {
   "cell_type": "code",
   "execution_count": 49,
   "metadata": {},
   "outputs": [
    {
     "data": {
      "text/plain": [
       "[Text(0, 0.5, 'Polarity')]"
      ]
     },
     "execution_count": 49,
     "metadata": {},
     "output_type": "execute_result"
    },
    {
     "data": {
      "image/png": "[encoded data removed]",
      "text/plain": [
       "<Figure size 432x288 with 1 Axes>"
      ]
     },
     "metadata": {
      "needs_background": "light"
     },
     "output_type": "display_data"
    }
   ],
   "source": [
    "#show bar graph of average polarity for tweets pertaining to China\n",
    "fig = plt.figure()\n",
    "tweets[china]['polarity'].groupby(tweets['year']).mean().plot(kind='bar').set(ylabel='Polarity')\n",
    "fig.savefig(imgdir + 'china_polarity.png')"
   ]
  },
  {
   "cell_type": "markdown",
   "metadata": {},
   "source": [
    "Here we see that Trump has discussed China negatively for most of his Twitter lifespan, with 2010 being an outlier. I would suspect that there was simply not enough data in 2010 to make it such a strong outlier, so let's investigate that:"
   ]
  },
  {
   "cell_type": "code",
   "execution_count": 50,
   "metadata": {
    "scrolled": true
   },
   "outputs": [
    {
     "data": {
      "text/plain": [
       "2019    462\n",
       "2012    220\n",
       "2018    217\n",
       "2013    160\n",
       "2015    152\n",
       "2014    120\n",
       "2020    109\n",
       "2017    104\n",
       "2016     88\n",
       "2011     77\n",
       "2010      1\n",
       "Name: year, dtype: int64"
      ]
     },
     "execution_count": 50,
     "metadata": {},
     "output_type": "execute_result"
    }
   ],
   "source": [
    "#print number of tweets by year for china subset\n",
    "tweets[china]['year'].value_counts()"
   ]
  },
  {
   "cell_type": "markdown",
   "metadata": {},
   "source": [
    "Yes, there is only one tweet from 2010, and so the overall sentiment from that year cannot truely bbe represented.\n",
    "\n",
    "Overall, I would say that much of this is to be expected, especially considering that Trump aligns himself with many values of the Republican Party. I would say the most shocking discovery can be seen in the chart corresponding to his sentiment towards Russia. Not only does it seem that Trump has flipped on his view towards them several times, the fact that he spoke more positively about them the same year as the Mueller Report came out is very interesting. I've gathered from this that Trump chooses his friends whenever it is of benefit for him, and drops them just as easily when convenient."
   ]
  },
  {
   "cell_type": "markdown",
   "metadata": {},
   "source": [
    "## Machine Learning\n",
    "\n",
    "### Trump or Not Trump\n",
    "Up until this point, we have simply explored and analyzed the contents of Trump's tweets and how he felt about certain nations using sentiment analysis. In this section, we will create a machine learning model that guesses whether or not a tweet was composed by Donald Trump. To do this, I will use a Multinomial Naive Bayes and use the dataframe that I created in the Data Processing section of the project. In this case, the tweet contents will be the predictor and the indicator code (T or NT) will be the predicted value.\n",
    "\n",
    "I'll also make use of a GridSearchCV when making my pipeline. Not only will this allow me to create various folds that will ensure there are some biases within my training and testing splits, but I can test these splits on multiple different parameters within my pipeline.\n",
    "\n",
    "Because we did this in Homework 4, the following code is adapted from that assignment.\n",
    "\n",
    "First thing we will do is split the data from our machine learning dataframe into two separate series objects:"
   ]
  },
  {
   "cell_type": "code",
   "execution_count": 51,
   "metadata": {},
   "outputs": [],
   "source": [
    "#create series from both df columns\n",
    "text_data = both['text']\n",
    "code_data = both['code']"
   ]
  },
  {
   "cell_type": "markdown",
   "metadata": {},
   "source": [
    "Next we will create our pipeline. The pipeline uses a TfidfVectorizer to convert the text into word count representations and then normalize them. It then uses a MultinomialNB as the actual classifier."
   ]
  },
  {
   "cell_type": "code",
   "execution_count": 52,
   "metadata": {},
   "outputs": [],
   "source": [
    "#create the model pipeline\n",
    "from sklearn.feature_extraction.text import TfidfVectorizer\n",
    "from sklearn.naive_bayes import MultinomialNB\n",
    "from sklearn.pipeline import Pipeline\n",
    "\n",
    "pipe = Pipeline([('tfidf', TfidfVectorizer(max_df=0.5, min_df=2, stop_words='english')), ('mnb', MultinomialNB())])"
   ]
  },
  {
   "cell_type": "markdown",
   "metadata": {},
   "source": [
    "Now I will define the parameters that I want the GridSearchCV to test:"
   ]
  },
  {
   "cell_type": "code",
   "execution_count": 53,
   "metadata": {},
   "outputs": [],
   "source": [
    "#define the parameters\n",
    "params = {\n",
    "        'tfidf__max_features' : (1500, 3000, 4500, 9000),\n",
    "        'mnb__alpha': (1e-2, 1e-3)\n",
    "        }"
   ]
  },
  {
   "cell_type": "markdown",
   "metadata": {},
   "source": [
    "I can now create the actual GridSearchCV object with 5 folds and fit it to the data:"
   ]
  },
  {
   "cell_type": "code",
   "execution_count": 54,
   "metadata": {},
   "outputs": [
    {
     "data": {
      "text/plain": [
       "GridSearchCV(cv=5, error_score='raise-deprecating',\n",
       "             estimator=Pipeline(memory=None,\n",
       "                                steps=[('tfidf',\n",
       "                                        TfidfVectorizer(analyzer='word',\n",
       "                                                        binary=False,\n",
       "                                                        decode_error='strict',\n",
       "                                                        dtype=<class 'numpy.float64'>,\n",
       "                                                        encoding='utf-8',\n",
       "                                                        input='content',\n",
       "                                                        lowercase=True,\n",
       "                                                        max_df=0.5,\n",
       "                                                        max_features=None,\n",
       "                                                        min_df=2,\n",
       "                                                        ngram_range=(1, 1),\n",
       "                                                        norm='l2',\n",
       "                                                        preprocessor=None,\n",
       "                                                        smooth_idf=True,\n",
       "                                                        stop_word...\n",
       "                                                        sublinear_tf=False,\n",
       "                                                        token_pattern='(?u)\\\\b\\\\w\\\\w+\\\\b',\n",
       "                                                        tokenizer=None,\n",
       "                                                        use_idf=True,\n",
       "                                                        vocabulary=None)),\n",
       "                                       ('mnb',\n",
       "                                        MultinomialNB(alpha=1.0,\n",
       "                                                      class_prior=None,\n",
       "                                                      fit_prior=True))],\n",
       "                                verbose=False),\n",
       "             iid='warn', n_jobs=-1,\n",
       "             param_grid={'mnb__alpha': (0.01, 0.001),\n",
       "                         'tfidf__max_features': (1500, 3000, 4500, 9000)},\n",
       "             pre_dispatch='2*n_jobs', refit=True, return_train_score=True,\n",
       "             scoring=None, verbose=0)"
      ]
     },
     "execution_count": 54,
     "metadata": {},
     "output_type": "execute_result"
    }
   ],
   "source": [
    "#create the GridSearch object\n",
    "from sklearn.model_selection import GridSearchCV \n",
    "search = GridSearchCV(pipe, params, cv=5, n_jobs=-1, return_train_score=True)\n",
    "\n",
    "#fit the model\n",
    "search.fit(text_data, code_data)"
   ]
  },
  {
   "cell_type": "markdown",
   "metadata": {},
   "source": [
    "And we can look at the scores with this code:"
   ]
  },
  {
   "cell_type": "code",
   "execution_count": 55,
   "metadata": {},
   "outputs": [
    {
     "name": "stdout",
     "output_type": "stream",
     "text": [
      "Best Results:\n",
      "Score:\n",
      " 0.9296214626975376\n",
      "Parameters:\n",
      "mnb__alpha: 0.01\n",
      "tfidf__max_features: 9000\n",
      "\n",
      "All Results:\n",
      "  param_mnb__alpha param_tfidf__max_features  mean_test_score\n",
      "0             0.01                      1500         0.906052\n",
      "1             0.01                      3000         0.917273\n",
      "2             0.01                      4500         0.922381\n",
      "3             0.01                      9000         0.929621\n",
      "4            0.001                      1500         0.906003\n",
      "5            0.001                      3000         0.917138\n",
      "6            0.001                      4500         0.922087\n",
      "7            0.001                      9000         0.928972\n"
     ]
    }
   ],
   "source": [
    "#view scores\n",
    "from sklearn.metrics import confusion_matrix, accuracy_score\n",
    "print(\"Best Results:\")\n",
    "print(\"Score:\\n\", search.best_score_)\n",
    "print(\"Parameters:\")\n",
    "for param_name in sorted(params.keys()):\n",
    "         print(\"%s: %r\" % (param_name, search.best_params_[param_name]))\n",
    "print(\"\\nAll Results:\")\n",
    "results = pd.DataFrame(search.cv_results_)\n",
    "print(results[['param_mnb__alpha', 'param_tfidf__max_features', 'mean_test_score']])"
   ]
  },
  {
   "cell_type": "markdown",
   "metadata": {},
   "source": [
    "There's a lot of information here, so we can begin our analysis with the best results. A score of about 93% is definitely significant, especially considering our baseline. I've determined that the absolute baseline would be 50% since half of the tweets were from Trump, so if a human were to do this--one who knew absolutely nothing about American politics--they could just guess and expect to be correct half the time.\n",
    "\n",
    "The GridSearchCV predicted the model with four different tfidf parameters and two different mnb parameters, creating eight instances in total. By looking at the outputs, we can see that the accuracy increased as we increased the maximum number of features, but the accuracy was highest with an MultinomialNB alpha value of 0.01.\n",
    "\n",
    "### Predicting Sentiment\n",
    "In this model, we will try to predict the sentiment of Trump's tweets based on the text content. We will use the text column as the predictor and the polarity label as the target.\n",
    "\n",
    "Because we already created the pipeline, we will just use the same one here. That being said, the first thing we will have to do is isolate our predictors and targets as separate series objects:"
   ]
  },
  {
   "cell_type": "code",
   "execution_count": 56,
   "metadata": {},
   "outputs": [],
   "source": [
    "text_data2 = tweets['text']\n",
    "label_data2 = tweets['polarity_label']"
   ]
  },
  {
   "cell_type": "markdown",
   "metadata": {},
   "source": [
    "Next we will define our new set of parameters:"
   ]
  },
  {
   "cell_type": "code",
   "execution_count": 57,
   "metadata": {},
   "outputs": [],
   "source": [
    "#define the parameters\n",
    "params2 = {\n",
    "        'tfidf__max_features' : (500, 1000, 1500),\n",
    "        'mnb__alpha': (1e-2, 1e-3)\n",
    "        }"
   ]
  },
  {
   "cell_type": "markdown",
   "metadata": {},
   "source": [
    "And now we will create our GridSearchCV object and fit it to the data:"
   ]
  },
  {
   "cell_type": "code",
   "execution_count": 58,
   "metadata": {
    "scrolled": true
   },
   "outputs": [
    {
     "data": {
      "text/plain": [
       "GridSearchCV(cv=5, error_score='raise-deprecating',\n",
       "             estimator=Pipeline(memory=None,\n",
       "                                steps=[('tfidf',\n",
       "                                        TfidfVectorizer(analyzer='word',\n",
       "                                                        binary=False,\n",
       "                                                        decode_error='strict',\n",
       "                                                        dtype=<class 'numpy.float64'>,\n",
       "                                                        encoding='utf-8',\n",
       "                                                        input='content',\n",
       "                                                        lowercase=True,\n",
       "                                                        max_df=0.5,\n",
       "                                                        max_features=None,\n",
       "                                                        min_df=2,\n",
       "                                                        ngram_range=(1, 1),\n",
       "                                                        norm='l2',\n",
       "                                                        preprocessor=None,\n",
       "                                                        smooth_idf=True,\n",
       "                                                        stop_word...\n",
       "                                                        sublinear_tf=False,\n",
       "                                                        token_pattern='(?u)\\\\b\\\\w\\\\w+\\\\b',\n",
       "                                                        tokenizer=None,\n",
       "                                                        use_idf=True,\n",
       "                                                        vocabulary=None)),\n",
       "                                       ('mnb',\n",
       "                                        MultinomialNB(alpha=1.0,\n",
       "                                                      class_prior=None,\n",
       "                                                      fit_prior=True))],\n",
       "                                verbose=False),\n",
       "             iid='warn', n_jobs=-1,\n",
       "             param_grid={'mnb__alpha': (0.01, 0.001),\n",
       "                         'tfidf__max_features': (500, 1000, 1500)},\n",
       "             pre_dispatch='2*n_jobs', refit=True, return_train_score=True,\n",
       "             scoring=None, verbose=0)"
      ]
     },
     "execution_count": 58,
     "metadata": {},
     "output_type": "execute_result"
    }
   ],
   "source": [
    "#create the GridSearch object\n",
    "from sklearn.model_selection import GridSearchCV \n",
    "search2 = GridSearchCV(pipe, params2, cv=5, n_jobs=-1, return_train_score=True)\n",
    "\n",
    "#fit the model\n",
    "search2.fit(text_data2, label_data2)"
   ]
  },
  {
   "cell_type": "code",
   "execution_count": 59,
   "metadata": {
    "scrolled": true
   },
   "outputs": [
    {
     "name": "stdout",
     "output_type": "stream",
     "text": [
      "Best Results:\n",
      "Score:\n",
      " 0.6958370837083708\n",
      "Parameters:\n",
      "mnb__alpha: 0.01\n",
      "tfidf__max_features: 1500\n",
      "\n",
      "All Results:\n",
      "  param_mnb__alpha param_tfidf__max_features  mean_test_score\n",
      "0             0.01                       500         0.687039\n",
      "1             0.01                      1000         0.693789\n",
      "2             0.01                      1500         0.695837\n",
      "3            0.001                       500         0.687039\n",
      "4            0.001                      1000         0.693812\n",
      "5            0.001                      1500         0.695815\n"
     ]
    }
   ],
   "source": [
    "#view scores\n",
    "print(\"Best Results:\")\n",
    "print(\"Score:\\n\", search2.best_score_)\n",
    "print(\"Parameters:\")\n",
    "for param_name in sorted(params2.keys()):\n",
    "         print(\"%s: %r\" % (param_name, search2.best_params_[param_name]))\n",
    "print(\"\\nAll Results:\")\n",
    "results2 = pd.DataFrame(search2.cv_results_)\n",
    "print(results2[['param_mnb__alpha', 'param_tfidf__max_features', 'mean_test_score']])"
   ]
  },
  {
   "cell_type": "markdown",
   "metadata": {},
   "source": [
    "While not as shocking as 93%, 69.5% is still a pretty good return for the model, especially considering that the absolute baseline here was 25%. One change here that I found interesting was that, when I first ran this model, the parameters from the T or NT were used and 1500 max features yielded the highest accuracy. I wondered if fewer features would continue this trend, but as we can see, 1500 seems to be "
   ]
  },
  {
   "cell_type": "markdown",
   "metadata": {},
   "source": [
    "## Conclusion\n",
    "The purpose of this project was to analyze the contents of Donald Trumps Twitter in order to draw conclusions about his tweeting habits and his attitude towards various nations and the stories relating to them. We also used his tweets along with a set of tweets from random users in order to create a machine learning model that predicts whether or not a tweet was composed by Trump.\n",
    "\n",
    "#### Exploratory Analysis\n",
    "In this section, we determined that Donald Trump's twitter influence and activity has been growing ever since he joined the platform. In terms of retweets and favorites, Trump's twitter influence increased drastically around the start of his election campaign, and the amount he tweeted also reflects this. I think the most important conclusion here was the stark contrast in the polarity of his tweets, or in other words, the number of outliers that were present. This indicates that Trump uses strong language to both endorse and condemn.\n",
    "\n",
    "We also concluded that Trump's sentiment was higher on average than that of the random sample. While this could be shocking for a multitude of reasons, I think it is most likely because of our own bias to only focus on his most negative tweets. It is also important to consider that these random tweets are only from a two-day span in April 2016. It is probable that the current events of the time could have skewed the content of the tweets negatively, but unless I had gotten an even sample from every year (which would have been quite hard and, even a bit biased towards the outcome I was expecting), this would be a problem no matter when the data was gathered.\n",
    "\n",
    "#### Linguistic Analysis\n",
    "In this section, we used sentiment analysis to determine how positively or negatively Trump spoke about three different nations: Russia, Iran, and China. While most of this was expected, the bar graph corresponding to Russia was the most shocking. Donald Trump seemed to be taking the side of Russia up until his election campaign began, then his sentiment completely flipped in the span of a year. Additionally, the drastic increase in 2019 shows that Trump spoke more highly of Russia, which was conventiently during the same time as the Mueller Report... The biggest takeaway here is that Trump seems to use his Twitter influence and strong language to attack his foes and endorse his friends.\n",
    "\n",
    "#### Machine Learning\n",
    "Of all the sections in the project, I felt that this one yielded the most conclusive results. While the others could indicate a myriad of factors at play, this section showed that Trump has a very unique style of Tweeting. My original plan was to compare his Tweets to a single other person's such as Barack Obama or Hillary Clinton, I think being able to pick his tweets out of a larger crowd is much more interesting. While this could probably be done with many people to some degree--everyone has their own style of tweeting and preferred topics to tweet about--an accuracy of 93% is nonetheless quite significant.\n",
    "\n",
    "For the second model, a max accuracy of about 70% is not as eye-catching, though considering the baseline here was 25%, it is definitely significant. For a human to do this especially, this would be a very difficult task, as at first glance, the polarity value can seem rather subjective. Because the machine can compare the value counts of the word vectors, I would say that this is more so a commentary on the effectiveness of TextBlob.\n",
    "\n",
    "#### Final Thoughts\n",
    "The most important thing to take away from this project is that politicians have a lot of online influence, and they use this influence to persuade their followers to behave in a certain way. For the rest of us, when we send a tweet, we are not directly affecting anybody. For someone like Trump who is in a powerful political position, what he says and does on Twitter can have a tangible impact on Americans. It is important for us to be aware of this influence and always check those who are in power, because no matter who you are, we are all subject to the 240 character limit."
   ]
  }
 ],
 "metadata": {
  "kernelspec": {
   "display_name": "Python 3",
   "language": "python",
   "name": "python3"
  },
  "language_info": {
   "codemirror_mode": {
    "name": "ipython",
    "version": 3
   },
   "file_extension": ".py",
   "mimetype": "text/x-python",
   "name": "python",
   "nbconvert_exporter": "python",
   "pygments_lexer": "ipython3",
   "version": "3.7.4"
  }
 },
 "nbformat": 4,
 "nbformat_minor": 2
}
