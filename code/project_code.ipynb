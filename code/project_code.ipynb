{
 "cells": [
  {
   "cell_type": "markdown",
   "metadata": {},
   "source": [
    "# Project Code\n",
    "#### Joey Livorno | gil15@pitt.edu | 3.16.2020 | EXISTING"
   ]
  },
  {
   "cell_type": "markdown",
   "metadata": {},
   "source": [
    "The purpose of this project is to process the contents of Donald Trump's Twitter feed and make linguistic and statistical discoveries based on the data, specifically using sentiment analysis. In the second part of the project, we will build a machine learning model that will predict whether or not a tweet was composed by Donald Trump."
   ]
  },
  {
   "cell_type": "markdown",
   "metadata": {},
   "source": [
    "These are the required libraries for this assignment:"
   ]
  },
  {
   "cell_type": "code",
   "execution_count": 1,
   "metadata": {},
   "outputs": [],
   "source": [
    "#import libraries\n",
    "import numpy as np\n",
    "import pandas as pd\n",
    "import re\n",
    "from nltk.tokenize import word_tokenize\n",
    "from textblob import TextBlob as tb ##TextBlob object will allow for quick sentiment analysis\n",
    "\n",
    "from IPython.core.interactiveshell import InteractiveShell\n",
    "InteractiveShell.ast_node_interactivity = \"all\""
   ]
  },
  {
   "cell_type": "markdown",
   "metadata": {},
   "source": [
    "## Basic Data Processing\n",
    "\n",
    "This section of the code will focus on reading in the twitter data and manipulating it into a much more workable object than simply the raw .csv file. In the first section, this will be done for the Trump tweets that I am looking to analyze, and in the second it will be done with that data as well as the .csv file of random US tweets.\n",
    "\n",
    "### Trump Tweets\n",
    "The first effort of data processing will go towards creating the dataframe that will contain exclusively Trump tweets.\n",
    "\n",
    "The first step is to read the .csv file into a pandas dataframe:"
   ]
  },
  {
   "cell_type": "code",
   "execution_count": 2,
   "metadata": {},
   "outputs": [
    {
     "data": {
      "text/html": [
       "<div>\n",
       "<style scoped>\n",
       "    .dataframe tbody tr th:only-of-type {\n",
       "        vertical-align: middle;\n",
       "    }\n",
       "\n",
       "    .dataframe tbody tr th {\n",
       "        vertical-align: top;\n",
       "    }\n",
       "\n",
       "    .dataframe thead th {\n",
       "        text-align: right;\n",
       "    }\n",
       "</style>\n",
       "<table border=\"1\" class=\"dataframe\">\n",
       "  <thead>\n",
       "    <tr style=\"text-align: right;\">\n",
       "      <th></th>\n",
       "      <th>source</th>\n",
       "      <th>text</th>\n",
       "      <th>created_at</th>\n",
       "      <th>retweet_count</th>\n",
       "      <th>favorite_count</th>\n",
       "      <th>is_retweet</th>\n",
       "      <th>id_str</th>\n",
       "    </tr>\n",
       "  </thead>\n",
       "  <tbody>\n",
       "    <tr>\n",
       "      <td>0</td>\n",
       "      <td>Twitter for iPhone</td>\n",
       "      <td>RT @SenBillCassidy: January #JobsReport:✅22500...</td>\n",
       "      <td>02-21-2020 16:06:40</td>\n",
       "      <td>896.0</td>\n",
       "      <td>0.0</td>\n",
       "      <td>True</td>\n",
       "      <td>1.230887e+18</td>\n",
       "    </tr>\n",
       "    <tr>\n",
       "      <td>1</td>\n",
       "      <td>Twitter for iPhone</td>\n",
       "      <td>RT @SteveDaines: Obama sure didn’t build this ...</td>\n",
       "      <td>02-21-2020 16:06:20</td>\n",
       "      <td>2086.0</td>\n",
       "      <td>0.0</td>\n",
       "      <td>True</td>\n",
       "      <td>1.230886e+18</td>\n",
       "    </tr>\n",
       "    <tr>\n",
       "      <td>2</td>\n",
       "      <td>Twitter for iPhone</td>\n",
       "      <td>RT @JohnBoozman: Our servicemembers stand read...</td>\n",
       "      <td>02-21-2020 16:06:10</td>\n",
       "      <td>521.0</td>\n",
       "      <td>0.0</td>\n",
       "      <td>True</td>\n",
       "      <td>1.230886e+18</td>\n",
       "    </tr>\n",
       "    <tr>\n",
       "      <td>3</td>\n",
       "      <td>Twitter for iPhone</td>\n",
       "      <td>RT @RoyBlunt: ▶️ Unemployment is at a nearly 5...</td>\n",
       "      <td>02-21-2020 16:05:52</td>\n",
       "      <td>623.0</td>\n",
       "      <td>0.0</td>\n",
       "      <td>True</td>\n",
       "      <td>1.230886e+18</td>\n",
       "    </tr>\n",
       "    <tr>\n",
       "      <td>4</td>\n",
       "      <td>Twitter for iPhone</td>\n",
       "      <td>RT @JimInhofe: Happy 79th birthday to @USCGRes...</td>\n",
       "      <td>02-21-2020 16:05:25</td>\n",
       "      <td>533.0</td>\n",
       "      <td>0.0</td>\n",
       "      <td>True</td>\n",
       "      <td>1.230886e+18</td>\n",
       "    </tr>\n",
       "  </tbody>\n",
       "</table>\n",
       "</div>"
      ],
      "text/plain": [
       "               source                                               text  \\\n",
       "0  Twitter for iPhone  RT @SenBillCassidy: January #JobsReport:✅22500...   \n",
       "1  Twitter for iPhone  RT @SteveDaines: Obama sure didn’t build this ...   \n",
       "2  Twitter for iPhone  RT @JohnBoozman: Our servicemembers stand read...   \n",
       "3  Twitter for iPhone  RT @RoyBlunt: ▶️ Unemployment is at a nearly 5...   \n",
       "4  Twitter for iPhone  RT @JimInhofe: Happy 79th birthday to @USCGRes...   \n",
       "\n",
       "            created_at  retweet_count  favorite_count is_retweet        id_str  \n",
       "0  02-21-2020 16:06:40          896.0             0.0       True  1.230887e+18  \n",
       "1  02-21-2020 16:06:20         2086.0             0.0       True  1.230886e+18  \n",
       "2  02-21-2020 16:06:10          521.0             0.0       True  1.230886e+18  \n",
       "3  02-21-2020 16:05:52          623.0             0.0       True  1.230886e+18  \n",
       "4  02-21-2020 16:05:25          533.0             0.0       True  1.230886e+18  "
      ]
     },
     "execution_count": 2,
     "metadata": {},
     "output_type": "execute_result"
    }
   ],
   "source": [
    "#read tweet information into dataframe\n",
    "tweets = pd.read_csv('../data/tweets.csv')\n",
    "tweets.head() #preview the df"
   ]
  },
  {
   "cell_type": "markdown",
   "metadata": {},
   "source": [
    "Next we will use the TextBlob library to assign each of the tweets a polarity and subjectivity value. Polarity is on a scale from -1 to 1 and describes how positive or negative the tweet is, -1 being negative and 1 being positive. Subjectivity is on a scale from 0 to 1 and describes whether or not the text is presented as a fact or an opinion. For this measure, 0 would be objective information and 1 would be subjective information."
   ]
  },
  {
   "cell_type": "code",
   "execution_count": 4,
   "metadata": {},
   "outputs": [],
   "source": [
    "#create series objects of the polarity and subjectivity of the tweets\n",
    "polarity = tweets.text.map(lambda x: tb(x).sentiment.polarity)\n",
    "subjectivity = tweets.text.map(lambda x: tb(x).sentiment.subjectivity)"
   ]
  },
  {
   "cell_type": "markdown",
   "metadata": {},
   "source": [
    "Then we will create new columns for each of the new series:"
   ]
  },
  {
   "cell_type": "code",
   "execution_count": 5,
   "metadata": {},
   "outputs": [
    {
     "data": {
      "text/html": [
       "<div>\n",
       "<style scoped>\n",
       "    .dataframe tbody tr th:only-of-type {\n",
       "        vertical-align: middle;\n",
       "    }\n",
       "\n",
       "    .dataframe tbody tr th {\n",
       "        vertical-align: top;\n",
       "    }\n",
       "\n",
       "    .dataframe thead th {\n",
       "        text-align: right;\n",
       "    }\n",
       "</style>\n",
       "<table border=\"1\" class=\"dataframe\">\n",
       "  <thead>\n",
       "    <tr style=\"text-align: right;\">\n",
       "      <th></th>\n",
       "      <th>source</th>\n",
       "      <th>text</th>\n",
       "      <th>created_at</th>\n",
       "      <th>retweet_count</th>\n",
       "      <th>favorite_count</th>\n",
       "      <th>is_retweet</th>\n",
       "      <th>id_str</th>\n",
       "      <th>polarity</th>\n",
       "      <th>subjectivity</th>\n",
       "    </tr>\n",
       "  </thead>\n",
       "  <tbody>\n",
       "    <tr>\n",
       "      <td>0</td>\n",
       "      <td>Twitter for iPhone</td>\n",
       "      <td>RT @SenBillCassidy: January #JobsReport:✅22500...</td>\n",
       "      <td>02-21-2020 16:06:40</td>\n",
       "      <td>896.0</td>\n",
       "      <td>0.0</td>\n",
       "      <td>True</td>\n",
       "      <td>1.230887e+18</td>\n",
       "      <td>0.068182</td>\n",
       "      <td>0.377273</td>\n",
       "    </tr>\n",
       "    <tr>\n",
       "      <td>1</td>\n",
       "      <td>Twitter for iPhone</td>\n",
       "      <td>RT @SteveDaines: Obama sure didn’t build this ...</td>\n",
       "      <td>02-21-2020 16:06:20</td>\n",
       "      <td>2086.0</td>\n",
       "      <td>0.0</td>\n",
       "      <td>True</td>\n",
       "      <td>1.230886e+18</td>\n",
       "      <td>0.625000</td>\n",
       "      <td>0.888889</td>\n",
       "    </tr>\n",
       "    <tr>\n",
       "      <td>2</td>\n",
       "      <td>Twitter for iPhone</td>\n",
       "      <td>RT @JohnBoozman: Our servicemembers stand read...</td>\n",
       "      <td>02-21-2020 16:06:10</td>\n",
       "      <td>521.0</td>\n",
       "      <td>0.0</td>\n",
       "      <td>True</td>\n",
       "      <td>1.230886e+18</td>\n",
       "      <td>0.200000</td>\n",
       "      <td>0.500000</td>\n",
       "    </tr>\n",
       "    <tr>\n",
       "      <td>3</td>\n",
       "      <td>Twitter for iPhone</td>\n",
       "      <td>RT @RoyBlunt: ▶️ Unemployment is at a nearly 5...</td>\n",
       "      <td>02-21-2020 16:05:52</td>\n",
       "      <td>623.0</td>\n",
       "      <td>0.0</td>\n",
       "      <td>True</td>\n",
       "      <td>1.230886e+18</td>\n",
       "      <td>0.100000</td>\n",
       "      <td>0.400000</td>\n",
       "    </tr>\n",
       "    <tr>\n",
       "      <td>4</td>\n",
       "      <td>Twitter for iPhone</td>\n",
       "      <td>RT @JimInhofe: Happy 79th birthday to @USCGRes...</td>\n",
       "      <td>02-21-2020 16:05:25</td>\n",
       "      <td>533.0</td>\n",
       "      <td>0.0</td>\n",
       "      <td>True</td>\n",
       "      <td>1.230886e+18</td>\n",
       "      <td>0.750000</td>\n",
       "      <td>0.750000</td>\n",
       "    </tr>\n",
       "  </tbody>\n",
       "</table>\n",
       "</div>"
      ],
      "text/plain": [
       "               source                                               text  \\\n",
       "0  Twitter for iPhone  RT @SenBillCassidy: January #JobsReport:✅22500...   \n",
       "1  Twitter for iPhone  RT @SteveDaines: Obama sure didn’t build this ...   \n",
       "2  Twitter for iPhone  RT @JohnBoozman: Our servicemembers stand read...   \n",
       "3  Twitter for iPhone  RT @RoyBlunt: ▶️ Unemployment is at a nearly 5...   \n",
       "4  Twitter for iPhone  RT @JimInhofe: Happy 79th birthday to @USCGRes...   \n",
       "\n",
       "            created_at  retweet_count  favorite_count is_retweet  \\\n",
       "0  02-21-2020 16:06:40          896.0             0.0       True   \n",
       "1  02-21-2020 16:06:20         2086.0             0.0       True   \n",
       "2  02-21-2020 16:06:10          521.0             0.0       True   \n",
       "3  02-21-2020 16:05:52          623.0             0.0       True   \n",
       "4  02-21-2020 16:05:25          533.0             0.0       True   \n",
       "\n",
       "         id_str  polarity  subjectivity  \n",
       "0  1.230887e+18  0.068182      0.377273  \n",
       "1  1.230886e+18  0.625000      0.888889  \n",
       "2  1.230886e+18  0.200000      0.500000  \n",
       "3  1.230886e+18  0.100000      0.400000  \n",
       "4  1.230886e+18  0.750000      0.750000  "
      ]
     },
     "execution_count": 5,
     "metadata": {},
     "output_type": "execute_result"
    }
   ],
   "source": [
    "#add new columns to tweets df corresponding to the new info\n",
    "tweets['polarity'] = polarity\n",
    "tweets['subjectivity'] = subjectivity\n",
    "tweets.head() #preview the df"
   ]
  },
  {
   "cell_type": "markdown",
   "metadata": {},
   "source": [
    "Since we are going to be looking at change over time, we will need a way to group the tweets chronologically. Luckily, the timestamp is included in the original csv. The most logical grouping seems to be by year though, so let's make a new column that isolates that value:"
   ]
  },
  {
   "cell_type": "code",
   "execution_count": 6,
   "metadata": {
    "scrolled": true
   },
   "outputs": [
    {
     "data": {
      "text/html": [
       "<div>\n",
       "<style scoped>\n",
       "    .dataframe tbody tr th:only-of-type {\n",
       "        vertical-align: middle;\n",
       "    }\n",
       "\n",
       "    .dataframe tbody tr th {\n",
       "        vertical-align: top;\n",
       "    }\n",
       "\n",
       "    .dataframe thead th {\n",
       "        text-align: right;\n",
       "    }\n",
       "</style>\n",
       "<table border=\"1\" class=\"dataframe\">\n",
       "  <thead>\n",
       "    <tr style=\"text-align: right;\">\n",
       "      <th></th>\n",
       "      <th>source</th>\n",
       "      <th>text</th>\n",
       "      <th>created_at</th>\n",
       "      <th>retweet_count</th>\n",
       "      <th>favorite_count</th>\n",
       "      <th>is_retweet</th>\n",
       "      <th>id_str</th>\n",
       "      <th>polarity</th>\n",
       "      <th>subjectivity</th>\n",
       "      <th>year</th>\n",
       "    </tr>\n",
       "  </thead>\n",
       "  <tbody>\n",
       "    <tr>\n",
       "      <td>0</td>\n",
       "      <td>Twitter for iPhone</td>\n",
       "      <td>RT @SenBillCassidy: January #JobsReport:✅22500...</td>\n",
       "      <td>2020-02-21 16:06:40</td>\n",
       "      <td>896.0</td>\n",
       "      <td>0.0</td>\n",
       "      <td>True</td>\n",
       "      <td>1.230887e+18</td>\n",
       "      <td>0.068182</td>\n",
       "      <td>0.377273</td>\n",
       "      <td>2020</td>\n",
       "    </tr>\n",
       "    <tr>\n",
       "      <td>1</td>\n",
       "      <td>Twitter for iPhone</td>\n",
       "      <td>RT @SteveDaines: Obama sure didn’t build this ...</td>\n",
       "      <td>2020-02-21 16:06:20</td>\n",
       "      <td>2086.0</td>\n",
       "      <td>0.0</td>\n",
       "      <td>True</td>\n",
       "      <td>1.230886e+18</td>\n",
       "      <td>0.625000</td>\n",
       "      <td>0.888889</td>\n",
       "      <td>2020</td>\n",
       "    </tr>\n",
       "    <tr>\n",
       "      <td>2</td>\n",
       "      <td>Twitter for iPhone</td>\n",
       "      <td>RT @JohnBoozman: Our servicemembers stand read...</td>\n",
       "      <td>2020-02-21 16:06:10</td>\n",
       "      <td>521.0</td>\n",
       "      <td>0.0</td>\n",
       "      <td>True</td>\n",
       "      <td>1.230886e+18</td>\n",
       "      <td>0.200000</td>\n",
       "      <td>0.500000</td>\n",
       "      <td>2020</td>\n",
       "    </tr>\n",
       "    <tr>\n",
       "      <td>3</td>\n",
       "      <td>Twitter for iPhone</td>\n",
       "      <td>RT @RoyBlunt: ▶️ Unemployment is at a nearly 5...</td>\n",
       "      <td>2020-02-21 16:05:52</td>\n",
       "      <td>623.0</td>\n",
       "      <td>0.0</td>\n",
       "      <td>True</td>\n",
       "      <td>1.230886e+18</td>\n",
       "      <td>0.100000</td>\n",
       "      <td>0.400000</td>\n",
       "      <td>2020</td>\n",
       "    </tr>\n",
       "    <tr>\n",
       "      <td>4</td>\n",
       "      <td>Twitter for iPhone</td>\n",
       "      <td>RT @JimInhofe: Happy 79th birthday to @USCGRes...</td>\n",
       "      <td>2020-02-21 16:05:25</td>\n",
       "      <td>533.0</td>\n",
       "      <td>0.0</td>\n",
       "      <td>True</td>\n",
       "      <td>1.230886e+18</td>\n",
       "      <td>0.750000</td>\n",
       "      <td>0.750000</td>\n",
       "      <td>2020</td>\n",
       "    </tr>\n",
       "  </tbody>\n",
       "</table>\n",
       "</div>"
      ],
      "text/plain": [
       "               source                                               text  \\\n",
       "0  Twitter for iPhone  RT @SenBillCassidy: January #JobsReport:✅22500...   \n",
       "1  Twitter for iPhone  RT @SteveDaines: Obama sure didn’t build this ...   \n",
       "2  Twitter for iPhone  RT @JohnBoozman: Our servicemembers stand read...   \n",
       "3  Twitter for iPhone  RT @RoyBlunt: ▶️ Unemployment is at a nearly 5...   \n",
       "4  Twitter for iPhone  RT @JimInhofe: Happy 79th birthday to @USCGRes...   \n",
       "\n",
       "           created_at  retweet_count  favorite_count is_retweet        id_str  \\\n",
       "0 2020-02-21 16:06:40          896.0             0.0       True  1.230887e+18   \n",
       "1 2020-02-21 16:06:20         2086.0             0.0       True  1.230886e+18   \n",
       "2 2020-02-21 16:06:10          521.0             0.0       True  1.230886e+18   \n",
       "3 2020-02-21 16:05:52          623.0             0.0       True  1.230886e+18   \n",
       "4 2020-02-21 16:05:25          533.0             0.0       True  1.230886e+18   \n",
       "\n",
       "   polarity  subjectivity  year  \n",
       "0  0.068182      0.377273  2020  \n",
       "1  0.625000      0.888889  2020  \n",
       "2  0.200000      0.500000  2020  \n",
       "3  0.100000      0.400000  2020  \n",
       "4  0.750000      0.750000  2020  "
      ]
     },
     "execution_count": 6,
     "metadata": {},
     "output_type": "execute_result"
    }
   ],
   "source": [
    "#make new column that shows year\n",
    "tweets['created_at'] = pd.to_datetime(tweets['created_at']) #convert created_at column to timestamp data type\n",
    "tweets['year'] = tweets['created_at'].dt.year.astype('Int64') #store the dates in a new column, isolating the year\n",
    "tweets.head() #preview df"
   ]
  },
  {
   "cell_type": "markdown",
   "metadata": {},
   "source": [
    "Finally, we will add another column that contains the contents of the tweets, but one that is lowercased and tokenized. First, we will define a method that does both of those at once:"
   ]
  },
  {
   "cell_type": "code",
   "execution_count": 7,
   "metadata": {},
   "outputs": [
    {
     "name": "stdout",
     "output_type": "stream",
     "text": [
      "hey there , how are you ?\n"
     ]
    }
   ],
   "source": [
    "#define the. function\n",
    "def token_lower(s):\n",
    "    \"\"\"Returns a tokenized and lowercased copy of the string s\"\"\"\n",
    "    tokens = word_tokenize(s.lower())\n",
    "    return ' '.join(tokens)\n",
    "\n",
    "#test the function\n",
    "print(token_lower('Hey there, how are you?'))"
   ]
  },
  {
   "cell_type": "markdown",
   "metadata": {},
   "source": [
    "And then we will add the new column to the dataframe:"
   ]
  },
  {
   "cell_type": "code",
   "execution_count": 8,
   "metadata": {
    "scrolled": true
   },
   "outputs": [
    {
     "data": {
      "text/plain": [
       "0    rt @ senbillcassidy : january # jobsreport : ✅...\n",
       "1    rt @ stevedaines : obama sure didn ’ t build t...\n",
       "2    rt @ johnboozman : our servicemembers stand re...\n",
       "3    rt @ royblunt : ▶️ unemployment is at a nearly...\n",
       "4    rt @ jiminhofe : happy 79th birthday to @ uscg...\n",
       "Name: token_lower, dtype: object"
      ]
     },
     "execution_count": 8,
     "metadata": {},
     "output_type": "execute_result"
    }
   ],
   "source": [
    "tweets['token_lower'] = tweets.text.map(lambda x: token_lower(x))\n",
    "tweets['token_lower'].head()"
   ]
  },
  {
   "cell_type": "markdown",
   "metadata": {},
   "source": [
    "Looks good! Now, the data is much more workable; we have the measurements we are looking to compare neatly organized within their corresponding rows, and we have a way of grouping the data chronologically. The last step is to create subgroups for different political issues that we can compare to:\n",
    "\n",
    "(these are subject to change)"
   ]
  },
  {
   "cell_type": "code",
   "execution_count": 9,
   "metadata": {},
   "outputs": [],
   "source": [
    "russia_keywords = 'russia|moscow|putin'\n",
    "iran_keywords = 'iran|tehran|nuclear deal|rouhani'\n",
    "china_keywords = 'china|beijing|xi|jinping'"
   ]
  },
  {
   "cell_type": "code",
   "execution_count": 10,
   "metadata": {
    "scrolled": true
   },
   "outputs": [],
   "source": [
    "#create the subsets for each topic\n",
    "russia = tweets['token_lower'].str.contains(russia_keywords)\n",
    "iran = tweets['token_lower'].str.contains(iran_keywords)\n",
    "china = tweets['token_lower'].str.contains(china_keywords)\n",
    "\n",
    "#and just for fun\n",
    "sad = tweets['token_lower'].str.contains('sad')"
   ]
  },
  {
   "cell_type": "markdown",
   "metadata": {},
   "source": [
    "And we can take a peek as to how much data we've collected in each subset:"
   ]
  },
  {
   "cell_type": "code",
   "execution_count": 11,
   "metadata": {},
   "outputs": [
    {
     "name": "stdout",
     "output_type": "stream",
     "text": [
      "<class 'pandas.core.frame.DataFrame'>\n",
      "Int64Index: 218 entries, 16 to 15114\n",
      "Data columns (total 11 columns):\n",
      "source            218 non-null object\n",
      "text              218 non-null object\n",
      "created_at        218 non-null datetime64[ns]\n",
      "retweet_count     218 non-null float64\n",
      "favorite_count    218 non-null float64\n",
      "is_retweet        218 non-null object\n",
      "id_str            218 non-null float64\n",
      "polarity          218 non-null float64\n",
      "subjectivity      218 non-null float64\n",
      "year              218 non-null Int64\n",
      "token_lower       218 non-null object\n",
      "dtypes: Int64(1), datetime64[ns](1), float64(5), object(4)\n",
      "memory usage: 20.7+ KB\n"
     ]
    }
   ],
   "source": [
    "tweets[russia].info()"
   ]
  },
  {
   "cell_type": "code",
   "execution_count": 12,
   "metadata": {},
   "outputs": [
    {
     "name": "stdout",
     "output_type": "stream",
     "text": [
      "<class 'pandas.core.frame.DataFrame'>\n",
      "Int64Index: 249 entries, 36 to 15251\n",
      "Data columns (total 11 columns):\n",
      "source            249 non-null object\n",
      "text              249 non-null object\n",
      "created_at        249 non-null datetime64[ns]\n",
      "retweet_count     249 non-null float64\n",
      "favorite_count    249 non-null float64\n",
      "is_retweet        249 non-null object\n",
      "id_str            249 non-null float64\n",
      "polarity          249 non-null float64\n",
      "subjectivity      249 non-null float64\n",
      "year              249 non-null Int64\n",
      "token_lower       249 non-null object\n",
      "dtypes: Int64(1), datetime64[ns](1), float64(5), object(4)\n",
      "memory usage: 23.6+ KB\n"
     ]
    }
   ],
   "source": [
    "tweets[iran].info()"
   ]
  },
  {
   "cell_type": "code",
   "execution_count": 32,
   "metadata": {},
   "outputs": [
    {
     "name": "stdout",
     "output_type": "stream",
     "text": [
      "<class 'pandas.core.frame.DataFrame'>\n",
      "Int64Index: 562 entries, 17 to 15371\n",
      "Data columns (total 11 columns):\n",
      "source            562 non-null object\n",
      "text              562 non-null object\n",
      "created_at        562 non-null datetime64[ns]\n",
      "retweet_count     562 non-null float64\n",
      "favorite_count    562 non-null float64\n",
      "is_retweet        562 non-null object\n",
      "id_str            562 non-null float64\n",
      "polarity          562 non-null float64\n",
      "subjectivity      562 non-null float64\n",
      "year              562 non-null Int64\n",
      "token_lower       562 non-null object\n",
      "dtypes: Int64(1), datetime64[ns](1), float64(5), object(4)\n",
      "memory usage: 53.2+ KB\n"
     ]
    }
   ],
   "source": [
    "tweets[china].info()"
   ]
  },
  {
   "cell_type": "code",
   "execution_count": 14,
   "metadata": {
    "scrolled": false
   },
   "outputs": [
    {
     "name": "stdout",
     "output_type": "stream",
     "text": [
      "<class 'pandas.core.frame.DataFrame'>\n",
      "Int64Index: 302 entries, 25 to 15242\n",
      "Data columns (total 11 columns):\n",
      "source            302 non-null object\n",
      "text              302 non-null object\n",
      "created_at        302 non-null datetime64[ns]\n",
      "retweet_count     302 non-null float64\n",
      "favorite_count    302 non-null float64\n",
      "is_retweet        302 non-null object\n",
      "id_str            302 non-null float64\n",
      "polarity          302 non-null float64\n",
      "subjectivity      302 non-null float64\n",
      "year              302 non-null Int64\n",
      "token_lower       302 non-null object\n",
      "dtypes: Int64(1), datetime64[ns](1), float64(5), object(4)\n",
      "memory usage: 28.6+ KB\n"
     ]
    }
   ],
   "source": [
    "tweets[sad].info()"
   ]
  },
  {
   "cell_type": "markdown",
   "metadata": {},
   "source": [
    "And here is the size and shape of the overall dataset:"
   ]
  },
  {
   "cell_type": "code",
   "execution_count": 15,
   "metadata": {},
   "outputs": [
    {
     "data": {
      "text/plain": [
       "(15384, 11)"
      ]
     },
     "execution_count": 15,
     "metadata": {},
     "output_type": "execute_result"
    }
   ],
   "source": [
    "#print shape\n",
    "tweets.shape"
   ]
  },
  {
   "cell_type": "code",
   "execution_count": 16,
   "metadata": {},
   "outputs": [
    {
     "data": {
      "text/plain": [
       "169224"
      ]
     },
     "execution_count": 16,
     "metadata": {},
     "output_type": "execute_result"
    }
   ],
   "source": [
    "#print size\n",
    "tweets.size"
   ]
  },
  {
   "cell_type": "markdown",
   "metadata": {},
   "source": [
    "Finally, I will pickle the dataframe I've made for the ease of reuse:"
   ]
  },
  {
   "cell_type": "code",
   "execution_count": 17,
   "metadata": {},
   "outputs": [],
   "source": [
    "#save the pickle of the data to 'trump_tweets.pkl' located in the directory 'data'\n",
    "pd.to_pickle(tweets, '../data/trump_tweets.pkl')"
   ]
  },
  {
   "cell_type": "markdown",
   "metadata": {},
   "source": [
    "### All Tweets\n",
    "This section will focus on creating the dataframe that will be used in the Machine Learning section of the project. This data will consist of both tweets composed by Trump and a general collection of US tweets that I downloaded for free from [this website](http://followthehashtag.com/datasets/free-twitter-dataset-usa-200000-free-usa-tweets/). The website does not specify any licenses and is made for student research such as this, so I have simply given them credit in my project description.\n",
    "\n",
    "The original file contains 300,000 tweets, which is too many for what I'm doing here. In order to eliminate any bias, I have created a smaller version that contains the same number of tweets that is present in the Trump dataframe.\n",
    "\n",
    "For this, I felt it was most appropriate to exclude retweets from the Trump set, so running the following code showed me the number of lines to be included in the misc. tweet set:"
   ]
  },
  {
   "cell_type": "code",
   "execution_count": 51,
   "metadata": {
    "scrolled": true
   },
   "outputs": [],
   "source": [
    "#shape of tweets minus retweets\n",
    "trump = tweets[tweets['is_retweet'] == False].copy(deep=True) #making a deep copy so we don't alter the original"
   ]
  },
  {
   "cell_type": "markdown",
   "metadata": {},
   "source": [
    "Now we can format this dataframe to best fit our machine learning needs. All we will need is the content of the tweet and an indicator that shows it was made by Trump. I will first add the indicator:"
   ]
  },
  {
   "cell_type": "code",
   "execution_count": 52,
   "metadata": {
    "scrolled": true
   },
   "outputs": [
    {
     "data": {
      "text/html": [
       "<div>\n",
       "<style scoped>\n",
       "    .dataframe tbody tr th:only-of-type {\n",
       "        vertical-align: middle;\n",
       "    }\n",
       "\n",
       "    .dataframe tbody tr th {\n",
       "        vertical-align: top;\n",
       "    }\n",
       "\n",
       "    .dataframe thead th {\n",
       "        text-align: right;\n",
       "    }\n",
       "</style>\n",
       "<table border=\"1\" class=\"dataframe\">\n",
       "  <thead>\n",
       "    <tr style=\"text-align: right;\">\n",
       "      <th></th>\n",
       "      <th>source</th>\n",
       "      <th>text</th>\n",
       "      <th>created_at</th>\n",
       "      <th>retweet_count</th>\n",
       "      <th>favorite_count</th>\n",
       "      <th>is_retweet</th>\n",
       "      <th>id_str</th>\n",
       "      <th>polarity</th>\n",
       "      <th>subjectivity</th>\n",
       "      <th>year</th>\n",
       "      <th>token_lower</th>\n",
       "      <th>code</th>\n",
       "    </tr>\n",
       "  </thead>\n",
       "  <tbody>\n",
       "    <tr>\n",
       "      <td>8</td>\n",
       "      <td>Twitter for iPhone</td>\n",
       "      <td>Mitch and I have made great progress. Coming b...</td>\n",
       "      <td>2020-02-21 16:00:21</td>\n",
       "      <td>1468.0</td>\n",
       "      <td>5119.0</td>\n",
       "      <td>False</td>\n",
       "      <td>1.230885e+18</td>\n",
       "      <td>0.350000</td>\n",
       "      <td>0.450000</td>\n",
       "      <td>2020</td>\n",
       "      <td>mitch and i have made great progress . coming ...</td>\n",
       "      <td>T</td>\n",
       "    </tr>\n",
       "    <tr>\n",
       "      <td>9</td>\n",
       "      <td>Twitter for iPhone</td>\n",
       "      <td>Four great candidates are under consideration ...</td>\n",
       "      <td>2020-02-21 15:51:39</td>\n",
       "      <td>2040.0</td>\n",
       "      <td>8319.0</td>\n",
       "      <td>False</td>\n",
       "      <td>1.230883e+18</td>\n",
       "      <td>0.183333</td>\n",
       "      <td>0.283333</td>\n",
       "      <td>2020</td>\n",
       "      <td>four great candidates are under consideration ...</td>\n",
       "      <td>T</td>\n",
       "    </tr>\n",
       "    <tr>\n",
       "      <td>10</td>\n",
       "      <td>Twitter for iPhone</td>\n",
       "      <td>Great! https://t.co/eDf8ltInmH</td>\n",
       "      <td>2020-02-21 15:47:26</td>\n",
       "      <td>1708.0</td>\n",
       "      <td>6666.0</td>\n",
       "      <td>False</td>\n",
       "      <td>1.230882e+18</td>\n",
       "      <td>1.000000</td>\n",
       "      <td>0.750000</td>\n",
       "      <td>2020</td>\n",
       "      <td>great ! https : //t.co/edf8ltinmh</td>\n",
       "      <td>T</td>\n",
       "    </tr>\n",
       "    <tr>\n",
       "      <td>16</td>\n",
       "      <td>Twitter for iPhone</td>\n",
       "      <td>Another misinformation campaign is being launc...</td>\n",
       "      <td>2020-02-21 15:36:48</td>\n",
       "      <td>5629.0</td>\n",
       "      <td>19864.0</td>\n",
       "      <td>False</td>\n",
       "      <td>1.230879e+18</td>\n",
       "      <td>-0.625000</td>\n",
       "      <td>0.500000</td>\n",
       "      <td>2020</td>\n",
       "      <td>another misinformation campaign is being launc...</td>\n",
       "      <td>T</td>\n",
       "    </tr>\n",
       "    <tr>\n",
       "      <td>17</td>\n",
       "      <td>Twitter for iPhone</td>\n",
       "      <td>IF OUR FORMALLY TARGETED FARMERS NEED ADDITION...</td>\n",
       "      <td>2020-02-21 15:24:28</td>\n",
       "      <td>8173.0</td>\n",
       "      <td>33567.0</td>\n",
       "      <td>False</td>\n",
       "      <td>1.230876e+18</td>\n",
       "      <td>0.000000</td>\n",
       "      <td>0.750000</td>\n",
       "      <td>2020</td>\n",
       "      <td>if our formally targeted farmers need addition...</td>\n",
       "      <td>T</td>\n",
       "    </tr>\n",
       "  </tbody>\n",
       "</table>\n",
       "</div>"
      ],
      "text/plain": [
       "                source                                               text  \\\n",
       "8   Twitter for iPhone  Mitch and I have made great progress. Coming b...   \n",
       "9   Twitter for iPhone  Four great candidates are under consideration ...   \n",
       "10  Twitter for iPhone                     Great! https://t.co/eDf8ltInmH   \n",
       "16  Twitter for iPhone  Another misinformation campaign is being launc...   \n",
       "17  Twitter for iPhone  IF OUR FORMALLY TARGETED FARMERS NEED ADDITION...   \n",
       "\n",
       "            created_at  retweet_count  favorite_count is_retweet  \\\n",
       "8  2020-02-21 16:00:21         1468.0          5119.0      False   \n",
       "9  2020-02-21 15:51:39         2040.0          8319.0      False   \n",
       "10 2020-02-21 15:47:26         1708.0          6666.0      False   \n",
       "16 2020-02-21 15:36:48         5629.0         19864.0      False   \n",
       "17 2020-02-21 15:24:28         8173.0         33567.0      False   \n",
       "\n",
       "          id_str  polarity  subjectivity  year  \\\n",
       "8   1.230885e+18  0.350000      0.450000  2020   \n",
       "9   1.230883e+18  0.183333      0.283333  2020   \n",
       "10  1.230882e+18  1.000000      0.750000  2020   \n",
       "16  1.230879e+18 -0.625000      0.500000  2020   \n",
       "17  1.230876e+18  0.000000      0.750000  2020   \n",
       "\n",
       "                                          token_lower code  \n",
       "8   mitch and i have made great progress . coming ...    T  \n",
       "9   four great candidates are under consideration ...    T  \n",
       "10                  great ! https : //t.co/edf8ltinmh    T  \n",
       "16  another misinformation campaign is being launc...    T  \n",
       "17  if our formally targeted farmers need addition...    T  "
      ]
     },
     "execution_count": 52,
     "metadata": {},
     "output_type": "execute_result"
    }
   ],
   "source": [
    "#add new column that marks these as Trump Tweets\n",
    "trump['code'] = 'T'\n",
    "trump.head()"
   ]
  },
  {
   "cell_type": "markdown",
   "metadata": {},
   "source": [
    "And now we can drop all the other rows:"
   ]
  },
  {
   "cell_type": "code",
   "execution_count": 53,
   "metadata": {
    "scrolled": false
   },
   "outputs": [
    {
     "data": {
      "text/html": [
       "<div>\n",
       "<style scoped>\n",
       "    .dataframe tbody tr th:only-of-type {\n",
       "        vertical-align: middle;\n",
       "    }\n",
       "\n",
       "    .dataframe tbody tr th {\n",
       "        vertical-align: top;\n",
       "    }\n",
       "\n",
       "    .dataframe thead th {\n",
       "        text-align: right;\n",
       "    }\n",
       "</style>\n",
       "<table border=\"1\" class=\"dataframe\">\n",
       "  <thead>\n",
       "    <tr style=\"text-align: right;\">\n",
       "      <th></th>\n",
       "      <th>text</th>\n",
       "      <th>code</th>\n",
       "    </tr>\n",
       "  </thead>\n",
       "  <tbody>\n",
       "    <tr>\n",
       "      <td>8</td>\n",
       "      <td>Mitch and I have made great progress. Coming b...</td>\n",
       "      <td>T</td>\n",
       "    </tr>\n",
       "    <tr>\n",
       "      <td>9</td>\n",
       "      <td>Four great candidates are under consideration ...</td>\n",
       "      <td>T</td>\n",
       "    </tr>\n",
       "    <tr>\n",
       "      <td>10</td>\n",
       "      <td>Great! https://t.co/eDf8ltInmH</td>\n",
       "      <td>T</td>\n",
       "    </tr>\n",
       "    <tr>\n",
       "      <td>16</td>\n",
       "      <td>Another misinformation campaign is being launc...</td>\n",
       "      <td>T</td>\n",
       "    </tr>\n",
       "    <tr>\n",
       "      <td>17</td>\n",
       "      <td>IF OUR FORMALLY TARGETED FARMERS NEED ADDITION...</td>\n",
       "      <td>T</td>\n",
       "    </tr>\n",
       "  </tbody>\n",
       "</table>\n",
       "</div>"
      ],
      "text/plain": [
       "                                                 text code\n",
       "8   Mitch and I have made great progress. Coming b...    T\n",
       "9   Four great candidates are under consideration ...    T\n",
       "10                     Great! https://t.co/eDf8ltInmH    T\n",
       "16  Another misinformation campaign is being launc...    T\n",
       "17  IF OUR FORMALLY TARGETED FARMERS NEED ADDITION...    T"
      ]
     },
     "execution_count": 53,
     "metadata": {},
     "output_type": "execute_result"
    }
   ],
   "source": [
    "#reassign trump df to only include 'text' and 'code' columns\n",
    "trump = trump[['text', 'code']]\n",
    "trump.head()"
   ]
  },
  {
   "cell_type": "markdown",
   "metadata": {},
   "source": [
    "We'll also need to know the shape of this data. Because our misc tweets dataset is much larger, we'll have to trim it down to match the trump set, otherwise our data will be skewed."
   ]
  },
  {
   "cell_type": "code",
   "execution_count": 54,
   "metadata": {},
   "outputs": [
    {
     "data": {
      "text/plain": [
       "(13409, 2)"
      ]
     },
     "execution_count": 54,
     "metadata": {},
     "output_type": "execute_result"
    }
   ],
   "source": [
    "trump.shape"
   ]
  },
  {
   "cell_type": "markdown",
   "metadata": {},
   "source": [
    "With this number in mind, I can import the correct number of lines using the .head() method:"
   ]
  },
  {
   "cell_type": "code",
   "execution_count": 55,
   "metadata": {
    "scrolled": false
   },
   "outputs": [
    {
     "data": {
      "text/html": [
       "<div>\n",
       "<style scoped>\n",
       "    .dataframe tbody tr th:only-of-type {\n",
       "        vertical-align: middle;\n",
       "    }\n",
       "\n",
       "    .dataframe tbody tr th {\n",
       "        vertical-align: top;\n",
       "    }\n",
       "\n",
       "    .dataframe thead th {\n",
       "        text-align: right;\n",
       "    }\n",
       "</style>\n",
       "<table border=\"1\" class=\"dataframe\">\n",
       "  <thead>\n",
       "    <tr style=\"text-align: right;\">\n",
       "      <th></th>\n",
       "      <th>Tweet Id</th>\n",
       "      <th>Date</th>\n",
       "      <th>Hour</th>\n",
       "      <th>User Name</th>\n",
       "      <th>Nickname</th>\n",
       "      <th>Bio</th>\n",
       "      <th>Tweet content</th>\n",
       "      <th>Favs</th>\n",
       "      <th>RTs</th>\n",
       "      <th>Latitude</th>\n",
       "      <th>Longitude</th>\n",
       "      <th>Country</th>\n",
       "      <th>Place (as appears on Bio)</th>\n",
       "      <th>Profile picture</th>\n",
       "      <th>Followers</th>\n",
       "      <th>Following</th>\n",
       "      <th>Listed</th>\n",
       "      <th>Tweet language (ISO 639-1)</th>\n",
       "      <th>Tweet Url</th>\n",
       "    </tr>\n",
       "  </thead>\n",
       "  <tbody>\n",
       "    <tr>\n",
       "      <td>0</td>\n",
       "      <td>721318437075685000</td>\n",
       "      <td>42476</td>\n",
       "      <td>0.530556</td>\n",
       "      <td>Bill Schulhoff</td>\n",
       "      <td>BillSchulhoff</td>\n",
       "      <td>Husband,Dad,GrandDad,Ordained Minister, Umpire...</td>\n",
       "      <td>Wind 3.2 mph NNE. Barometer 30.20 in, Rising s...</td>\n",
       "      <td>NaN</td>\n",
       "      <td>NaN</td>\n",
       "      <td>40.760278</td>\n",
       "      <td>-72.954722</td>\n",
       "      <td>US</td>\n",
       "      <td>East Patchogue, NY</td>\n",
       "      <td>http://pbs.twimg.com/profile_images/3788000007...</td>\n",
       "      <td>386.0</td>\n",
       "      <td>705.0</td>\n",
       "      <td>24.0</td>\n",
       "      <td>en</td>\n",
       "      <td>http://www.twitter.com/BillSchulhoff/status/72...</td>\n",
       "    </tr>\n",
       "    <tr>\n",
       "      <td>1</td>\n",
       "      <td>721318436173979000</td>\n",
       "      <td>42476</td>\n",
       "      <td>0.530556</td>\n",
       "      <td>Daniele Polis</td>\n",
       "      <td>danipolis</td>\n",
       "      <td>Viagens, geek, moda, batons laranja, cabelos c...</td>\n",
       "      <td>Pausa pro café antes de embarcar no próximo vô...</td>\n",
       "      <td>NaN</td>\n",
       "      <td>NaN</td>\n",
       "      <td>32.898349</td>\n",
       "      <td>-97.039196</td>\n",
       "      <td>US</td>\n",
       "      <td>Grapevine, TX</td>\n",
       "      <td>http://pbs.twimg.com/profile_images/7041760340...</td>\n",
       "      <td>812.0</td>\n",
       "      <td>647.0</td>\n",
       "      <td>16.0</td>\n",
       "      <td>pt</td>\n",
       "      <td>http://www.twitter.com/danipolis/status/721318...</td>\n",
       "    </tr>\n",
       "    <tr>\n",
       "      <td>2</td>\n",
       "      <td>721318434169102000</td>\n",
       "      <td>42476</td>\n",
       "      <td>0.530556</td>\n",
       "      <td>Kasey Jacobs</td>\n",
       "      <td>KJacobs27</td>\n",
       "      <td>Norwich University Class of 2017</td>\n",
       "      <td>Good. Morning. #morning #Saturday #diner #VT #...</td>\n",
       "      <td>NaN</td>\n",
       "      <td>NaN</td>\n",
       "      <td>44.199476</td>\n",
       "      <td>-72.504173</td>\n",
       "      <td>US</td>\n",
       "      <td>Barre, VT</td>\n",
       "      <td>http://pbs.twimg.com/profile_images/7169585649...</td>\n",
       "      <td>179.0</td>\n",
       "      <td>206.0</td>\n",
       "      <td>2.0</td>\n",
       "      <td>en</td>\n",
       "      <td>http://www.twitter.com/KJacobs27/status/721318...</td>\n",
       "    </tr>\n",
       "    <tr>\n",
       "      <td>3</td>\n",
       "      <td>721318429844582000</td>\n",
       "      <td>42476</td>\n",
       "      <td>0.530556</td>\n",
       "      <td>Stan Curtis</td>\n",
       "      <td>stncurtis</td>\n",
       "      <td>transcendental music, art for art's sake, craf...</td>\n",
       "      <td>@gratefuldead recordstoredayus ______ @ TOMS M...</td>\n",
       "      <td>NaN</td>\n",
       "      <td>NaN</td>\n",
       "      <td>39.901474</td>\n",
       "      <td>-76.606817</td>\n",
       "      <td>US</td>\n",
       "      <td>Red Lion, PA</td>\n",
       "      <td>http://pbs.twimg.com/profile_images/6962528246...</td>\n",
       "      <td>1229.0</td>\n",
       "      <td>2071.0</td>\n",
       "      <td>11.0</td>\n",
       "      <td>en</td>\n",
       "      <td>http://www.twitter.com/stncurtis/status/721318...</td>\n",
       "    </tr>\n",
       "    <tr>\n",
       "      <td>4</td>\n",
       "      <td>721318429081407000</td>\n",
       "      <td>42476</td>\n",
       "      <td>0.530556</td>\n",
       "      <td>Dave Borzymowski</td>\n",
       "      <td>wi_borzo</td>\n",
       "      <td>When in doubt....Panic.</td>\n",
       "      <td>Egg in a muffin!!! (@ Rocket Baby Bakery - @ro...</td>\n",
       "      <td>NaN</td>\n",
       "      <td>NaN</td>\n",
       "      <td>43.060849</td>\n",
       "      <td>-87.998309</td>\n",
       "      <td>US</td>\n",
       "      <td>Wauwatosa, WI</td>\n",
       "      <td>http://pbs.twimg.com/profile_images/6595279129...</td>\n",
       "      <td>129.0</td>\n",
       "      <td>833.0</td>\n",
       "      <td>9.0</td>\n",
       "      <td>en</td>\n",
       "      <td>http://www.twitter.com/wi_borzo/status/7213184...</td>\n",
       "    </tr>\n",
       "  </tbody>\n",
       "</table>\n",
       "</div>"
      ],
      "text/plain": [
       "             Tweet Id   Date      Hour         User Name       Nickname  \\\n",
       "0  721318437075685000  42476  0.530556    Bill Schulhoff  BillSchulhoff   \n",
       "1  721318436173979000  42476  0.530556     Daniele Polis      danipolis   \n",
       "2  721318434169102000  42476  0.530556      Kasey Jacobs      KJacobs27   \n",
       "3  721318429844582000  42476  0.530556       Stan Curtis      stncurtis   \n",
       "4  721318429081407000  42476  0.530556  Dave Borzymowski       wi_borzo   \n",
       "\n",
       "                                                 Bio  \\\n",
       "0  Husband,Dad,GrandDad,Ordained Minister, Umpire...   \n",
       "1  Viagens, geek, moda, batons laranja, cabelos c...   \n",
       "2                   Norwich University Class of 2017   \n",
       "3  transcendental music, art for art's sake, craf...   \n",
       "4                            When in doubt....Panic.   \n",
       "\n",
       "                                       Tweet content  Favs  RTs   Latitude  \\\n",
       "0  Wind 3.2 mph NNE. Barometer 30.20 in, Rising s...   NaN  NaN  40.760278   \n",
       "1  Pausa pro café antes de embarcar no próximo vô...   NaN  NaN  32.898349   \n",
       "2  Good. Morning. #morning #Saturday #diner #VT #...   NaN  NaN  44.199476   \n",
       "3  @gratefuldead recordstoredayus ______ @ TOMS M...   NaN  NaN  39.901474   \n",
       "4  Egg in a muffin!!! (@ Rocket Baby Bakery - @ro...   NaN  NaN  43.060849   \n",
       "\n",
       "   Longitude Country Place (as appears on Bio)  \\\n",
       "0 -72.954722      US        East Patchogue, NY   \n",
       "1 -97.039196      US             Grapevine, TX   \n",
       "2 -72.504173      US                 Barre, VT   \n",
       "3 -76.606817      US              Red Lion, PA   \n",
       "4 -87.998309      US             Wauwatosa, WI   \n",
       "\n",
       "                                     Profile picture  Followers  Following  \\\n",
       "0  http://pbs.twimg.com/profile_images/3788000007...      386.0      705.0   \n",
       "1  http://pbs.twimg.com/profile_images/7041760340...      812.0      647.0   \n",
       "2  http://pbs.twimg.com/profile_images/7169585649...      179.0      206.0   \n",
       "3  http://pbs.twimg.com/profile_images/6962528246...     1229.0     2071.0   \n",
       "4  http://pbs.twimg.com/profile_images/6595279129...      129.0      833.0   \n",
       "\n",
       "   Listed Tweet language (ISO 639-1)  \\\n",
       "0    24.0                         en   \n",
       "1    16.0                         pt   \n",
       "2     2.0                         en   \n",
       "3    11.0                         en   \n",
       "4     9.0                         en   \n",
       "\n",
       "                                           Tweet Url  \n",
       "0  http://www.twitter.com/BillSchulhoff/status/72...  \n",
       "1  http://www.twitter.com/danipolis/status/721318...  \n",
       "2  http://www.twitter.com/KJacobs27/status/721318...  \n",
       "3  http://www.twitter.com/stncurtis/status/721318...  \n",
       "4  http://www.twitter.com/wi_borzo/status/7213184...  "
      ]
     },
     "execution_count": 55,
     "metadata": {},
     "output_type": "execute_result"
    },
    {
     "data": {
      "text/plain": [
       "(13409, 19)"
      ]
     },
     "execution_count": 55,
     "metadata": {},
     "output_type": "execute_result"
    }
   ],
   "source": [
    "#read in file and save first 13409 lines into a dataframe\n",
    "misc = pd.read_csv('../data/stream.csv').head(13409)\n",
    "#show shape of df\n",
    "misc.head()\n",
    "misc.shape"
   ]
  },
  {
   "cell_type": "markdown",
   "metadata": {},
   "source": [
    "Similar to the Trump set, we'll now add a code to these tweets that indicates they were *not* made by Trump:"
   ]
  },
  {
   "cell_type": "code",
   "execution_count": 57,
   "metadata": {},
   "outputs": [
    {
     "data": {
      "text/html": [
       "<div>\n",
       "<style scoped>\n",
       "    .dataframe tbody tr th:only-of-type {\n",
       "        vertical-align: middle;\n",
       "    }\n",
       "\n",
       "    .dataframe tbody tr th {\n",
       "        vertical-align: top;\n",
       "    }\n",
       "\n",
       "    .dataframe thead th {\n",
       "        text-align: right;\n",
       "    }\n",
       "</style>\n",
       "<table border=\"1\" class=\"dataframe\">\n",
       "  <thead>\n",
       "    <tr style=\"text-align: right;\">\n",
       "      <th></th>\n",
       "      <th>Tweet Id</th>\n",
       "      <th>Date</th>\n",
       "      <th>Hour</th>\n",
       "      <th>User Name</th>\n",
       "      <th>Nickname</th>\n",
       "      <th>Bio</th>\n",
       "      <th>Tweet content</th>\n",
       "      <th>Favs</th>\n",
       "      <th>RTs</th>\n",
       "      <th>Latitude</th>\n",
       "      <th>Longitude</th>\n",
       "      <th>Country</th>\n",
       "      <th>Place (as appears on Bio)</th>\n",
       "      <th>Profile picture</th>\n",
       "      <th>Followers</th>\n",
       "      <th>Following</th>\n",
       "      <th>Listed</th>\n",
       "      <th>Tweet language (ISO 639-1)</th>\n",
       "      <th>Tweet Url</th>\n",
       "      <th>code</th>\n",
       "    </tr>\n",
       "  </thead>\n",
       "  <tbody>\n",
       "    <tr>\n",
       "      <td>0</td>\n",
       "      <td>721318437075685000</td>\n",
       "      <td>42476</td>\n",
       "      <td>0.530556</td>\n",
       "      <td>Bill Schulhoff</td>\n",
       "      <td>BillSchulhoff</td>\n",
       "      <td>Husband,Dad,GrandDad,Ordained Minister, Umpire...</td>\n",
       "      <td>Wind 3.2 mph NNE. Barometer 30.20 in, Rising s...</td>\n",
       "      <td>NaN</td>\n",
       "      <td>NaN</td>\n",
       "      <td>40.760278</td>\n",
       "      <td>-72.954722</td>\n",
       "      <td>US</td>\n",
       "      <td>East Patchogue, NY</td>\n",
       "      <td>http://pbs.twimg.com/profile_images/3788000007...</td>\n",
       "      <td>386.0</td>\n",
       "      <td>705.0</td>\n",
       "      <td>24.0</td>\n",
       "      <td>en</td>\n",
       "      <td>http://www.twitter.com/BillSchulhoff/status/72...</td>\n",
       "      <td>NT</td>\n",
       "    </tr>\n",
       "    <tr>\n",
       "      <td>1</td>\n",
       "      <td>721318436173979000</td>\n",
       "      <td>42476</td>\n",
       "      <td>0.530556</td>\n",
       "      <td>Daniele Polis</td>\n",
       "      <td>danipolis</td>\n",
       "      <td>Viagens, geek, moda, batons laranja, cabelos c...</td>\n",
       "      <td>Pausa pro café antes de embarcar no próximo vô...</td>\n",
       "      <td>NaN</td>\n",
       "      <td>NaN</td>\n",
       "      <td>32.898349</td>\n",
       "      <td>-97.039196</td>\n",
       "      <td>US</td>\n",
       "      <td>Grapevine, TX</td>\n",
       "      <td>http://pbs.twimg.com/profile_images/7041760340...</td>\n",
       "      <td>812.0</td>\n",
       "      <td>647.0</td>\n",
       "      <td>16.0</td>\n",
       "      <td>pt</td>\n",
       "      <td>http://www.twitter.com/danipolis/status/721318...</td>\n",
       "      <td>NT</td>\n",
       "    </tr>\n",
       "    <tr>\n",
       "      <td>2</td>\n",
       "      <td>721318434169102000</td>\n",
       "      <td>42476</td>\n",
       "      <td>0.530556</td>\n",
       "      <td>Kasey Jacobs</td>\n",
       "      <td>KJacobs27</td>\n",
       "      <td>Norwich University Class of 2017</td>\n",
       "      <td>Good. Morning. #morning #Saturday #diner #VT #...</td>\n",
       "      <td>NaN</td>\n",
       "      <td>NaN</td>\n",
       "      <td>44.199476</td>\n",
       "      <td>-72.504173</td>\n",
       "      <td>US</td>\n",
       "      <td>Barre, VT</td>\n",
       "      <td>http://pbs.twimg.com/profile_images/7169585649...</td>\n",
       "      <td>179.0</td>\n",
       "      <td>206.0</td>\n",
       "      <td>2.0</td>\n",
       "      <td>en</td>\n",
       "      <td>http://www.twitter.com/KJacobs27/status/721318...</td>\n",
       "      <td>NT</td>\n",
       "    </tr>\n",
       "    <tr>\n",
       "      <td>3</td>\n",
       "      <td>721318429844582000</td>\n",
       "      <td>42476</td>\n",
       "      <td>0.530556</td>\n",
       "      <td>Stan Curtis</td>\n",
       "      <td>stncurtis</td>\n",
       "      <td>transcendental music, art for art's sake, craf...</td>\n",
       "      <td>@gratefuldead recordstoredayus ______ @ TOMS M...</td>\n",
       "      <td>NaN</td>\n",
       "      <td>NaN</td>\n",
       "      <td>39.901474</td>\n",
       "      <td>-76.606817</td>\n",
       "      <td>US</td>\n",
       "      <td>Red Lion, PA</td>\n",
       "      <td>http://pbs.twimg.com/profile_images/6962528246...</td>\n",
       "      <td>1229.0</td>\n",
       "      <td>2071.0</td>\n",
       "      <td>11.0</td>\n",
       "      <td>en</td>\n",
       "      <td>http://www.twitter.com/stncurtis/status/721318...</td>\n",
       "      <td>NT</td>\n",
       "    </tr>\n",
       "    <tr>\n",
       "      <td>4</td>\n",
       "      <td>721318429081407000</td>\n",
       "      <td>42476</td>\n",
       "      <td>0.530556</td>\n",
       "      <td>Dave Borzymowski</td>\n",
       "      <td>wi_borzo</td>\n",
       "      <td>When in doubt....Panic.</td>\n",
       "      <td>Egg in a muffin!!! (@ Rocket Baby Bakery - @ro...</td>\n",
       "      <td>NaN</td>\n",
       "      <td>NaN</td>\n",
       "      <td>43.060849</td>\n",
       "      <td>-87.998309</td>\n",
       "      <td>US</td>\n",
       "      <td>Wauwatosa, WI</td>\n",
       "      <td>http://pbs.twimg.com/profile_images/6595279129...</td>\n",
       "      <td>129.0</td>\n",
       "      <td>833.0</td>\n",
       "      <td>9.0</td>\n",
       "      <td>en</td>\n",
       "      <td>http://www.twitter.com/wi_borzo/status/7213184...</td>\n",
       "      <td>NT</td>\n",
       "    </tr>\n",
       "  </tbody>\n",
       "</table>\n",
       "</div>"
      ],
      "text/plain": [
       "             Tweet Id   Date      Hour         User Name       Nickname  \\\n",
       "0  721318437075685000  42476  0.530556    Bill Schulhoff  BillSchulhoff   \n",
       "1  721318436173979000  42476  0.530556     Daniele Polis      danipolis   \n",
       "2  721318434169102000  42476  0.530556      Kasey Jacobs      KJacobs27   \n",
       "3  721318429844582000  42476  0.530556       Stan Curtis      stncurtis   \n",
       "4  721318429081407000  42476  0.530556  Dave Borzymowski       wi_borzo   \n",
       "\n",
       "                                                 Bio  \\\n",
       "0  Husband,Dad,GrandDad,Ordained Minister, Umpire...   \n",
       "1  Viagens, geek, moda, batons laranja, cabelos c...   \n",
       "2                   Norwich University Class of 2017   \n",
       "3  transcendental music, art for art's sake, craf...   \n",
       "4                            When in doubt....Panic.   \n",
       "\n",
       "                                       Tweet content  Favs  RTs   Latitude  \\\n",
       "0  Wind 3.2 mph NNE. Barometer 30.20 in, Rising s...   NaN  NaN  40.760278   \n",
       "1  Pausa pro café antes de embarcar no próximo vô...   NaN  NaN  32.898349   \n",
       "2  Good. Morning. #morning #Saturday #diner #VT #...   NaN  NaN  44.199476   \n",
       "3  @gratefuldead recordstoredayus ______ @ TOMS M...   NaN  NaN  39.901474   \n",
       "4  Egg in a muffin!!! (@ Rocket Baby Bakery - @ro...   NaN  NaN  43.060849   \n",
       "\n",
       "   Longitude Country Place (as appears on Bio)  \\\n",
       "0 -72.954722      US        East Patchogue, NY   \n",
       "1 -97.039196      US             Grapevine, TX   \n",
       "2 -72.504173      US                 Barre, VT   \n",
       "3 -76.606817      US              Red Lion, PA   \n",
       "4 -87.998309      US             Wauwatosa, WI   \n",
       "\n",
       "                                     Profile picture  Followers  Following  \\\n",
       "0  http://pbs.twimg.com/profile_images/3788000007...      386.0      705.0   \n",
       "1  http://pbs.twimg.com/profile_images/7041760340...      812.0      647.0   \n",
       "2  http://pbs.twimg.com/profile_images/7169585649...      179.0      206.0   \n",
       "3  http://pbs.twimg.com/profile_images/6962528246...     1229.0     2071.0   \n",
       "4  http://pbs.twimg.com/profile_images/6595279129...      129.0      833.0   \n",
       "\n",
       "   Listed Tweet language (ISO 639-1)  \\\n",
       "0    24.0                         en   \n",
       "1    16.0                         pt   \n",
       "2     2.0                         en   \n",
       "3    11.0                         en   \n",
       "4     9.0                         en   \n",
       "\n",
       "                                           Tweet Url code  \n",
       "0  http://www.twitter.com/BillSchulhoff/status/72...   NT  \n",
       "1  http://www.twitter.com/danipolis/status/721318...   NT  \n",
       "2  http://www.twitter.com/KJacobs27/status/721318...   NT  \n",
       "3  http://www.twitter.com/stncurtis/status/721318...   NT  \n",
       "4  http://www.twitter.com/wi_borzo/status/7213184...   NT  "
      ]
     },
     "execution_count": 57,
     "metadata": {},
     "output_type": "execute_result"
    }
   ],
   "source": [
    "misc['code'] = 'NT'\n",
    "misc.head()"
   ]
  },
  {
   "cell_type": "markdown",
   "metadata": {},
   "source": [
    "Next we will drop all of the rows we will not need like we did before:"
   ]
  },
  {
   "cell_type": "code",
   "execution_count": 58,
   "metadata": {},
   "outputs": [
    {
     "data": {
      "text/html": [
       "<div>\n",
       "<style scoped>\n",
       "    .dataframe tbody tr th:only-of-type {\n",
       "        vertical-align: middle;\n",
       "    }\n",
       "\n",
       "    .dataframe tbody tr th {\n",
       "        vertical-align: top;\n",
       "    }\n",
       "\n",
       "    .dataframe thead th {\n",
       "        text-align: right;\n",
       "    }\n",
       "</style>\n",
       "<table border=\"1\" class=\"dataframe\">\n",
       "  <thead>\n",
       "    <tr style=\"text-align: right;\">\n",
       "      <th></th>\n",
       "      <th>Tweet content</th>\n",
       "      <th>code</th>\n",
       "    </tr>\n",
       "  </thead>\n",
       "  <tbody>\n",
       "    <tr>\n",
       "      <td>0</td>\n",
       "      <td>Wind 3.2 mph NNE. Barometer 30.20 in, Rising s...</td>\n",
       "      <td>NT</td>\n",
       "    </tr>\n",
       "    <tr>\n",
       "      <td>1</td>\n",
       "      <td>Pausa pro café antes de embarcar no próximo vô...</td>\n",
       "      <td>NT</td>\n",
       "    </tr>\n",
       "    <tr>\n",
       "      <td>2</td>\n",
       "      <td>Good. Morning. #morning #Saturday #diner #VT #...</td>\n",
       "      <td>NT</td>\n",
       "    </tr>\n",
       "    <tr>\n",
       "      <td>3</td>\n",
       "      <td>@gratefuldead recordstoredayus ______ @ TOMS M...</td>\n",
       "      <td>NT</td>\n",
       "    </tr>\n",
       "    <tr>\n",
       "      <td>4</td>\n",
       "      <td>Egg in a muffin!!! (@ Rocket Baby Bakery - @ro...</td>\n",
       "      <td>NT</td>\n",
       "    </tr>\n",
       "  </tbody>\n",
       "</table>\n",
       "</div>"
      ],
      "text/plain": [
       "                                       Tweet content code\n",
       "0  Wind 3.2 mph NNE. Barometer 30.20 in, Rising s...   NT\n",
       "1  Pausa pro café antes de embarcar no próximo vô...   NT\n",
       "2  Good. Morning. #morning #Saturday #diner #VT #...   NT\n",
       "3  @gratefuldead recordstoredayus ______ @ TOMS M...   NT\n",
       "4  Egg in a muffin!!! (@ Rocket Baby Bakery - @ro...   NT"
      ]
     },
     "execution_count": 58,
     "metadata": {},
     "output_type": "execute_result"
    }
   ],
   "source": [
    "misc = misc[['Tweet content', 'code']]\n",
    "misc.head()"
   ]
  },
  {
   "cell_type": "markdown",
   "metadata": {},
   "source": [
    "Finally we will rename the content column so it is uniform with the Trump dataframe:"
   ]
  },
  {
   "cell_type": "code",
   "execution_count": 60,
   "metadata": {
    "scrolled": true
   },
   "outputs": [
    {
     "data": {
      "text/html": [
       "<div>\n",
       "<style scoped>\n",
       "    .dataframe tbody tr th:only-of-type {\n",
       "        vertical-align: middle;\n",
       "    }\n",
       "\n",
       "    .dataframe tbody tr th {\n",
       "        vertical-align: top;\n",
       "    }\n",
       "\n",
       "    .dataframe thead th {\n",
       "        text-align: right;\n",
       "    }\n",
       "</style>\n",
       "<table border=\"1\" class=\"dataframe\">\n",
       "  <thead>\n",
       "    <tr style=\"text-align: right;\">\n",
       "      <th></th>\n",
       "      <th>text</th>\n",
       "      <th>code</th>\n",
       "    </tr>\n",
       "  </thead>\n",
       "  <tbody>\n",
       "    <tr>\n",
       "      <td>0</td>\n",
       "      <td>Wind 3.2 mph NNE. Barometer 30.20 in, Rising s...</td>\n",
       "      <td>NT</td>\n",
       "    </tr>\n",
       "    <tr>\n",
       "      <td>1</td>\n",
       "      <td>Pausa pro café antes de embarcar no próximo vô...</td>\n",
       "      <td>NT</td>\n",
       "    </tr>\n",
       "    <tr>\n",
       "      <td>2</td>\n",
       "      <td>Good. Morning. #morning #Saturday #diner #VT #...</td>\n",
       "      <td>NT</td>\n",
       "    </tr>\n",
       "    <tr>\n",
       "      <td>3</td>\n",
       "      <td>@gratefuldead recordstoredayus ______ @ TOMS M...</td>\n",
       "      <td>NT</td>\n",
       "    </tr>\n",
       "    <tr>\n",
       "      <td>4</td>\n",
       "      <td>Egg in a muffin!!! (@ Rocket Baby Bakery - @ro...</td>\n",
       "      <td>NT</td>\n",
       "    </tr>\n",
       "  </tbody>\n",
       "</table>\n",
       "</div>"
      ],
      "text/plain": [
       "                                                text code\n",
       "0  Wind 3.2 mph NNE. Barometer 30.20 in, Rising s...   NT\n",
       "1  Pausa pro café antes de embarcar no próximo vô...   NT\n",
       "2  Good. Morning. #morning #Saturday #diner #VT #...   NT\n",
       "3  @gratefuldead recordstoredayus ______ @ TOMS M...   NT\n",
       "4  Egg in a muffin!!! (@ Rocket Baby Bakery - @ro...   NT"
      ]
     },
     "execution_count": 60,
     "metadata": {},
     "output_type": "execute_result"
    }
   ],
   "source": [
    "misc.columns = ['text', 'code']\n",
    "misc.head()"
   ]
  },
  {
   "cell_type": "markdown",
   "metadata": {},
   "source": [
    "Beautiful. Now we have two separate dataframes of tweets: one set is comprised of exclusively Trump tweets and the other is comprised of a set of random tweets. Both dataframes contain only the tweet content and an indicator code identifying whether or not the tweet was made by Trump. Now that our data is in this format, we can add them into one large dataframe:"
   ]
  },
  {
   "cell_type": "code",
   "execution_count": 61,
   "metadata": {},
   "outputs": [
    {
     "data": {
      "text/plain": [
       "(26818, 2)"
      ]
     },
     "execution_count": 61,
     "metadata": {},
     "output_type": "execute_result"
    }
   ],
   "source": [
    "both = pd.concat([trump, misc])\n",
    "both.shape"
   ]
  },
  {
   "cell_type": "markdown",
   "metadata": {},
   "source": [
    "One final step: we will pickle the data so that it can be reused easily:"
   ]
  },
  {
   "cell_type": "code",
   "execution_count": 75,
   "metadata": {},
   "outputs": [],
   "source": [
    "#pickle final df\n",
    "pd.to_pickle(both, \"../data/all_tweets.pkl\")"
   ]
  },
  {
   "cell_type": "markdown",
   "metadata": {},
   "source": [
    "## Exploratory Data Analysis\n",
    "\n",
    "Now that the data is prepared, we can begin making some determining some more specific characteristics of the data. First, we will look at a summary of the data:"
   ]
  },
  {
   "cell_type": "code",
   "execution_count": 18,
   "metadata": {
    "scrolled": true
   },
   "outputs": [
    {
     "data": {
      "text/html": [
       "<div>\n",
       "<style scoped>\n",
       "    .dataframe tbody tr th:only-of-type {\n",
       "        vertical-align: middle;\n",
       "    }\n",
       "\n",
       "    .dataframe tbody tr th {\n",
       "        vertical-align: top;\n",
       "    }\n",
       "\n",
       "    .dataframe thead th {\n",
       "        text-align: right;\n",
       "    }\n",
       "</style>\n",
       "<table border=\"1\" class=\"dataframe\">\n",
       "  <thead>\n",
       "    <tr style=\"text-align: right;\">\n",
       "      <th></th>\n",
       "      <th>retweet_count</th>\n",
       "      <th>favorite_count</th>\n",
       "      <th>id_str</th>\n",
       "      <th>polarity</th>\n",
       "      <th>subjectivity</th>\n",
       "      <th>year</th>\n",
       "    </tr>\n",
       "  </thead>\n",
       "  <tbody>\n",
       "    <tr>\n",
       "      <td>count</td>\n",
       "      <td>15383.000000</td>\n",
       "      <td>15383.000000</td>\n",
       "      <td>1.538300e+04</td>\n",
       "      <td>15384.000000</td>\n",
       "      <td>15384.000000</td>\n",
       "      <td>15383.000000</td>\n",
       "    </tr>\n",
       "    <tr>\n",
       "      <td>mean</td>\n",
       "      <td>5482.033739</td>\n",
       "      <td>15590.625886</td>\n",
       "      <td>7.114691e+17</td>\n",
       "      <td>0.174146</td>\n",
       "      <td>0.417105</td>\n",
       "      <td>2015.719496</td>\n",
       "    </tr>\n",
       "    <tr>\n",
       "      <td>std</td>\n",
       "      <td>11110.767803</td>\n",
       "      <td>40191.784946</td>\n",
       "      <td>2.868582e+17</td>\n",
       "      <td>0.345875</td>\n",
       "      <td>0.308958</td>\n",
       "      <td>2.212696</td>\n",
       "    </tr>\n",
       "    <tr>\n",
       "      <td>min</td>\n",
       "      <td>0.000000</td>\n",
       "      <td>0.000000</td>\n",
       "      <td>4.629117e+09</td>\n",
       "      <td>-1.000000</td>\n",
       "      <td>0.000000</td>\n",
       "      <td>2009.000000</td>\n",
       "    </tr>\n",
       "    <tr>\n",
       "      <td>25%</td>\n",
       "      <td>27.000000</td>\n",
       "      <td>24.000000</td>\n",
       "      <td>5.431409e+17</td>\n",
       "      <td>0.000000</td>\n",
       "      <td>0.066667</td>\n",
       "      <td>2014.000000</td>\n",
       "    </tr>\n",
       "    <tr>\n",
       "      <td>50%</td>\n",
       "      <td>802.000000</td>\n",
       "      <td>177.000000</td>\n",
       "      <td>6.396227e+17</td>\n",
       "      <td>0.087197</td>\n",
       "      <td>0.466667</td>\n",
       "      <td>2015.000000</td>\n",
       "    </tr>\n",
       "    <tr>\n",
       "      <td>75%</td>\n",
       "      <td>7208.000000</td>\n",
       "      <td>8272.500000</td>\n",
       "      <td>8.240796e+17</td>\n",
       "      <td>0.380170</td>\n",
       "      <td>0.644974</td>\n",
       "      <td>2017.000000</td>\n",
       "    </tr>\n",
       "    <tr>\n",
       "      <td>max</td>\n",
       "      <td>369530.000000</td>\n",
       "      <td>814012.000000</td>\n",
       "      <td>1.230887e+18</td>\n",
       "      <td>1.000000</td>\n",
       "      <td>1.000000</td>\n",
       "      <td>2020.000000</td>\n",
       "    </tr>\n",
       "  </tbody>\n",
       "</table>\n",
       "</div>"
      ],
      "text/plain": [
       "       retweet_count  favorite_count        id_str      polarity  \\\n",
       "count   15383.000000    15383.000000  1.538300e+04  15384.000000   \n",
       "mean     5482.033739    15590.625886  7.114691e+17      0.174146   \n",
       "std     11110.767803    40191.784946  2.868582e+17      0.345875   \n",
       "min         0.000000        0.000000  4.629117e+09     -1.000000   \n",
       "25%        27.000000       24.000000  5.431409e+17      0.000000   \n",
       "50%       802.000000      177.000000  6.396227e+17      0.087197   \n",
       "75%      7208.000000     8272.500000  8.240796e+17      0.380170   \n",
       "max    369530.000000   814012.000000  1.230887e+18      1.000000   \n",
       "\n",
       "       subjectivity          year  \n",
       "count  15384.000000  15383.000000  \n",
       "mean       0.417105   2015.719496  \n",
       "std        0.308958      2.212696  \n",
       "min        0.000000   2009.000000  \n",
       "25%        0.066667   2014.000000  \n",
       "50%        0.466667   2015.000000  \n",
       "75%        0.644974   2017.000000  \n",
       "max        1.000000   2020.000000  "
      ]
     },
     "execution_count": 18,
     "metadata": {},
     "output_type": "execute_result"
    }
   ],
   "source": [
    "#print description of data\n",
    "tweets.describe()"
   ]
  },
  {
   "cell_type": "markdown",
   "metadata": {},
   "source": [
    "Since the average polarity of his tweets is relatively neutral, I would guess that his individual tweets are distributed bimodaly. We can investigate that here:"
   ]
  },
  {
   "cell_type": "code",
   "execution_count": 74,
   "metadata": {
    "scrolled": true
   },
   "outputs": [
    {
     "data": {
      "text/plain": [
       "<matplotlib.axes._subplots.AxesSubplot at 0x1a1c777d90>"
      ]
     },
     "execution_count": 74,
     "metadata": {},
     "output_type": "execute_result"
    },
    {
     "data": {
      "image/png": "[encoded data removed]",
      "text/plain": [
       "<Figure size 432x288 with 1 Axes>"
      ]
     },
     "metadata": {
      "needs_background": "light"
     },
     "output_type": "display_data"
    }
   ],
   "source": [
    "#print box graph of polarities\n",
    "tweets['polarity'].plot(kind='box')"
   ]
  },
  {
   "cell_type": "markdown",
   "metadata": {},
   "source": [
    "Interesting. So the graph tells us that many of the outliers in the data are skewed left. This could also be determined since the median is greater than the mean.\n",
    "\n",
    "Another interesting data point could be seen in his average tweet year, which was 2015.7 (which would be about mid-August that year). We can use the value counts of each year to show the spread:"
   ]
  },
  {
   "cell_type": "code",
   "execution_count": 20,
   "metadata": {
    "scrolled": true
   },
   "outputs": [
    {
     "data": {
      "text/plain": [
       "2015    4999\n",
       "2014    2461\n",
       "2016    2381\n",
       "2020    1665\n",
       "2019    1297\n",
       "2013    1010\n",
       "2017     945\n",
       "2012     301\n",
       "2011     297\n",
       "2010      18\n",
       "2009       9\n",
       "Name: year, dtype: int64"
      ]
     },
     "execution_count": 20,
     "metadata": {},
     "output_type": "execute_result"
    }
   ],
   "source": [
    "#print year counts\n",
    "tweets['year'].value_counts()"
   ]
  },
  {
   "cell_type": "markdown",
   "metadata": {},
   "source": [
    "And here is a graph that represents the data:"
   ]
  },
  {
   "cell_type": "code",
   "execution_count": 21,
   "metadata": {},
   "outputs": [
    {
     "data": {
      "text/plain": [
       "<matplotlib.axes._subplots.AxesSubplot at 0x1a1b9f9d50>"
      ]
     },
     "execution_count": 21,
     "metadata": {},
     "output_type": "execute_result"
    },
    {
     "data": {
      "image/png": "[encoded data removed]",
      "text/plain": [
       "<Figure size 432x288 with 1 Axes>"
      ]
     },
     "metadata": {
      "needs_background": "light"
     },
     "output_type": "display_data"
    }
   ],
   "source": [
    "#print bar graph of year counts\n",
    "tweets['year'].value_counts().plot(kind='bar')"
   ]
  },
  {
   "cell_type": "markdown",
   "metadata": {},
   "source": [
    "Here we can see that the majority of Trump's twitter volume comes from 2015 with 2014 and 2016 following at a distant second. This makes sense since Trump would've been the most active in spreading his ideas while he was running his first presidential campaign.\n",
    "\n",
    "Next, we can investigate the averages of his retweets and likes:"
   ]
  },
  {
   "cell_type": "code",
   "execution_count": 22,
   "metadata": {
    "scrolled": true
   },
   "outputs": [
    {
     "data": {
      "text/plain": [
       "year\n",
       "2009       10.777778\n",
       "2010      267.833333\n",
       "2011      141.309764\n",
       "2012      724.023256\n",
       "2013      158.161386\n",
       "2014      141.877692\n",
       "2015      617.622925\n",
       "2016     7434.606048\n",
       "2017    18290.198942\n",
       "2019    14673.334618\n",
       "2020    15886.820420\n",
       "Name: retweet_count, dtype: float64"
      ]
     },
     "execution_count": 22,
     "metadata": {},
     "output_type": "execute_result"
    }
   ],
   "source": [
    "#print average retweet count by year\n",
    "tweets['retweet_count'].groupby(tweets['year']).mean()"
   ]
  },
  {
   "cell_type": "code",
   "execution_count": 23,
   "metadata": {},
   "outputs": [
    {
     "data": {
      "text/plain": [
       "<matplotlib.axes._subplots.AxesSubplot at 0x103d907d0>"
      ]
     },
     "execution_count": 23,
     "metadata": {},
     "output_type": "execute_result"
    },
    {
     "data": {
      "image/png": "[encoded data removed]",
      "text/plain": [
       "<Figure size 432x288 with 1 Axes>"
      ]
     },
     "metadata": {
      "needs_background": "light"
     },
     "output_type": "display_data"
    }
   ],
   "source": [
    "#print bar graph of retweet averages\n",
    "tweets['retweet_count'].groupby(tweets['year']).mean().plot(kind='bar')"
   ]
  },
  {
   "cell_type": "code",
   "execution_count": 24,
   "metadata": {},
   "outputs": [
    {
     "data": {
      "text/plain": [
       "year\n",
       "2009        6.555556\n",
       "2010      193.833333\n",
       "2011       38.350168\n",
       "2012      373.488372\n",
       "2013      111.052475\n",
       "2014      163.689557\n",
       "2015     1289.534107\n",
       "2016    21184.755145\n",
       "2017    72192.398942\n",
       "2019    33588.303007\n",
       "2020    42351.416216\n",
       "Name: favorite_count, dtype: float64"
      ]
     },
     "execution_count": 24,
     "metadata": {},
     "output_type": "execute_result"
    }
   ],
   "source": [
    "#print average favorites by year\n",
    "tweets['favorite_count'].groupby(tweets['year']).mean()"
   ]
  },
  {
   "cell_type": "code",
   "execution_count": 25,
   "metadata": {
    "scrolled": true
   },
   "outputs": [
    {
     "data": {
      "text/plain": [
       "<matplotlib.axes._subplots.AxesSubplot at 0x1a1bb51750>"
      ]
     },
     "execution_count": 25,
     "metadata": {},
     "output_type": "execute_result"
    },
    {
     "data": {
      "image/png": "[encoded data removed]",
      "text/plain": [
       "<Figure size 432x288 with 1 Axes>"
      ]
     },
     "metadata": {
      "needs_background": "light"
     },
     "output_type": "display_data"
    }
   ],
   "source": [
    "#print bar graph of favorite averages\n",
    "tweets['favorite_count'].groupby(tweets['year']).mean().plot(kind='bar')"
   ]
  },
  {
   "cell_type": "markdown",
   "metadata": {},
   "source": [
    "The patterns we see between retweets and favorites over time are quite similar, which is to be expected of course. The data shows that Donald Trump's twitter became much more popular in 2016 (which is probably because it was the election year), but that 2017 was an exceptionally strong year for the growth of his online brand."
   ]
  },
  {
   "cell_type": "markdown",
   "metadata": {},
   "source": [
    "## Linguistic Analysis"
   ]
  },
  {
   "cell_type": "code",
   "execution_count": 26,
   "metadata": {},
   "outputs": [
    {
     "data": {
      "text/plain": [
       "year\n",
       "2009    0.348758\n",
       "2010    0.492695\n",
       "2011    0.095608\n",
       "2012    0.111262\n",
       "2013    0.194547\n",
       "2014    0.210751\n",
       "2015    0.214405\n",
       "2016    0.146285\n",
       "2017    0.168210\n",
       "2019    0.092055\n",
       "2020    0.114950\n",
       "Name: polarity, dtype: float64"
      ]
     },
     "execution_count": 26,
     "metadata": {},
     "output_type": "execute_result"
    }
   ],
   "source": [
    "#print average polarity by year\n",
    "tweets['polarity'].groupby(tweets['year']).mean()"
   ]
  },
  {
   "cell_type": "markdown",
   "metadata": {},
   "source": [
    "And here is another graph that shows this data:"
   ]
  },
  {
   "cell_type": "code",
   "execution_count": 27,
   "metadata": {},
   "outputs": [
    {
     "data": {
      "text/plain": [
       "<matplotlib.axes._subplots.AxesSubplot at 0x1a1bc9d4d0>"
      ]
     },
     "execution_count": 27,
     "metadata": {},
     "output_type": "execute_result"
    },
    {
     "data": {
      "image/png": "[encoded data removed]",
      "text/plain": [
       "<Figure size 432x288 with 1 Axes>"
      ]
     },
     "metadata": {
      "needs_background": "light"
     },
     "output_type": "display_data"
    }
   ],
   "source": [
    "#show bar graph of average polarity\n",
    "tweets['polarity'].groupby(tweets['year']).mean().plot(kind='bar')"
   ]
  },
  {
   "cell_type": "markdown",
   "metadata": {},
   "source": [
    "Trump, didn't tweet much in 2009 and 2010, but the graph shows that the tweets he did create had the highest average sentiment values. 2011 and 2012 showed the some rather low sentiment, but after a spike in 2013, his sentiment has been on a rather steady decline.\n",
    "\n",
    "We can also do the same for the subgroups we made:"
   ]
  },
  {
   "cell_type": "code",
   "execution_count": 28,
   "metadata": {
    "scrolled": true
   },
   "outputs": [
    {
     "data": {
      "text/plain": [
       "<matplotlib.axes._subplots.AxesSubplot at 0x1a1bd96e10>"
      ]
     },
     "execution_count": 28,
     "metadata": {},
     "output_type": "execute_result"
    },
    {
     "data": {
      "image/png": "[encoded data removed]",
      "text/plain": [
       "<Figure size 432x288 with 1 Axes>"
      ]
     },
     "metadata": {
      "needs_background": "light"
     },
     "output_type": "display_data"
    }
   ],
   "source": [
    "#show bar graph of average polarity for tweets pertaining to russia\n",
    "tweets[russia]['polarity'].groupby(tweets['year']).mean().plot(kind='bar')"
   ]
  },
  {
   "cell_type": "markdown",
   "metadata": {},
   "source": [
    "So it seems that Donald Trump began speaking about Russia much more negatively at the start of his election, though 2019 showed a rather large increase. This was probably because of the Mueller Report."
   ]
  },
  {
   "cell_type": "code",
   "execution_count": 29,
   "metadata": {
    "scrolled": true
   },
   "outputs": [
    {
     "data": {
      "text/plain": [
       "<matplotlib.axes._subplots.AxesSubplot at 0x1a1be8d110>"
      ]
     },
     "execution_count": 29,
     "metadata": {},
     "output_type": "execute_result"
    },
    {
     "data": {
      "image/png": "[encoded data removed]",
      "text/plain": [
       "<Figure size 432x288 with 1 Axes>"
      ]
     },
     "metadata": {
      "needs_background": "light"
     },
     "output_type": "display_data"
    }
   ],
   "source": [
    "#show bar graph of average polarity for tweets pertaining to iran\n",
    "tweets[iran]['polarity'].groupby(tweets['year']).mean().plot(kind='bar')"
   ]
  },
  {
   "cell_type": "markdown",
   "metadata": {},
   "source": [
    "Trump always spoke relatively negatively about Iran, though 2019 was an outlier year. I would guess that 2019 simply did not have enough tweets about Iran to draw a more concrete conclusion, so we can check by seeing how many tweets were made that year:"
   ]
  },
  {
   "cell_type": "code",
   "execution_count": 78,
   "metadata": {
    "scrolled": true
   },
   "outputs": [
    {
     "data": {
      "text/plain": [
       "2020    65\n",
       "2015    64\n",
       "2013    34\n",
       "2014    20\n",
       "2016    20\n",
       "2011    17\n",
       "2012    11\n",
       "2017     9\n",
       "2019     9\n",
       "Name: year, dtype: int64"
      ]
     },
     "execution_count": 78,
     "metadata": {},
     "output_type": "execute_result"
    }
   ],
   "source": [
    "#print number of tweets by year for iran subset\n",
    "tweets[iran]['year'].value_counts()"
   ]
  },
  {
   "cell_type": "markdown",
   "metadata": {},
   "source": [
    "Hmm... nine tweets is certainly not a lot, but it's definitely more than I was expecting. I would suspect that Trump simply didn't have on Iran on his \"shitlist\" (to put it bluntly) much in 2019, as much of the recent conflict there did not develop until January 2020."
   ]
  },
  {
   "cell_type": "code",
   "execution_count": 33,
   "metadata": {},
   "outputs": [
    {
     "data": {
      "text/plain": [
       "<matplotlib.axes._subplots.AxesSubplot at 0x1a1bfbbe50>"
      ]
     },
     "execution_count": 33,
     "metadata": {},
     "output_type": "execute_result"
    },
    {
     "data": {
      "image/png": "[encoded data removed]",
      "text/plain": [
       "<Figure size 432x288 with 1 Axes>"
      ]
     },
     "metadata": {
      "needs_background": "light"
     },
     "output_type": "display_data"
    }
   ],
   "source": [
    "#show bar graph of average polarity for tweets pertaining to north korea\n",
    "tweets[china]['polarity'].groupby(tweets['year']).mean().plot(kind='bar')"
   ]
  },
  {
   "cell_type": "markdown",
   "metadata": {},
   "source": [
    "Here we see that Trump has discussed China negatively for most of his Twitter lifespan, with 2010 being an outlier. I would suspect that there was simply not enough data in 2010 to make it such a strong outlier, so let's investigate that:"
   ]
  },
  {
   "cell_type": "code",
   "execution_count": 76,
   "metadata": {
    "scrolled": true
   },
   "outputs": [
    {
     "data": {
      "text/plain": [
       "2015    135\n",
       "2014     98\n",
       "2013     77\n",
       "2016     75\n",
       "2020     41\n",
       "2017     40\n",
       "2012     34\n",
       "2019     33\n",
       "2011     28\n",
       "2010      1\n",
       "Name: year, dtype: int64"
      ]
     },
     "execution_count": 76,
     "metadata": {},
     "output_type": "execute_result"
    }
   ],
   "source": [
    "#print number of tweets by year for china subset\n",
    "tweets[china]['year'].value_counts()"
   ]
  },
  {
   "cell_type": "markdown",
   "metadata": {},
   "source": [
    "Yes, there is only one tweet from 2010, and so the overall sentiment from that year cannot truely bbe represented.\n",
    "\n",
    "Overall, I would say that much of this is to be expected, especially considering that Trump aligns himself with many values of the Republican Party. I would say the most shocking discovery can be seen in the chart corresponding to his sentiment towards Russia. Not only does it seem that Trump has flipped on his view towards them several times, the fact that he spoke more positively about them the same year as the Mueller Report came out is very interesting. I've gathered from this that Trump chooses his friends whenever it is of benefit for him, and drops them just as easily when convenient."
   ]
  },
  {
   "cell_type": "markdown",
   "metadata": {},
   "source": [
    "## Machine Learning\n",
    "\n",
    "Up until this point, we have simply explored and analyzed the contents of Trump's tweets and how he felt about certain nations using sentiment analysis. In this section, we will create a machine learning model that guesses whether or not a tweet was composed by Donald Trump. To do this, I will use a Multinomial Naive Bayes and use the dataframe that I created in the Data Processing section of the project. In this case, the tweet contents will be the predictor and the indicator code (T or NT) will be the predicted value.\n",
    "\n",
    "I'll also make use of a GridSearchCV when making my pipeline. Not only will this allow me to create various folds that will ensure there are some biases within my training and testing splits, but I can test these splits on multiple different parameters within my pipeline.\n",
    "\n",
    "Because we did this in Homework 4, the following code is adapted from that assignment.\n",
    "\n",
    "First thing we will do is split the data from our machine learning dataframe into two separate series objects:"
   ]
  },
  {
   "cell_type": "code",
   "execution_count": 65,
   "metadata": {},
   "outputs": [],
   "source": [
    "#create series from both df columns\n",
    "text_data = both['text']\n",
    "code_data = both['code']"
   ]
  },
  {
   "cell_type": "markdown",
   "metadata": {},
   "source": [
    "Next we will create our pipeline. The pipeline uses a TfidfVectorizer to convert the text into word count representations and then normalize them. It then uses a MultinomialNB as the actual classifier."
   ]
  },
  {
   "cell_type": "code",
   "execution_count": 66,
   "metadata": {},
   "outputs": [],
   "source": [
    "#create the model pipeline\n",
    "from sklearn.feature_extraction.text import TfidfVectorizer\n",
    "from sklearn.naive_bayes import MultinomialNB\n",
    "from sklearn.pipeline import Pipeline\n",
    "\n",
    "pipe = Pipeline([('tfidf', TfidfVectorizer(max_df=0.5, min_df=2, stop_words='english')), ('mnb', MultinomialNB())])"
   ]
  },
  {
   "cell_type": "markdown",
   "metadata": {},
   "source": [
    "Now I will define the parameters that I want the GridSearchCV to test:"
   ]
  },
  {
   "cell_type": "code",
   "execution_count": 71,
   "metadata": {},
   "outputs": [],
   "source": [
    "#define the parameters\n",
    "params = {\n",
    "        'tfidf__max_features' : (1500, 3000, 4500, 9000),\n",
    "        'mnb__alpha': (1e-2, 1e-3)\n",
    "        }"
   ]
  },
  {
   "cell_type": "markdown",
   "metadata": {},
   "source": [
    "I can now create the actual GridSearchCV object with 5 folds and fit it to the data:"
   ]
  },
  {
   "cell_type": "code",
   "execution_count": 72,
   "metadata": {},
   "outputs": [
    {
     "data": {
      "text/plain": [
       "GridSearchCV(cv=5, error_score='raise-deprecating',\n",
       "             estimator=Pipeline(memory=None,\n",
       "                                steps=[('tfidf',\n",
       "                                        TfidfVectorizer(analyzer='word',\n",
       "                                                        binary=False,\n",
       "                                                        decode_error='strict',\n",
       "                                                        dtype=<class 'numpy.float64'>,\n",
       "                                                        encoding='utf-8',\n",
       "                                                        input='content',\n",
       "                                                        lowercase=True,\n",
       "                                                        max_df=0.5,\n",
       "                                                        max_features=None,\n",
       "                                                        min_df=2,\n",
       "                                                        ngram_range=(1, 1),\n",
       "                                                        norm='l2',\n",
       "                                                        preprocessor=None,\n",
       "                                                        smooth_idf=True,\n",
       "                                                        stop_word...\n",
       "                                                        sublinear_tf=False,\n",
       "                                                        token_pattern='(?u)\\\\b\\\\w\\\\w+\\\\b',\n",
       "                                                        tokenizer=None,\n",
       "                                                        use_idf=True,\n",
       "                                                        vocabulary=None)),\n",
       "                                       ('mnb',\n",
       "                                        MultinomialNB(alpha=1.0,\n",
       "                                                      class_prior=None,\n",
       "                                                      fit_prior=True))],\n",
       "                                verbose=False),\n",
       "             iid='warn', n_jobs=-1,\n",
       "             param_grid={'mnb__alpha': (0.01, 0.001),\n",
       "                         'tfidf__max_features': (1500, 3000, 4500, 9000)},\n",
       "             pre_dispatch='2*n_jobs', refit=True, return_train_score=True,\n",
       "             scoring=None, verbose=0)"
      ]
     },
     "execution_count": 72,
     "metadata": {},
     "output_type": "execute_result"
    }
   ],
   "source": [
    "#create the GridSearch object\n",
    "from sklearn.model_selection import GridSearchCV \n",
    "search = GridSearchCV(pipe, params, cv=5, n_jobs=-1, return_train_score=True)\n",
    "\n",
    "#fit the model\n",
    "search.fit(text_data, code_data)"
   ]
  },
  {
   "cell_type": "markdown",
   "metadata": {},
   "source": [
    "And we can look at the scores with this code:"
   ]
  },
  {
   "cell_type": "code",
   "execution_count": 73,
   "metadata": {},
   "outputs": [
    {
     "name": "stdout",
     "output_type": "stream",
     "text": [
      "Best Results:\n",
      "Score:\n",
      " 0.9283317175031696\n",
      "Parameters:\n",
      "mnb__alpha: 0.01\n",
      "tfidf__max_features: 9000\n",
      "\n",
      "All Results:\n",
      "  param_mnb__alpha param_tfidf__max_features  mean_test_score\n",
      "0             0.01                      1500         0.911179\n",
      "1             0.01                      3000         0.920016\n",
      "2             0.01                      4500         0.923149\n",
      "3             0.01                      9000         0.928332\n",
      "4            0.001                      1500         0.911142\n",
      "5            0.001                      3000         0.919420\n",
      "6            0.001                      4500         0.921844\n",
      "7            0.001                      9000         0.926467\n"
     ]
    }
   ],
   "source": [
    "#view scores\n",
    "from sklearn.metrics import confusion_matrix, accuracy_score\n",
    "print(\"Best Results:\")\n",
    "print(\"Score:\\n\", search.best_score_)\n",
    "print(\"Parameters:\")\n",
    "for param_name in sorted(params.keys()):\n",
    "         print(\"%s: %r\" % (param_name, search.best_params_[param_name]))\n",
    "print(\"\\nAll Results:\")\n",
    "results = pd.DataFrame(search.cv_results_)\n",
    "print(results[['param_mnb__alpha', 'param_tfidf__max_features', 'mean_test_score']])"
   ]
  },
  {
   "cell_type": "markdown",
   "metadata": {},
   "source": [
    "There's a lot of information here, so we can begin our analysis with the best results. A score of about 93% is definitely significant, especially considering our baseline. I've determined that the absolute baseline would be 50% since half of the tweets were from Trump, so if a human were to do this--one who knew absolutely nothing about American politics--they could just guess and expect to be correct half the time.\n",
    "\n",
    "The GridSearchCV predicted the model with four different tfidf parameters and two different mnb parameters, creating eight instances in total. By looking at the outputs, we can see that the accuracy increased as we increased the maximum number of features, but the accuracy was highest with an MultinomialNB alpha value of 0.01."
   ]
  },
  {
   "cell_type": "markdown",
   "metadata": {},
   "source": [
    "## Conclusion\n",
    "The purpose of this project was to analyze the contents of Donald Trumps Twitter in order to draw conclusions about his tweeting habits and his attitude towards various nations and the stories relating to them. We also used his tweets along with a set of tweets from random users in order to create a machine learning model that predicts whether or not a tweet was composed by Trump.\n",
    "\n",
    "#### Exploratory Analysis\n",
    "In this section, we determined that Donald Trump's twitter influence and activity has been growing ever since he joined the platform. In terms of retweets and favorites, Trump's twitter influence increased drastically around the start of his election campaign, and the amount he tweeted also reflects this. I think the most important conclusion here was the stark contrast in the polarity of his tweets, or in other words, the number of outliers that were present. This indicates that Trump uses strong language to both endorse and condemn things.\n",
    "\n",
    "#### Linguistic Analysis\n",
    "In this section, we used sentiment analysis to determine how positively or negatively Trump spoke about three different nations: Russia, Iran, and China. While most of this was expected, the bar graph corresponding to Russia was the most shocking. Donald Trump seemed to be taking the side of Russia up until his election campaign began, then his sentiment completely flipped in the span of a year. Additionally, the drastic increase in 2019 shows that Trump spoke more highly of Russia, which was conventiently during the same time as the Mueller Report... The biggest takeaway here is that Trump seems to use his Twitter influence and strong language to attack his foes and endorse his friends.\n",
    "\n",
    "#### Machine Learning\n",
    "Of all the sections in the project, I felt that this one yielded the most conclusive results. While the others could indicate a myriad of factors at play, this section showed that Trump has a very unique style of Tweeting. My original plan was to compare his Tweets to a single other person's such as Barack Obama or Hillary Clinton, I think being able to pick his tweets out of a larger crowd is much more interesting. While this could probably be done with many people to some degree--everyone has their own style of tweeting and preferred topics to tweet about--an accuracy of 93% is nonetheless quite significant.\n",
    "\n",
    "#### Final Thoughts\n",
    "The most important thing to take away from this project is that politicians have a lot of online influence, and they use this influence to persuade their followers to behave in a certain way. For the rest of us, when we send a tweet, we are not directly affecting anybody. For someone like Trump who is in a powerful political position, what he says and does on Twitter can have a tangible impact on Americans. It is important for us to be aware of this influence and always check those who are in power, because no matter who you are, we are all subject to the 240 character limit."
   ]
  },
  {
   "cell_type": "code",
   "execution_count": null,
   "metadata": {},
   "outputs": [],
   "source": []
  }
 ],
 "metadata": {
  "kernelspec": {
   "display_name": "Python 3",
   "language": "python",
   "name": "python3"
  },
  "language_info": {
   "codemirror_mode": {
    "name": "ipython",
    "version": 3
   },
   "file_extension": ".py",
   "mimetype": "text/x-python",
   "name": "python",
   "nbconvert_exporter": "python",
   "pygments_lexer": "ipython3",
   "version": "3.7.4"
  }
 },
 "nbformat": 4,
 "nbformat_minor": 2
}
